{
  "nbformat": 4,
  "nbformat_minor": 0,
  "metadata": {
    "colab": {
      "provenance": [],
      "collapsed_sections": [
        "z3PFpBabrmr3",
        "t0TdZmCYynlc",
        "QRjQBZCZ0EOr",
        "FtsIDpzG2YAZ",
        "LGkT_XzfgzXE",
        "PPzYc8AXow4T",
        "lqwpg9J67OvM",
        "-Er3gRQHnW0f",
        "q2awif9vobAG",
        "T7S_PpJjo4Iv",
        "NnicSIWMpKBW",
        "EEOERoqOYp0i",
        "ZqROpy46wP7m",
        "7XbdG_inxXo9",
        "xqpGil9hajAO",
        "R6w8hmP0wNQs",
        "d7hM-rJbT03Q",
        "c0YVpgGdAARj"
      ],
      "toc_visible": true,
      "authorship_tag": "ABX9TyMvHF7CTR3Qp+YkNmBjG3ny",
      "include_colab_link": true
    },
    "kernelspec": {
      "name": "python3",
      "display_name": "Python 3"
    },
    "language_info": {
      "name": "python"
    }
  },
  "cells": [
    {
      "cell_type": "markdown",
      "metadata": {
        "id": "view-in-github",
        "colab_type": "text"
      },
      "source": [
        "<a href=\"https://colab.research.google.com/github/SreeramKalluri/Casting_ImageClassification/blob/main/OOPS.ipynb\" target=\"_parent\"><img src=\"https://colab.research.google.com/assets/colab-badge.svg\" alt=\"Open In Colab\"/></a>"
      ]
    },
    {
      "cell_type": "markdown",
      "source": [
        "# Object-oriented programming\n",
        "\n",
        "*  It was developed **as a way to handle the rapidly increasing size and complexity of software systems** and to make it **easier to modify these large and complex systems** over time.\n",
        "* In procedural programming the focus is on **writing functions or procedures which operate on data**. In object-oriented programming the focus is on **the creation of objects which contain both data and functionality together**.\n",
        "* Objects are real world entities. Anything you can describe in this world is an object. Classes on the other hand are not real. They are just a concept. Class is a short form of Classification. A class is a classification of certain objects and it is just a description of the properties and behavior all objects of that classification should possess.\n",
        "\n",
        "* Class is a like a recipe and the object is like the cupcake we bake using it. All cupcakes created from a recipe share similar characteristics like shape, sweetness, etc. But they are all unique as well. One cupcake may have strawberry frosting while another might have vanilla. Similarly, objects of a class share similar characteristics but they differ in their values for those characteristics."
      ],
      "metadata": {
        "id": "l5g3nYgPicbm"
      }
    },
    {
      "cell_type": "markdown",
      "source": [
        "## What is a Class?\n",
        "In Python **every thing is an object**. To create objects we required some Model or Plan or Blue print, which is nothing but class.\n",
        "\n",
        "* We can write a class to represent properties(attributes/states) and actions(behaviour) of object.\n",
        "* Properties can be represented by variables. Actions can be represented by Methods. Hence class contains both variables and methods.\n",
        "* The syntax for creating an object is \"<classname>()\", where <classname> is the name of the class."
      ],
      "metadata": {
        "id": "z3PFpBabrmr3"
      }
    },
    {
      "cell_type": "markdown",
      "source": [
        "### How to define a Class?\n",
        "We can define a class by using **class** keyword and it ends with a colon."
      ],
      "metadata": {
        "id": "cMZY7uPSsRoD"
      }
    },
    {
      "cell_type": "code",
      "execution_count": 1,
      "metadata": {
        "id": "ol8hrMHuq10n"
      },
      "outputs": [],
      "source": [
        "class className:\n",
        "    ''' documentation string '''\n",
        "\n",
        "    # variables: instance,static and local variables.\n",
        "\n",
        "    # methods: instance ,static and class methods."
      ]
    },
    {
      "cell_type": "markdown",
      "source": [
        "Documentation string represents description of the class. Within the class doc string is always optional. We can get doc string by using the following 2 ways."
      ],
      "metadata": {
        "id": "QRZaBaWws5Qx"
      }
    },
    {
      "cell_type": "code",
      "source": [
        "print(className.__doc__)"
      ],
      "metadata": {
        "colab": {
          "base_uri": "https://localhost:8080/"
        },
        "id": "PlpTxN0ms7Xq",
        "outputId": "0ffca348-637a-4f0a-e836-d3f0b6ad6c86"
      },
      "execution_count": 2,
      "outputs": [
        {
          "output_type": "stream",
          "name": "stdout",
          "text": [
            " documentation string \n"
          ]
        }
      ]
    },
    {
      "cell_type": "code",
      "source": [
        "help(className)"
      ],
      "metadata": {
        "colab": {
          "base_uri": "https://localhost:8080/"
        },
        "id": "ieOTC3rGtA-z",
        "outputId": "9b9b28fb-ebd3-41fb-87e2-7b9e66466b58"
      },
      "execution_count": 3,
      "outputs": [
        {
          "output_type": "stream",
          "name": "stdout",
          "text": [
            "Help on class className in module __main__:\n",
            "\n",
            "class className(builtins.object)\n",
            " |  documentation string\n",
            " |  \n",
            " |  Data descriptors defined here:\n",
            " |  \n",
            " |  __dict__\n",
            " |      dictionary for instance variables (if defined)\n",
            " |  \n",
            " |  __weakref__\n",
            " |      list of weak references to the object (if defined)\n",
            "\n"
          ]
        }
      ]
    },
    {
      "cell_type": "code",
      "source": [
        "class Student:\n",
        "    ''' This is student class with required data'''"
      ],
      "metadata": {
        "id": "YDf0dT05tXLl"
      },
      "execution_count": 4,
      "outputs": []
    },
    {
      "cell_type": "code",
      "source": [
        "print(\"Documentation string\\n\",Student.__doc__)"
      ],
      "metadata": {
        "colab": {
          "base_uri": "https://localhost:8080/"
        },
        "id": "XN_hxjqydks6",
        "outputId": "bf7b4934-c511-4e45-cd81-03ff0f51d8ec"
      },
      "execution_count": 5,
      "outputs": [
        {
          "output_type": "stream",
          "name": "stdout",
          "text": [
            "Documentation string\n",
            "  This is student class with required data\n"
          ]
        }
      ]
    },
    {
      "cell_type": "code",
      "source": [
        "help(Student)"
      ],
      "metadata": {
        "colab": {
          "base_uri": "https://localhost:8080/"
        },
        "id": "hfcFeAxudnt3",
        "outputId": "810dc9d9-a454-4b13-fdd3-f9fc724cbff2"
      },
      "execution_count": 6,
      "outputs": [
        {
          "output_type": "stream",
          "name": "stdout",
          "text": [
            "Help on class Student in module __main__:\n",
            "\n",
            "class Student(builtins.object)\n",
            " |  This is student class with required data\n",
            " |  \n",
            " |  Data descriptors defined here:\n",
            " |  \n",
            " |  __dict__\n",
            " |      dictionary for instance variables (if defined)\n",
            " |  \n",
            " |  __weakref__\n",
            " |      list of weak references to the object (if defined)\n",
            "\n"
          ]
        }
      ]
    },
    {
      "cell_type": "code",
      "source": [
        "class student:\n",
        "    '''Example student class'''\n",
        "    def __init__(self, name, rollno, marks): # A Constructor or default __init__ method\n",
        "        self.name = name\n",
        "        self.rollno = rollno\n",
        "        self.marks = marks\n",
        "\n",
        "    def talk(self):\n",
        "        print(\"Name of the student\", self.name)\n",
        "        print(\"Roll number of the student\", self.rollno)\n",
        "        print(\"Marks of a student\", self.marks)"
      ],
      "metadata": {
        "id": "jVhQzfgqw6NK"
      },
      "execution_count": 7,
      "outputs": []
    },
    {
      "cell_type": "markdown",
      "source": [
        "## What is an object?\n",
        "Physical existence of a class is nothing but object. We can create any number of objects for a class.\n",
        "\n",
        "**In Python, everything is an object. Whether it be a turtle, a list, or even an integer, they are all objects.**\n",
        "\n",
        "Programs manipulate those objects either by performing computation with them or by asking them to perform methods.\n",
        "\n",
        "Syntax to Create Object: referencevariable = classname()"
      ],
      "metadata": {
        "id": "t0TdZmCYynlc"
      }
    },
    {
      "cell_type": "markdown",
      "source": [
        "**To be more specific, we say that an object has a state (also called attributes or properties) and a collection of methods (also called behavior) that it can perform.**\n",
        "\n",
        "**The state of an object represents those things that the object knows about itself. For example, as we have seen with turtle objects, each turtle has a state consisting of the turtle’s position, its color, its heading and so on. Each turtle also has the ability to go forward, backward, or turn right or left. Individual turtles are different in that even though they are all turtles, they differ in the specific values of the individual state attributes (maybe they are in a different location or have a different heading).**"
      ],
      "metadata": {
        "id": "07gohHX79mFY"
      }
    },
    {
      "cell_type": "code",
      "source": [
        "# Creation of object\n",
        "s = student('name', 'rollno', 'marks')\n",
        "s"
      ],
      "metadata": {
        "colab": {
          "base_uri": "https://localhost:8080/"
        },
        "id": "Z_uRXPUyy02F",
        "outputId": "20025d61-87e5-4930-d662-01476c8f3bb1"
      },
      "execution_count": 8,
      "outputs": [
        {
          "output_type": "execute_result",
          "data": {
            "text/plain": [
              "<__main__.student at 0x7b0cc270aaa0>"
            ]
          },
          "metadata": {},
          "execution_count": 8
        }
      ]
    },
    {
      "cell_type": "code",
      "source": [
        "# To access the properties of the variables\n",
        "s.name, s.rollno, s.marks"
      ],
      "metadata": {
        "colab": {
          "base_uri": "https://localhost:8080/"
        },
        "id": "aWoz-W-Ed9BK",
        "outputId": "84ec45f0-f36f-4156-cb19-b0de38c2c024"
      },
      "execution_count": 9,
      "outputs": [
        {
          "output_type": "execute_result",
          "data": {
            "text/plain": [
              "('name', 'rollno', 'marks')"
            ]
          },
          "metadata": {},
          "execution_count": 9
        }
      ]
    },
    {
      "cell_type": "markdown",
      "source": [
        "**If two objects look the same and have the same values, can we treat it as a single object?**\n",
        "\n",
        "* Each object is unique and independent of other object. Just like every person, including twins, are unique, so is every object.\n",
        "* All objects have an internal unique id (just like aadhar or green card number). We can check this using the inbuilt id(). The below code will display the unique number associated with the object.\n"
      ],
      "metadata": {
        "id": "XBXHwIDV5Dsu"
      }
    },
    {
      "cell_type": "code",
      "source": [
        "class Mobile:\n",
        "    pass\n",
        "\n",
        "mob1=Mobile()\n",
        "mob2=Mobile()\n",
        "\n",
        "print(id(mob1))\n",
        "print(id(mob2))"
      ],
      "metadata": {
        "colab": {
          "base_uri": "https://localhost:8080/"
        },
        "id": "YvovbQHs5PG2",
        "outputId": "93c4e7c8-ba8d-4ce4-e9e7-d02c8f3bd24e"
      },
      "execution_count": 10,
      "outputs": [
        {
          "output_type": "stream",
          "name": "stdout",
          "text": [
            "135294731988336\n",
            "135294731991216\n"
          ]
        }
      ]
    },
    {
      "cell_type": "markdown",
      "source": [
        "## What is Reference Variable?\n",
        "The variable which can be used to refer object is called reference variable. By using reference variable, we can access properties and methods of object.\n",
        "* Reference variables hold the objects\n",
        "* We can create objects without reference variable as well\n",
        "* An object can have multiple reference variables\n",
        "* Assigning a new reference variable to an existing object does not create a new object"
      ],
      "metadata": {
        "id": "QRjQBZCZ0EOr"
      }
    },
    {
      "cell_type": "code",
      "source": [
        "s = student(\"Durga\",101,80)\n",
        "s.name, s.rollno, s.marks"
      ],
      "metadata": {
        "colab": {
          "base_uri": "https://localhost:8080/"
        },
        "id": "meHbtl7r0I3_",
        "outputId": "d79ec013-eba3-4ca6-aba4-69d427bb2590"
      },
      "execution_count": 11,
      "outputs": [
        {
          "output_type": "execute_result",
          "data": {
            "text/plain": [
              "('Durga', 101, 80)"
            ]
          },
          "metadata": {},
          "execution_count": 11
        }
      ]
    },
    {
      "cell_type": "code",
      "source": [
        "# Calling a method\n",
        "s.talk()"
      ],
      "metadata": {
        "colab": {
          "base_uri": "https://localhost:8080/"
        },
        "id": "7tPz0MAF0ZLM",
        "outputId": "bbb91f19-e92a-454c-a548-2091d45f7a33"
      },
      "execution_count": 12,
      "outputs": [
        {
          "output_type": "stream",
          "name": "stdout",
          "text": [
            "Name of the student Durga\n",
            "Roll number of the student 101\n",
            "Marks of a student 80\n"
          ]
        }
      ]
    },
    {
      "cell_type": "markdown",
      "source": [
        "**How can we create attributes and values for those attributes?**\n",
        "* This can be done by using the . (dot) operator. The syntax for creating attribute and value for that is as below:\n",
        "```\n",
        "reference_variable.attribute_name=value.\n",
        "```\n",
        "* For example, in the below code we are creating two attributes price and brand, and assigning them to the two objects we had created."
      ],
      "metadata": {
        "id": "Bc3XmC7y5n4g"
      }
    },
    {
      "cell_type": "code",
      "source": [
        "class Mobile:\n",
        "    pass\n",
        "\n",
        "mob1=Mobile()\n",
        "mob2=Mobile()\n",
        "\n",
        "mob1.price=20000\n",
        "mob1.brand=\"Apple\"\n",
        "\n",
        "mob2.price=3000\n",
        "mob2.brand=\"Samsung\"\n",
        "\n",
        "\n",
        "print (mob1.brand)\n",
        "print (mob2.brand)"
      ],
      "metadata": {
        "colab": {
          "base_uri": "https://localhost:8080/"
        },
        "id": "HiNK45RN51oD",
        "outputId": "b3c9bc3e-bd09-4721-fc54-fe6ec0e326eb"
      },
      "execution_count": 13,
      "outputs": [
        {
          "output_type": "stream",
          "name": "stdout",
          "text": [
            "Apple\n",
            "Samsung\n"
          ]
        }
      ]
    },
    {
      "cell_type": "markdown",
      "source": [
        "* We can update the value of an existing attribute using the dot operator. For example, the below code will change the ios_version of mob1 object, since the mob1 object already has that attribute.\n",
        "```\n",
        "mob1.ios_version=11\n",
        "```\n",
        "* In python, if we assign a value to a non-existent attribute, it will create that attribute for that object alone. For example, the below code will create an attribute for mob2 object alone.\n",
        "```\n",
        "mob2.android_version=\"Marshmallow\"\n",
        "```"
      ],
      "metadata": {
        "id": "PUVpbALT6l3J"
      }
    },
    {
      "cell_type": "code",
      "source": [
        "class Mobile:\n",
        "    pass\n",
        "\n",
        "mob1=Mobile()\n",
        "mob2=Mobile()\n",
        "\n",
        "mob1.price=20000\n",
        "mob1.brand=\"Apple\"\n",
        "mob1.ios_version=10\n",
        "\n",
        "mob1.ios_version=11\n",
        "\n",
        "mob2.price=3000\n",
        "mob2.brand=\"Samsung\"\n",
        "\n",
        "mob2.android_version=\"Marshmallow\"\n",
        "\n",
        "print(mob1.ios_version)\n",
        "print(mob2.android_version)"
      ],
      "metadata": {
        "colab": {
          "base_uri": "https://localhost:8080/"
        },
        "id": "ozpLoety6xKt",
        "outputId": "f72b7123-76c3-4e54-c92b-42bd4027f5e9"
      },
      "execution_count": 14,
      "outputs": [
        {
          "output_type": "stream",
          "name": "stdout",
          "text": [
            "11\n",
            "Marshmallow\n"
          ]
        }
      ]
    },
    {
      "cell_type": "markdown",
      "source": [
        "* If we try to access a non-existing attribute, we will get an Attribute Error. For example,\n",
        "```\n",
        "print (mob2.ios_version)\n",
        "```"
      ],
      "metadata": {
        "id": "5AhtQQ0F7I_f"
      }
    },
    {
      "cell_type": "code",
      "source": [
        "class Mobile:\n",
        "    pass\n",
        "\n",
        "mob1=Mobile()\n",
        "mob2=Mobile()\n",
        "\n",
        "mob1.price=20000\n",
        "mob1.brand=\"Apple\"\n",
        "mob1.ios_version=10\n",
        "\n",
        "mob2.price=3000\n",
        "mob2.brand=\"Samsung\"\n",
        "\n",
        "print(mob1.ios_version)\n",
        "# print(mob2.ios_version)"
      ],
      "metadata": {
        "colab": {
          "base_uri": "https://localhost:8080/"
        },
        "id": "mdoi8v0e7PgE",
        "outputId": "88071077-e002-49ab-d8ce-baa25ff9a229"
      },
      "execution_count": 15,
      "outputs": [
        {
          "output_type": "stream",
          "name": "stdout",
          "text": [
            "10\n"
          ]
        }
      ]
    },
    {
      "cell_type": "markdown",
      "source": [
        "**The rules for a class attribute are very similar to a variable. You just have to treat reference_variable.attribute_name as a variable.**\n",
        "* Variable_name = value; creates the variable and assigns the value if the variable does not exist already."
      ],
      "metadata": {
        "id": "3Hh1G91W8UHM"
      }
    },
    {
      "cell_type": "code",
      "source": [
        "variable1 = 5"
      ],
      "metadata": {
        "id": "YRPUmDc78XCi"
      },
      "execution_count": 16,
      "outputs": []
    },
    {
      "cell_type": "markdown",
      "source": [
        "* reference_variable.attribute_name = value; creates the attribute and assigns the value if the attribute does not exist already."
      ],
      "metadata": {
        "id": "lgvALaBm8oK6"
      }
    },
    {
      "cell_type": "code",
      "source": [
        "class cls:\n",
        "    pass\n",
        "reference_variable1 = cls()\n",
        "\n",
        "reference_variable1.color = \"Green\""
      ],
      "metadata": {
        "id": "O3LxwVlC8tfL"
      },
      "execution_count": 17,
      "outputs": []
    },
    {
      "cell_type": "markdown",
      "source": [
        "* Variable_name = value updates the the value if the variable exists already."
      ],
      "metadata": {
        "id": "xKXgxeIn8rZU"
      }
    },
    {
      "cell_type": "code",
      "source": [
        "variable1 = 5\n",
        "variable1 = 6"
      ],
      "metadata": {
        "id": "ZIo03d4N85vf"
      },
      "execution_count": 18,
      "outputs": []
    },
    {
      "cell_type": "markdown",
      "source": [
        "* reference_variable.attribute_name = value updates the attribute if the attribute exists already."
      ],
      "metadata": {
        "id": "TlzJAEJR87xe"
      }
    },
    {
      "cell_type": "code",
      "source": [
        "class cls:\n",
        "    pass\n",
        "reference_variable1 = cls()\n",
        "\n",
        "reference_variable1.color = \"Green\"\n",
        "reference_variable1.color = \"Red\""
      ],
      "metadata": {
        "id": "sWQQXFuz8-W4"
      },
      "execution_count": 19,
      "outputs": []
    },
    {
      "cell_type": "markdown",
      "source": [
        "* **Accessing a non-existent variable throws an error, in the same way Accessing a non-existent attribute throws an error**"
      ],
      "metadata": {
        "id": "p6scRZb_9EmF"
      }
    },
    {
      "cell_type": "markdown",
      "source": [
        "* A variable can be assigned to another variable."
      ],
      "metadata": {
        "id": "ywsQx6yP9KWl"
      }
    },
    {
      "cell_type": "code",
      "source": [
        "variable2 = variable1"
      ],
      "metadata": {
        "id": "Hu9hErJm9NF0"
      },
      "execution_count": 20,
      "outputs": []
    },
    {
      "cell_type": "markdown",
      "source": [
        "* The value of an attribute can be assigned to another variable."
      ],
      "metadata": {
        "id": "7eMfZRO-9O0r"
      }
    },
    {
      "cell_type": "code",
      "source": [
        "variable1 = reference_variable1.color"
      ],
      "metadata": {
        "id": "T4trIgTv9Q9X"
      },
      "execution_count": 21,
      "outputs": []
    },
    {
      "cell_type": "markdown",
      "source": [
        "**The best practice is to ensure all objects of a class have the same set of attributes. Very rarely should we create separate set of attributes for different objects.**\n",
        "* The below code will not give an error. However, mob2 will have an attribute ios_versio. This spelling mistake creates a new attribute! Hence be careful when assigning values to attributes of an object."
      ],
      "metadata": {
        "id": "RLgIAae59q9a"
      }
    },
    {
      "cell_type": "code",
      "source": [
        "class Mobile:\n",
        "    pass\n",
        "\n",
        "mob1=Mobile()\n",
        "mob2=Mobile()\n",
        "\n",
        "mob1.price=20000\n",
        "mob1.brand=\"Apple\"\n",
        "mob1.ios_version=11\n",
        "print(mob1.ios_version)\n",
        "\n",
        "mob2.price=3000\n",
        "mob2.brand=\"Apple\"\n",
        "mob2.ios_versio=11\n",
        "print(mob2.ios_versio)\n"
      ],
      "metadata": {
        "colab": {
          "base_uri": "https://localhost:8080/"
        },
        "id": "vhsj6GyG9vXJ",
        "outputId": "98e0e075-94bf-463f-af21-89cadef34da8"
      },
      "execution_count": 22,
      "outputs": [
        {
          "output_type": "stream",
          "name": "stdout",
          "text": [
            "11\n",
            "11\n"
          ]
        }
      ]
    },
    {
      "cell_type": "markdown",
      "source": [
        "1. Analyze the below code snippet and identify how many objects and reference variables will be there at the end of line 9.\n",
        "```\n",
        "class Table:                 #Line1\n",
        "    def __init__(self):      #Line2\n",
        "        self.no_of_legs=4    #Line3\n",
        "        self.glass_top=None  #Line4\n",
        "        self.wooden_top=None #Line5\n",
        "dining_table=Table()         #Line6\n",
        "back_table=Table()           #Line7\n",
        "front_table=back_table       #Line8\n",
        "back_table=dining_table      #Line9\n",
        "```\n",
        "\n",
        "> a) 2 Objects, 4 Reference Variables\n",
        "\n",
        "> b) 2 Objects, 3 Reference Variables\n",
        "\n",
        "> c) 4 Objects, 2 Reference Variables\n",
        "\n",
        "> d) 4 Objects, 3 Reference Variables"
      ],
      "metadata": {
        "id": "VEY74g9HhwUV"
      }
    },
    {
      "cell_type": "code",
      "source": [
        "class Table:                 #Line1\n",
        "    def __init__(self):      #Line2\n",
        "        self.no_of_legs=4    #Line3\n",
        "        self.glass_top=None  #Line4\n",
        "        self.wooden_top=None #Line5\n",
        "dining_table=Table()         #Line6\n",
        "back_table=Table()           #Line7\n",
        "front_table=back_table       #Line8\n",
        "back_table=dining_table      #Line9"
      ],
      "metadata": {
        "id": "qNLoVGaSh4PX"
      },
      "execution_count": 23,
      "outputs": []
    },
    {
      "cell_type": "markdown",
      "source": [
        "2. Analyze the below code snippet and identify how many reference variables refer to object created in Line 7 at the end of Line 11?\n",
        "```\n",
        "class Table:                  #Line1\n",
        "    def __init__(self):       #Line2\n",
        "        self.no_of_legs=4     #Line3\n",
        "        self.glass_top=None   #Line4\n",
        "        self.wooden_top=None  #Line5\n",
        "dining_table=Table()          #Line6\n",
        "back_table=Table()            #Line7\n",
        "front_table=back_table        #Line8\n",
        "back_table=dining_table       #Line9\n",
        "dining_table=front_table      #Line10\n",
        "front_table=back_table        #Line11\n",
        "```\n",
        "\n",
        "> a. 0\n",
        "\n",
        "> b. 1\n",
        "\n",
        "> c. 2"
      ],
      "metadata": {
        "id": "iIHQxQpGiIH0"
      }
    },
    {
      "cell_type": "code",
      "source": [
        "class Table:                  #Line1\n",
        "    def __init__(self):       #Line2\n",
        "        self.no_of_legs=4     #Line3\n",
        "        self.glass_top=None   #Line4\n",
        "        self.wooden_top=None  #Line5\n",
        "dining_table=Table()          #Line6\n",
        "back_table=Table()            #Line7\n",
        "front_table=back_table        #Line8\n",
        "back_table=dining_table       #Line9\n",
        "dining_table=front_table      #Line10\n",
        "front_table=back_table        #Line11"
      ],
      "metadata": {
        "id": "mxJ1EaiViQlt"
      },
      "execution_count": 24,
      "outputs": []
    },
    {
      "cell_type": "markdown",
      "source": [
        "3. Consider the below code snippet: Which among the following statements placed after line 14 will result in an error?\n",
        "\n",
        "\n",
        "\n",
        "```\n",
        "class Table:                         #Line1\n",
        "    def __init__(self):              #Line2\n",
        "        self.no_of_legs=4            #Line3\n",
        "        self.glass_top=None          #Line4\n",
        "        self.wooden_top=None         #Line5\n",
        "    def identify_rate(self):         #Line6\n",
        "        if(self.glass_top==True):    #Line7\n",
        "            rate=20000               #Line8\n",
        "        elif(self.wooden_top==True): #Line9\n",
        "            rate=30000               #Line10\n",
        "        else:                        #Line11\n",
        "            rate=0                   #Line12\n",
        "        return rate                  #Line13\n",
        "dining_table=Table()                 #Line14\n",
        "```\n",
        "\n"
      ],
      "metadata": {
        "id": "uzKlKY4eid_7"
      }
    },
    {
      "cell_type": "code",
      "source": [
        "class Table:                         #Line1\n",
        "    def __init__(self):              #Line2\n",
        "        self.no_of_legs=4            #Line3\n",
        "        self.glass_top=None          #Line4\n",
        "        self.wooden_top=None         #Line5\n",
        "    def identify_rate(self):         #Line6\n",
        "        if(self.glass_top==True):    #Line7\n",
        "            rate=20000               #Line8\n",
        "        elif(self.wooden_top==True): #Line9\n",
        "            rate=30000               #Line10\n",
        "        else:                        #Line11\n",
        "            rate=0                   #Line12\n",
        "        return rate                  #Line13\n",
        "dining_table=Table()                 #Line14"
      ],
      "metadata": {
        "id": "sX0kYHHIinMv"
      },
      "execution_count": 25,
      "outputs": []
    },
    {
      "cell_type": "markdown",
      "source": [
        "## Self Variable\n",
        "* self is the **default variable which is always pointing to current object**\n",
        "* By using self we can access instance variables and instance methods of object.\n",
        "* self should be first parameter inside constructor: *def __init__(self)*\n",
        "* self should be first parameter inside instance methods: *def talk(self):*"
      ],
      "metadata": {
        "id": "FtsIDpzG2YAZ"
      }
    },
    {
      "cell_type": "markdown",
      "source": [
        "1. Within python class to refer current object some varible must be required, which is nothing but self"
      ],
      "metadata": {
        "id": "nYHqkraRYMa4"
      }
    },
    {
      "cell_type": "code",
      "source": [
        "class named:\n",
        "    def __init__(self, name):\n",
        "        self.name = name\n",
        "    def display(self):\n",
        "        print(\"Name is: \", self.name)"
      ],
      "metadata": {
        "id": "z8Fq8eaVYcZM"
      },
      "execution_count": 26,
      "outputs": []
    },
    {
      "cell_type": "code",
      "source": [
        "rvs = named('name')\n",
        "rvs.display()"
      ],
      "metadata": {
        "colab": {
          "base_uri": "https://localhost:8080/"
        },
        "id": "hE65o82Lav1y",
        "outputId": "34bf7f96-2400-4e01-b6a6-1183b79c07e7"
      },
      "execution_count": 27,
      "outputs": [
        {
          "output_type": "stream",
          "name": "stdout",
          "text": [
            "Name is:  name\n"
          ]
        }
      ]
    },
    {
      "cell_type": "markdown",
      "source": [
        "2. 'self' reference variable always pointed to the current object"
      ],
      "metadata": {
        "id": "0ILXbO9Ebz0f"
      }
    },
    {
      "cell_type": "code",
      "source": [
        "class className:\n",
        "    def __init__(self):\n",
        "        '''Class created to check the address of self and object'''\n",
        "        print(\"Address of self: \", id(self))\n",
        "\n",
        "rv = className()\n",
        "print(\"Address of object rv: \",id(rv))"
      ],
      "metadata": {
        "colab": {
          "base_uri": "https://localhost:8080/"
        },
        "id": "EeDuZrle2ma9",
        "outputId": "5f7dfa95-7fb3-424e-c8bc-a0517373f233"
      },
      "execution_count": 28,
      "outputs": [
        {
          "output_type": "stream",
          "name": "stdout",
          "text": [
            "Address of self:  135294731986848\n",
            "Address of object rv:  135294731986848\n"
          ]
        }
      ]
    },
    {
      "cell_type": "code",
      "source": [
        "class className:\n",
        "    def __init__(self):\n",
        "        '''Class created to check the address of self and object'''\n",
        "        print(\"Address of self: \", id(self))\n",
        "\n",
        "rv = className()\n",
        "print(\"Address of object rv: \",id(rv))\n",
        "\n",
        "rv1 = className()\n",
        "print(\"Address of object rv1: \",id(rv1))"
      ],
      "metadata": {
        "colab": {
          "base_uri": "https://localhost:8080/"
        },
        "id": "T2BQwjG7a49G",
        "outputId": "11e1927d-0b42-418a-e9f2-79dd6ccc3321"
      },
      "execution_count": 29,
      "outputs": [
        {
          "output_type": "stream",
          "name": "stdout",
          "text": [
            "Address of self:  135294732289024\n",
            "Address of object rv:  135294732289024\n",
            "Address of self:  135294731986848\n",
            "Address of object rv1:  135294731986848\n"
          ]
        }
      ]
    },
    {
      "cell_type": "markdown",
      "source": [
        "3. The first argument to the constructor(__init__ method) and instance method is always self\n",
        "4. At the time of calling constructor or instance method, we are not required to pass any value to self variable. Internally PVM is responsible to provide value"
      ],
      "metadata": {
        "id": "kZaL0Hn0cKEB"
      }
    },
    {
      "cell_type": "code",
      "source": [
        "class student:\n",
        "    '''Example student class'''\n",
        "    def __init__(self, name, rollno, marks):\n",
        "        self.name = name\n",
        "        self.rollno = rollno\n",
        "        self.marks = marks\n",
        "\n",
        "    def talk(self):\n",
        "        print(\"Name of the student\", self.name)\n",
        "        print(\"Roll number of the student\", self.rollno)\n",
        "        print(\"Marks of a student\", self.marks)\n",
        "\n",
        "rv = student('name', 'rollno', 'marks')\n",
        "rv.talk()"
      ],
      "metadata": {
        "colab": {
          "base_uri": "https://localhost:8080/"
        },
        "id": "FCEVt_MBc7Ep",
        "outputId": "3fc89ebb-0ae9-46c2-c70c-190f9931dab3"
      },
      "execution_count": 30,
      "outputs": [
        {
          "output_type": "stream",
          "name": "stdout",
          "text": [
            "Name of the student name\n",
            "Roll number of the student rollno\n",
            "Marks of a student marks\n"
          ]
        }
      ]
    },
    {
      "cell_type": "code",
      "source": [
        "# rv = student('self', 'name', 'rollno', 'marks')\n",
        "# TypeError: student.__init__() takes 4 positional arguments but 5 were given"
      ],
      "metadata": {
        "id": "bIKzsRN2dGHr"
      },
      "execution_count": 31,
      "outputs": []
    },
    {
      "cell_type": "code",
      "source": [
        "# rv.talk(self)\n",
        "# NameError: name 'self' is not defined"
      ],
      "metadata": {
        "id": "3D_jX8DpdSWf"
      },
      "execution_count": 32,
      "outputs": []
    },
    {
      "cell_type": "markdown",
      "source": [
        "5. The main purpose of self variable within a class is to declare instance variables and to access the values of instance variables\n",
        "6. We cannot use self outside the class to access varibles\n",
        "7. self is not a keyword instead of self we can use any name, but recommended to use self - The self parameter you could choose any other name, but nobody ever does!."
      ],
      "metadata": {
        "id": "QiuEJf3Vd_bk"
      }
    },
    {
      "cell_type": "code",
      "source": [
        "class student:\n",
        "    '''Example student class'''\n",
        "    def __init__(ssalc, name, rollno, marks):\n",
        "        ssalc.name = name\n",
        "        ssalc.rollno = rollno\n",
        "        ssalc.marks = marks\n",
        "\n",
        "    def talk(salc):\n",
        "        print(\"Name of the student\", salc.name)\n",
        "        print(\"Roll number of the student\", salc.rollno)\n",
        "        print(\"Marks of a student\", salc.marks)\n",
        "\n",
        "rv = student('name', 'rollno', 'marks')\n",
        "rv.talk()"
      ],
      "metadata": {
        "colab": {
          "base_uri": "https://localhost:8080/"
        },
        "id": "IXMMyftHeocz",
        "outputId": "3588278e-23b9-4b7f-e867-cc5cb6e0f3a6"
      },
      "execution_count": 33,
      "outputs": [
        {
          "output_type": "stream",
          "name": "stdout",
          "text": [
            "Name of the student name\n",
            "Roll number of the student rollno\n",
            "Marks of a student marks\n"
          ]
        }
      ]
    },
    {
      "cell_type": "markdown",
      "source": [
        "**We can also invoke one method from another using self.**"
      ],
      "metadata": {
        "id": "0sfiLKRyAxXI"
      }
    },
    {
      "cell_type": "code",
      "source": [
        "class Mobile:\n",
        "    def display(self):\n",
        "        print(\"Displaying details\")\n",
        "\n",
        "    def purchase(self):\n",
        "        self.display()\n",
        "        print(\"Calculating price\")\n",
        "\n",
        "Mobile().purchase()"
      ],
      "metadata": {
        "colab": {
          "base_uri": "https://localhost:8080/"
        },
        "id": "AAHP6MTeAzBX",
        "outputId": "3df6baf0-09ed-42cf-aacd-226fa49a379a"
      },
      "execution_count": 34,
      "outputs": [
        {
          "output_type": "stream",
          "name": "stdout",
          "text": [
            "Displaying details\n",
            "Calculating price\n"
          ]
        }
      ]
    },
    {
      "cell_type": "markdown",
      "source": [
        "**In the below code, how does return_product() method know which mobile object we are using?**\n",
        "\n",
        "* Thus self now refers to mob2. For simplicity sake and for better readability we use mob2. return_product() instead of Mobile.return_product(mob2)."
      ],
      "metadata": {
        "id": "VmxPEZn4BmHX"
      }
    },
    {
      "cell_type": "code",
      "source": [
        "class Mobile:\n",
        "    def __init__(self,price,brand):\n",
        "        print (id(self))\n",
        "        self.price = price\n",
        "        self.brand = brand\n",
        "\n",
        "    def return_product(self):\n",
        "        print (id(self))\n",
        "        print (\"Brand being returned is \",self.brand,\" and price is \",self.price)\n",
        "\n",
        "mob1 = Mobile(1000, \"Apple\")\n",
        "print (\"Mobile 1 has id\", id(mob1))\n",
        "\n",
        "mob2=Mobile(2000, \"Samsung\")\n",
        "print (\"Mobile 2 has id\", id(mob2))\n",
        "\n",
        "mob2.return_product()\n",
        "Mobile.return_product(mob2)"
      ],
      "metadata": {
        "colab": {
          "base_uri": "https://localhost:8080/"
        },
        "id": "1yoSUmh9BweY",
        "outputId": "0305cfab-b9a6-45db-b87c-32e1465152c9"
      },
      "execution_count": 35,
      "outputs": [
        {
          "output_type": "stream",
          "name": "stdout",
          "text": [
            "135294731991024\n",
            "Mobile 1 has id 135294731991024\n",
            "135294732295792\n",
            "Mobile 2 has id 135294732295792\n",
            "135294732295792\n",
            "Brand being returned is  Samsung  and price is  2000\n",
            "135294732295792\n",
            "Brand being returned is  Samsung  and price is  2000\n"
          ]
        }
      ]
    },
    {
      "cell_type": "markdown",
      "source": [
        "## Constructor\n",
        "\n",
        "**If a constructor takes parameters then it would be called as parameterized constructor.**\n",
        "\n",
        "1. Constructor is a special method in python.\n",
        "2. The name of the constructor should be __init__(self)"
      ],
      "metadata": {
        "id": "LGkT_XzfgzXE"
      }
    },
    {
      "cell_type": "code",
      "source": [
        "class student:\n",
        "    def __init__(self):\n",
        "        print(\"Constructor\")"
      ],
      "metadata": {
        "id": "2sc3WYSDg3LD"
      },
      "execution_count": 36,
      "outputs": []
    },
    {
      "cell_type": "markdown",
      "source": [
        "3. We are not required to call constructor explicitly(like methods). Constructor will be executed automatically at the time of object creation.\n",
        "4. Based on our requirement we can call constructor explicitly, then it will be executed just like a normal method.\n",
        "5. Per object constructor will be executed only once."
      ],
      "metadata": {
        "id": "48AFHAmMr71S"
      }
    },
    {
      "cell_type": "code",
      "source": [
        "class student:\n",
        "    def __init__(self):\n",
        "        print(\"Constructor execution\")"
      ],
      "metadata": {
        "id": "_qKBLYPFsi8M"
      },
      "execution_count": 37,
      "outputs": []
    },
    {
      "cell_type": "code",
      "source": [
        "s1 = student()\n",
        "s1"
      ],
      "metadata": {
        "colab": {
          "base_uri": "https://localhost:8080/"
        },
        "id": "m7JtzGylsofx",
        "outputId": "8b5a3b40-690b-49aa-c5a6-5c192ec371e1"
      },
      "execution_count": 38,
      "outputs": [
        {
          "output_type": "stream",
          "name": "stdout",
          "text": [
            "Constructor execution\n"
          ]
        },
        {
          "output_type": "execute_result",
          "data": {
            "text/plain": [
              "<__main__.student at 0x7b0cc2754ca0>"
            ]
          },
          "metadata": {},
          "execution_count": 38
        }
      ]
    },
    {
      "cell_type": "code",
      "source": [
        "s1 = student()\n",
        "s2 = student()\n",
        "s3 = student()\n",
        "s1, s2, s3"
      ],
      "metadata": {
        "colab": {
          "base_uri": "https://localhost:8080/"
        },
        "id": "SNpOUOPtsvFQ",
        "outputId": "45705791-ec3c-4d75-89ed-561ca75557ab"
      },
      "execution_count": 39,
      "outputs": [
        {
          "output_type": "stream",
          "name": "stdout",
          "text": [
            "Constructor execution\n",
            "Constructor execution\n",
            "Constructor execution\n"
          ]
        },
        {
          "output_type": "execute_result",
          "data": {
            "text/plain": [
              "(<__main__.student at 0x7b0cc2755960>,\n",
              " <__main__.student at 0x7b0cc2756050>,\n",
              " <__main__.student at 0x7b0cc2755660>)"
            ]
          },
          "metadata": {},
          "execution_count": 39
        }
      ]
    },
    {
      "cell_type": "code",
      "source": [
        "s1.__init__() # Calling constructor just like a method"
      ],
      "metadata": {
        "colab": {
          "base_uri": "https://localhost:8080/"
        },
        "id": "XpCHJGKFs8e2",
        "outputId": "af3eeae0-d8a4-4e29-8853-22d38ed330cf"
      },
      "execution_count": 40,
      "outputs": [
        {
          "output_type": "stream",
          "name": "stdout",
          "text": [
            "Constructor execution\n"
          ]
        }
      ]
    },
    {
      "cell_type": "code",
      "source": [
        "s2.__init__()"
      ],
      "metadata": {
        "colab": {
          "base_uri": "https://localhost:8080/"
        },
        "id": "DkKNua3XtAT3",
        "outputId": "15d7c196-4434-4497-fe36-82d516b06fe4"
      },
      "execution_count": 41,
      "outputs": [
        {
          "output_type": "stream",
          "name": "stdout",
          "text": [
            "Constructor execution\n"
          ]
        }
      ]
    },
    {
      "cell_type": "markdown",
      "source": [
        "6. The main purpose of constructor is to declare and initialize instance variables."
      ],
      "metadata": {
        "id": "iLpYAzDxsjVX"
      }
    },
    {
      "cell_type": "code",
      "source": [
        "class student:\n",
        "    '''Example student class'''\n",
        "    def __init__(self, name, rollno, marks):\n",
        "        # Declaring instance variable\n",
        "        self.name = name\n",
        "        self.rollno = rollno\n",
        "        self.marks = marks\n",
        "\n",
        "    def talk(self):\n",
        "        print(\"Name of the student\", self.name)\n",
        "        print(\"Roll number of the student\", self.rollno)\n",
        "        print(\"Marks of a student\", self.marks)\n",
        "\n",
        "# Initialize instance variable\n",
        "rv = student('name', 'rollno', 'marks')\n",
        "rv.talk()"
      ],
      "metadata": {
        "colab": {
          "base_uri": "https://localhost:8080/"
        },
        "id": "AUsaBdo2tUQz",
        "outputId": "0a6e6568-bd23-4aae-9104-82fed01dee0d"
      },
      "execution_count": 42,
      "outputs": [
        {
          "output_type": "stream",
          "name": "stdout",
          "text": [
            "Name of the student name\n",
            "Roll number of the student rollno\n",
            "Marks of a student marks\n"
          ]
        }
      ]
    },
    {
      "cell_type": "markdown",
      "source": [
        "7. Constructor can take atleast one argument(atleast self)"
      ],
      "metadata": {
        "id": "PvmznLw4uAOS"
      }
    },
    {
      "cell_type": "code",
      "source": [
        "class student:\n",
        "    def __init__():\n",
        "        print(\"Constructor execution\")"
      ],
      "metadata": {
        "id": "QD3FqNFuuCgk"
      },
      "execution_count": 43,
      "outputs": []
    },
    {
      "cell_type": "code",
      "source": [
        "# s1.student()\n",
        "## AttributeError: 'student' object has no attribute 'student'"
      ],
      "metadata": {
        "id": "JkOqeK64uPQ3"
      },
      "execution_count": 44,
      "outputs": []
    },
    {
      "cell_type": "markdown",
      "source": [
        "8. Constructor is optional and if we are not providing any constructor then python will\n",
        "provide default constructor.\n"
      ],
      "metadata": {
        "id": "yA96SFRLuC0m"
      }
    },
    {
      "cell_type": "code",
      "source": [
        "class test:\n",
        "    def method(self):\n",
        "        print(\"A method is created without constructor\")"
      ],
      "metadata": {
        "id": "PQvGOUW8ubnb"
      },
      "execution_count": 45,
      "outputs": []
    },
    {
      "cell_type": "code",
      "source": [
        "t = test()\n",
        "t.method()"
      ],
      "metadata": {
        "colab": {
          "base_uri": "https://localhost:8080/"
        },
        "id": "I6xbJbxtur9h",
        "outputId": "68327bf1-c598-4cf9-a6da-b784f0f08acb"
      },
      "execution_count": 46,
      "outputs": [
        {
          "output_type": "stream",
          "name": "stdout",
          "text": [
            "A method is created without constructor\n"
          ]
        }
      ]
    },
    {
      "cell_type": "markdown",
      "source": [
        "9. Overloading is not applicable for constructors. Hence we cannot define multiple constructors within the same class. If we are trying to define multiple constructors, only latest constructor will be considered"
      ],
      "metadata": {
        "id": "AQgH7CsmucJO"
      }
    },
    {
      "cell_type": "code",
      "source": [
        "# Overloaded methods\n",
        "class test:\n",
        "    def __init__(self):\n",
        "        print(\"No argument constructor\")\n",
        "\n",
        "    def __init__(self, x):\n",
        "        print(\"One argument constructor\")"
      ],
      "metadata": {
        "id": "kJUabKnNv9EW"
      },
      "execution_count": 47,
      "outputs": []
    },
    {
      "cell_type": "code",
      "source": [
        "# t1 = test()\n",
        "## TypeError: test.__init__() missing 1 required positional argument: 'x'"
      ],
      "metadata": {
        "id": "cYqLzIwxwN4Z"
      },
      "execution_count": 48,
      "outputs": []
    },
    {
      "cell_type": "code",
      "source": [
        "t2 = test(10)"
      ],
      "metadata": {
        "colab": {
          "base_uri": "https://localhost:8080/"
        },
        "id": "5lo5FZo4wQ2R",
        "outputId": "ce248e74-34b8-47a5-fd9c-157561fa6ff5"
      },
      "execution_count": 49,
      "outputs": [
        {
          "output_type": "stream",
          "name": "stdout",
          "text": [
            "One argument constructor\n"
          ]
        }
      ]
    },
    {
      "cell_type": "markdown",
      "source": [
        "**Attributes can be created only by using the self variable and the dot operator. Without self we are only creating a local variable and not an attribute.**"
      ],
      "metadata": {
        "id": "9fhrHcJL_MU-"
      }
    },
    {
      "cell_type": "code",
      "source": [
        "class Mobile:\n",
        "    def __init__(self):\n",
        "        print (\"Inside the Mobile constructor\")\n",
        "        self.brand = None\n",
        "        brand = \"Apple\" #This is a local variable.\n",
        "        #Variables without self are local and they dont affect the attributes.\n",
        "\n",
        "        #Local varaibles cannot be accessed outside the init\n",
        "        #Using self creates attributes which are accessible in other methods as well\n",
        "\n",
        "mob1=Mobile()\n",
        "print(mob1.brand)#This does not print Apple\n",
        "#This prints None because brand=Apple creates a local variable and it does not affect the attribute"
      ],
      "metadata": {
        "colab": {
          "base_uri": "https://localhost:8080/"
        },
        "id": "ye5xOAOX_OPU",
        "outputId": "73646ccf-6e42-4324-8a09-e48612a97349"
      },
      "execution_count": 50,
      "outputs": [
        {
          "output_type": "stream",
          "name": "stdout",
          "text": [
            "Inside the Mobile constructor\n",
            "None\n"
          ]
        }
      ]
    },
    {
      "cell_type": "markdown",
      "source": [
        "* We can create behavior in a class by adding functions in a class. However, such functions should have a special parameter called self as the first parameter.\n",
        "* Such functions which describe the behavior are also called as methods. We can invoke the methods using the dot operator as shown.\n",
        "* Even though purchase() is accepting a parameter called self, we need not pass it when we invoke it."
      ],
      "metadata": {
        "id": "9iGYH8zi_oWP"
      }
    },
    {
      "cell_type": "code",
      "source": [
        "class Mobile:\n",
        "    def __init__(self):\n",
        "        print(\"Inside constructor\")\n",
        "\n",
        "    def purchase (self):\n",
        "        print(\"Purchasing a mobile\")\n",
        "\n",
        "mob1=Mobile()\n",
        "mob1.purchase()"
      ],
      "metadata": {
        "colab": {
          "base_uri": "https://localhost:8080/"
        },
        "id": "AMaa4IGO_ttn",
        "outputId": "4c840872-ac20-410f-82fb-009b02489726"
      },
      "execution_count": 51,
      "outputs": [
        {
          "output_type": "stream",
          "name": "stdout",
          "text": [
            "Inside constructor\n",
            "Purchasing a mobile\n"
          ]
        }
      ]
    },
    {
      "cell_type": "markdown",
      "source": [
        "1. Choose the statements which are CORRECT with respect to the below code:\n",
        "\n",
        "```\n",
        "class Employee:\n",
        "    def __init__(self):\n",
        "        self.employee_id = None\n",
        "    def check_eligibility(self):\n",
        "        if(self.employee_id>=9000 and self.employee_id<=10000):\n",
        "            print(\"The employee is eligible for special benefits\")\n",
        "        else:\n",
        "            print(\"The employee is not eligible for special benefits\")\n",
        "emp1=Employee()\n",
        "emp1.employee_id=10000\n",
        "emp1.check_eligibility()\n",
        "emp2=Employee()\n",
        "emp2.employee_id=4500\n",
        "emp2.check_eligibility()\n",
        "```\n",
        "\n",
        "> a. There will be only one employee_id variable created for both the objects - emp1 and emp2\n",
        "\n",
        "> b. There will be two employee_id variables created - one for emp1 and one for emp2\n",
        "\n",
        "> c. When check_eligibility() is invoked on emp1, self refers to emp1\n",
        "\n",
        "> d. When emp2.check_eligibility() is invoked, self.employee_id will have value None\n",
        "\n",
        "> e. When emp2.check_eligibility() is invoked, line 8 will get executed"
      ],
      "metadata": {
        "id": "hbfIWKa_Famg"
      }
    },
    {
      "cell_type": "code",
      "source": [
        "class Employee:\n",
        "    def __init__(self):\n",
        "        self.employee_id = None\n",
        "    def check_eligibility(self):\n",
        "        if(self.employee_id>=9000 and self.employee_id<=10000):\n",
        "            print(\"The employee is eligible for special benefits\")\n",
        "        else:\n",
        "            print(\"The employee is not eligible for special benefits\")\n",
        "emp1=Employee()\n",
        "emp1.employee_id=10000\n",
        "emp1.check_eligibility()\n",
        "emp2=Employee()\n",
        "emp2.employee_id=4500\n",
        "emp2.check_eligibility()"
      ],
      "metadata": {
        "colab": {
          "base_uri": "https://localhost:8080/"
        },
        "id": "OxaaSZMpFW-a",
        "outputId": "30162069-82b9-4015-85b2-38158ccb64ff"
      },
      "execution_count": 52,
      "outputs": [
        {
          "output_type": "stream",
          "name": "stdout",
          "text": [
            "The employee is eligible for special benefits\n",
            "The employee is not eligible for special benefits\n"
          ]
        }
      ]
    },
    {
      "cell_type": "markdown",
      "source": [
        "2. What is the output of the below code snippet?\n",
        "\n",
        "\n",
        "```\n",
        "class Example:\n",
        "    def __init__(self,num):\n",
        "        self.num=num\n",
        "\n",
        "    def set_num(self,num):\n",
        "        self.num=num\n",
        "\n",
        "    def get_num(self):\n",
        "        return self.num\n",
        "obj=Example(10)\n",
        "print(obj.get_num())\n",
        "obj.set_num(15)\n",
        "print(obj.get_num())\n",
        "```\n",
        "\n",
        "\n",
        "\n",
        "> a. 10, 10\n",
        "\n",
        "> b. 10, 15\n",
        "\n",
        "> c. Error: constructor cannot accept a value"
      ],
      "metadata": {
        "id": "gjs8z1VQGDq6"
      }
    },
    {
      "cell_type": "code",
      "source": [
        "class Example:\n",
        "    def __init__(self,num):\n",
        "        self.num=num\n",
        "\n",
        "    def set_num(self,num):\n",
        "        self.num=num\n",
        "\n",
        "    def get_num(self):\n",
        "        return self.num\n",
        "obj=Example(10)\n",
        "print(obj.get_num())\n",
        "obj.set_num(15)\n",
        "print(obj.get_num())"
      ],
      "metadata": {
        "colab": {
          "base_uri": "https://localhost:8080/"
        },
        "id": "cW0zdiuNGPbu",
        "outputId": "12e4431c-aba0-4eec-8bd5-806f4beb5782"
      },
      "execution_count": 53,
      "outputs": [
        {
          "output_type": "stream",
          "name": "stdout",
          "text": [
            "10\n",
            "15\n"
          ]
        }
      ]
    },
    {
      "cell_type": "markdown",
      "source": [
        "3. What is the output of the below code snippet?\n",
        "\n",
        "\n",
        "\n",
        "```\n",
        "class Example:\n",
        "    def __init__(self,num):\n",
        "        self.num=num\n",
        "\n",
        "    def set_num(self,num):\n",
        "        num=num\n",
        "\n",
        "    def get_num(self):\n",
        "        return self.num\n",
        "obj=Example(10)\n",
        "print(obj.get_num())\n",
        "obj.set_num(15)\n",
        "print(obj.get_num())\n",
        "```\n",
        "\n",
        "\n",
        "\n",
        "> a. 10, 10\n",
        "\n",
        "> b. 10, 15\n",
        "\n",
        "> c. Error: constructor cannot accept a value"
      ],
      "metadata": {
        "id": "cjamNMYCGVFN"
      }
    },
    {
      "cell_type": "code",
      "source": [
        "class Example:\n",
        "    def __init__(self,num):\n",
        "        self.num=num\n",
        "\n",
        "    def set_num(self,num):\n",
        "        num=num\n",
        "\n",
        "    def get_num(self):\n",
        "        return self.num\n",
        "obj=Example(10)\n",
        "print(obj.get_num())\n",
        "obj.set_num(15)\n",
        "print(obj.get_num())"
      ],
      "metadata": {
        "colab": {
          "base_uri": "https://localhost:8080/"
        },
        "id": "FzhG8npJGbYS",
        "outputId": "d85fd9cc-403d-4862-ab1c-b036b8b5a899"
      },
      "execution_count": 54,
      "outputs": [
        {
          "output_type": "stream",
          "name": "stdout",
          "text": [
            "10\n",
            "10\n"
          ]
        }
      ]
    },
    {
      "cell_type": "markdown",
      "source": [
        "4. What is the output of the following code snippet?\n",
        "\n",
        "\n",
        "\n",
        "```\n",
        "class Customer:\n",
        "    def __init__(self):\n",
        "        cust_id = 100\n",
        "\n",
        "c1=Customer()\n",
        "print(c1.cust_id)\n",
        "```\n",
        "\n",
        "\n",
        "\n",
        "> a. 100\n",
        "\n",
        "> b. Error\n",
        "\n",
        "> c. None"
      ],
      "metadata": {
        "id": "4t1fQDdXGeo6"
      }
    },
    {
      "cell_type": "code",
      "source": [
        "class Customer:\n",
        "    def __init__(self):\n",
        "        cust_id = 100\n",
        "\n",
        "c1=Customer()\n",
        "# print(c1.cust_id)"
      ],
      "metadata": {
        "id": "v0BInat4GpH9"
      },
      "execution_count": 55,
      "outputs": []
    },
    {
      "cell_type": "markdown",
      "source": [
        "5. What is the output of the following code snippet?\n",
        "\n",
        "\n",
        "\n",
        "```\n",
        "class Customer:\n",
        "    def __init__(self):\n",
        "        self.id = 100\n",
        "\n",
        "c1=Customer()\n",
        "print(c1.id)\n",
        "```\n",
        "\n",
        "\n",
        "\n",
        "> a. 100\n",
        "\n",
        "> b. Error\n",
        "\n",
        "> c. None"
      ],
      "metadata": {
        "id": "6WdC1e2bGuqd"
      }
    },
    {
      "cell_type": "code",
      "source": [
        "class Customer:\n",
        "    def __init__(self):\n",
        "        self.id = 100\n",
        "\n",
        "c1=Customer()\n",
        "print(c1.id)\n"
      ],
      "metadata": {
        "colab": {
          "base_uri": "https://localhost:8080/"
        },
        "id": "E4hWlMJ4Gyu3",
        "outputId": "d4bae69e-e245-4e0c-e109-a08389f00d5d"
      },
      "execution_count": 56,
      "outputs": [
        {
          "output_type": "stream",
          "name": "stdout",
          "text": [
            "100\n"
          ]
        }
      ]
    },
    {
      "cell_type": "markdown",
      "source": [
        "6. What is the output of the following code snippet?\n",
        "\n",
        "\n",
        "\n",
        "```\n",
        "class Customer:\n",
        "    def __init__(self,id):\n",
        "        id = 100\n",
        "\n",
        "c1=Customer(200)\n",
        "print(c1.id)\n",
        "```\n",
        "\n",
        "\n",
        "\n",
        "> a. 100\n",
        "\n",
        "> b. Error\n",
        "\n",
        "> c. 200"
      ],
      "metadata": {
        "id": "xeqbm3DBG1fe"
      }
    },
    {
      "cell_type": "code",
      "source": [
        "class Customer:\n",
        "    def __init__(self,id):\n",
        "        id = 100\n",
        "\n",
        "c1=Customer(200)\n",
        "# print(c1.id)"
      ],
      "metadata": {
        "id": "_G8DD8UeG7hk"
      },
      "execution_count": 57,
      "outputs": []
    },
    {
      "cell_type": "markdown",
      "source": [
        "7. What is the output of the following code snippet?\n",
        "\n",
        "\n",
        "\n",
        "```\n",
        "class Customer:\n",
        "    def __init__(self,id1):\n",
        "        self.id = id1\n",
        "\n",
        "c1=Customer(200)\n",
        "print(c1.id1)\n",
        "```\n",
        "\n",
        "\n",
        "\n",
        "> a. 100\n",
        "\n",
        "> b. Error\n",
        "\n",
        "> c. None"
      ],
      "metadata": {
        "id": "0M9PKlZzHBHG"
      }
    },
    {
      "cell_type": "code",
      "source": [
        "class Customer:\n",
        "    def __init__(self,id1):\n",
        "        self.id = id1\n",
        "\n",
        "c1=Customer(200)\n",
        "# print(c1.id1)"
      ],
      "metadata": {
        "id": "aBoDf7IwHHBg"
      },
      "execution_count": 58,
      "outputs": []
    },
    {
      "cell_type": "markdown",
      "source": [
        "8. What is the output of the following code snippet?\n",
        "\n",
        "\n",
        "\n",
        "```\n",
        "class Customer:\n",
        "    def __init__(self,id1):\n",
        "        self.id = id1\n",
        "\n",
        "c1=Customer(200)\n",
        "print(c1.id)\n",
        "```\n",
        "\n",
        "\n",
        "\n",
        "> a. 200\n",
        "\n",
        "> b. Error\n",
        "\n",
        "> c. None"
      ],
      "metadata": {
        "id": "5JV7JYisHLGA"
      }
    },
    {
      "cell_type": "code",
      "source": [
        "class Customer:\n",
        "    def __init__(self,id1):\n",
        "        self.id = id1\n",
        "\n",
        "c1=Customer(200)\n",
        "print(c1.id)"
      ],
      "metadata": {
        "colab": {
          "base_uri": "https://localhost:8080/"
        },
        "id": "rYQSW2A_HQLG",
        "outputId": "69c5c624-d955-42e2-b82e-2b10e393e822"
      },
      "execution_count": 59,
      "outputs": [
        {
          "output_type": "stream",
          "name": "stdout",
          "text": [
            "200\n"
          ]
        }
      ]
    },
    {
      "cell_type": "markdown",
      "source": [
        "9. What is the output of the following code snippet?\n",
        "\n",
        "\n",
        "```\n",
        "class Book:\n",
        "    def __init__(self):\n",
        "        self.title=None\n",
        "\n",
        "\n",
        "my_fav=Book()\n",
        "my_fav.title=\"Head First Programming\"\n",
        "your_fav=Book()\n",
        "your_fav.title=\"Learn Python the hard way\"\n",
        "my_fav.title=\"Learning Python\"\n",
        "print(\"My favorite is\",my_fav.title)\n",
        "print(\"Your's is\",your_fav.title)\n",
        "```\n",
        "\n",
        "\n",
        "\n",
        "> a. My favorite is Head First Programming and Your's is Learn Python the hard way\n",
        "\n",
        "> b. My favorite is Learning Python and Your's is Learning Python\n",
        "\n",
        "> c. My favorite is Learning Python and Your's is Learn Python the hard way\n",
        "\n",
        "> d. Error: An instance variable cannot be modified directly using its object reference."
      ],
      "metadata": {
        "id": "zut1jR9pHSri"
      }
    },
    {
      "cell_type": "code",
      "source": [
        "class Book:\n",
        "    def __init__(self):\n",
        "        self.title=None\n",
        "\n",
        "\n",
        "my_fav=Book()\n",
        "my_fav.title=\"Head First Programming\"\n",
        "your_fav=Book()\n",
        "your_fav.title=\"Learn Python the hard way\"\n",
        "my_fav.title=\"Learning Python\"\n",
        "print(\"My favorite is\",my_fav.title)\n",
        "print(\"Your's is\",your_fav.title)"
      ],
      "metadata": {
        "colab": {
          "base_uri": "https://localhost:8080/"
        },
        "id": "ddB7RapSHVRl",
        "outputId": "979696bf-d63b-4b61-9e95-b624500cea1d"
      },
      "execution_count": 60,
      "outputs": [
        {
          "output_type": "stream",
          "name": "stdout",
          "text": [
            "My favorite is Learning Python\n",
            "Your's is Learn Python the hard way\n"
          ]
        }
      ]
    },
    {
      "cell_type": "markdown",
      "source": [
        "10. What is the output of the following code snippet?\n",
        "\n",
        "\n",
        "\n",
        "```\n",
        "class Customer:\n",
        "    def __init__(id,self,age):\n",
        "        id.self=self\n",
        "        id.age=age\n",
        "\n",
        "c1=Customer(100,20)\n",
        "print(c1.self)\n",
        "```\n",
        "\n",
        "\n",
        "\n",
        "> a. 100\n",
        "\n",
        "> b. 20\n",
        "\n",
        "> c. Error"
      ],
      "metadata": {
        "id": "afSy8nloHk-i"
      }
    },
    {
      "cell_type": "code",
      "source": [
        "class Customer:\n",
        "    def __init__(id,self,age):\n",
        "        id.self=self\n",
        "        id.age=age\n",
        "\n",
        "c1=Customer(100,20)\n",
        "print(c1.self)"
      ],
      "metadata": {
        "colab": {
          "base_uri": "https://localhost:8080/"
        },
        "id": "j3YLH5cHHupi",
        "outputId": "8e1510b1-bee4-409d-8aa0-a4ea0c8bfeeb"
      },
      "execution_count": 61,
      "outputs": [
        {
          "output_type": "stream",
          "name": "stdout",
          "text": [
            "100\n"
          ]
        }
      ]
    },
    {
      "cell_type": "markdown",
      "source": [
        "## Method vs. Constructor"
      ],
      "metadata": {
        "id": "PPzYc8AXow4T"
      }
    },
    {
      "cell_type": "code",
      "source": [
        "from rich.table import Table\n",
        "table = Table(title=\"Method vs. Constructor\")\n",
        "# Specify the Column Names while initializing the Table\n",
        "table.add_column(\"Method\", justify=\"center\", no_wrap=False)\n",
        "table.add_column(\"Constructor\", justify=\"center\", no_wrap=False)\n",
        "# Add rows\n",
        "table.add_row('Name of method can be any name', 'Constructor name should be always __init__')\n",
        "table.add_row('Method will be executed if we call that method',\n",
        "                 'Constructor will be executed automatically at the time of object creation.')\n",
        "table.add_row('Per object, method can be called any number of times',\n",
        "                 'Per object, Constructor will be executed only once')\n",
        "table.add_row('Inside method we can write business logic',\n",
        "                 'Inside Constructor we have to declare and initialize instance variables')\n",
        "print(table)"
      ],
      "metadata": {
        "colab": {
          "base_uri": "https://localhost:8080/"
        },
        "id": "pnm65Wq5w82-",
        "outputId": "863ba149-9f8a-4749-856c-34f5166e9b51"
      },
      "execution_count": 62,
      "outputs": [
        {
          "output_type": "stream",
          "name": "stdout",
          "text": [
            "<rich.table.Table object at 0x7b0cc2783820>\n"
          ]
        }
      ]
    },
    {
      "cell_type": "code",
      "source": [
        "from rich.console import Console\n",
        "console = Console()\n",
        "console.print(table)"
      ],
      "metadata": {
        "colab": {
          "base_uri": "https://localhost:8080/",
          "height": 193
        },
        "id": "fBo-ewZtzpRX",
        "outputId": "b3736bb1-94c7-4a75-e704-e174602246ad"
      },
      "execution_count": 63,
      "outputs": [
        {
          "output_type": "display_data",
          "data": {
            "text/plain": [
              "\u001b[3m                                              Method vs. Constructor                                               \u001b[0m\n",
              "┏━━━━━━━━━━━━━━━━━━━━━━━━━━━━━━━━━━━━━━━━━━━━━━━━━━━━━━┳━━━━━━━━━━━━━━━━━━━━━━━━━━━━━━━━━━━━━━━━━━━━━━━━━━━━━━━━━━┓\n",
              "┃\u001b[1m \u001b[0m\u001b[1m                       Method                       \u001b[0m\u001b[1m \u001b[0m┃\u001b[1m \u001b[0m\u001b[1m                      Constructor                       \u001b[0m\u001b[1m \u001b[0m┃\n",
              "┡━━━━━━━━━━━━━━━━━━━━━━━━━━━━━━━━━━━━━━━━━━━━━━━━━━━━━━╇━━━━━━━━━━━━━━━━━━━━━━━━━━━━━━━━━━━━━━━━━━━━━━━━━━━━━━━━━━┩\n",
              "│            Name of method can be any name            │        Constructor name should be always __init__        │\n",
              "│    Method will be executed if we call that method    │  Constructor will be executed automatically at the time  │\n",
              "│                                                      │                   of object creation.                    │\n",
              "│ Per object, method can be called any number of times │    Per object, Constructor will be executed only once    │\n",
              "│      Inside method we can write business logic       │   Inside Constructor we have to declare and initialize   │\n",
              "│                                                      │                    instance variables                    │\n",
              "└──────────────────────────────────────────────────────┴──────────────────────────────────────────────────────────┘\n"
            ],
            "text/html": [
              "<pre style=\"white-space:pre;overflow-x:auto;line-height:normal;font-family:Menlo,'DejaVu Sans Mono',consolas,'Courier New',monospace\"><span style=\"font-style: italic\">                                              Method vs. Constructor                                               </span>\n",
              "┏━━━━━━━━━━━━━━━━━━━━━━━━━━━━━━━━━━━━━━━━━━━━━━━━━━━━━━┳━━━━━━━━━━━━━━━━━━━━━━━━━━━━━━━━━━━━━━━━━━━━━━━━━━━━━━━━━━┓\n",
              "┃<span style=\"font-weight: bold\">                        Method                        </span>┃<span style=\"font-weight: bold\">                       Constructor                        </span>┃\n",
              "┡━━━━━━━━━━━━━━━━━━━━━━━━━━━━━━━━━━━━━━━━━━━━━━━━━━━━━━╇━━━━━━━━━━━━━━━━━━━━━━━━━━━━━━━━━━━━━━━━━━━━━━━━━━━━━━━━━━┩\n",
              "│            Name of method can be any name            │        Constructor name should be always __init__        │\n",
              "│    Method will be executed if we call that method    │  Constructor will be executed automatically at the time  │\n",
              "│                                                      │                   of object creation.                    │\n",
              "│ Per object, method can be called any number of times │    Per object, Constructor will be executed only once    │\n",
              "│      Inside method we can write business logic       │   Inside Constructor we have to declare and initialize   │\n",
              "│                                                      │                    instance variables                    │\n",
              "└──────────────────────────────────────────────────────┴──────────────────────────────────────────────────────────┘\n",
              "</pre>\n"
            ]
          },
          "metadata": {}
        }
      ]
    },
    {
      "cell_type": "markdown",
      "source": [
        "**What happens if we provide method name same as classname?**"
      ],
      "metadata": {
        "id": "ggHqjEOM10Ie"
      }
    },
    {
      "cell_type": "code",
      "source": [
        "class test:\n",
        "    def test(self):\n",
        "        print('method')"
      ],
      "metadata": {
        "id": "osErUId_1-0q"
      },
      "execution_count": 64,
      "outputs": []
    },
    {
      "cell_type": "code",
      "source": [
        "t=test() # __init__()\n",
        "t"
      ],
      "metadata": {
        "colab": {
          "base_uri": "https://localhost:8080/"
        },
        "id": "G6Cv-p8h2YbR",
        "outputId": "665c0ca5-42bc-4049-9f3a-96b73eb22758"
      },
      "execution_count": 65,
      "outputs": [
        {
          "output_type": "execute_result",
          "data": {
            "text/plain": [
              "<__main__.test at 0x7b0cc0296aa0>"
            ]
          },
          "metadata": {},
          "execution_count": 65
        }
      ]
    },
    {
      "cell_type": "code",
      "source": [
        "t.test() # method"
      ],
      "metadata": {
        "colab": {
          "base_uri": "https://localhost:8080/"
        },
        "id": "WvZ1pCLL2cg6",
        "outputId": "ae0e9b50-c289-4a3e-a48c-4d7db4662c69"
      },
      "execution_count": 66,
      "outputs": [
        {
          "output_type": "stream",
          "name": "stdout",
          "text": [
            "method\n"
          ]
        }
      ]
    },
    {
      "cell_type": "markdown",
      "source": [
        "## Types of Variables (SIL - COM)\n",
        "Within the Python class we can represent data by using variables. There are 3 types of variables are allowed.\n",
        "1. Static Variables - Class level variables\n",
        "2. Instance Variable - Object level variables\n",
        "3. Local Variables - Method level variables\n"
      ],
      "metadata": {
        "id": "wnkSEw8QvpNJ"
      }
    },
    {
      "cell_type": "markdown",
      "source": [
        "## Instance Variables\n",
        "* If the value of a variable is varied from object to object, then such type of variables are\n",
        "called instance variables.\n",
        "* Therefore, for every object a separate copy of instance variables will be created.\n",
        "* **Most of the times** instance variables will be declared inside constructor by using self variable."
      ],
      "metadata": {
        "id": "lqwpg9J67OvM"
      }
    },
    {
      "cell_type": "code",
      "source": [
        "class student:\n",
        "    def __init__(self, name, rollno):\n",
        "        self.name = name # Instance variable\n",
        "        self.rollno = rollno # Instance variable"
      ],
      "metadata": {
        "id": "DHjBH4w9NOJI"
      },
      "execution_count": 67,
      "outputs": []
    },
    {
      "cell_type": "markdown",
      "source": [
        "### Where we can declare Instance Variables:\n",
        "* Inside Constructor by using self variable\n",
        "* Inside Instance Method by using self variable\n",
        "* Outside of the class by using object reference variable. (IT IS NOT POSSIBLE WITH OTHER PROGRAMMING LANGUAGES)"
      ],
      "metadata": {
        "id": "4RFShFc_nNOc"
      }
    },
    {
      "cell_type": "markdown",
      "source": [
        "#### Inside Constructor by using Self Variable:\n",
        "We can declare instance variables inside a constructor by using self keyword. Once we\n",
        "creates object, automatically these variables will be added to the object.\n"
      ],
      "metadata": {
        "id": "-Er3gRQHnW0f"
      }
    },
    {
      "cell_type": "code",
      "source": [
        "class Employee:\n",
        "    def __init__(self):\n",
        "        self.eno=100\n",
        "        self.ename='Durga'\n",
        "        self.esal=10000\n",
        "\n",
        "e=Employee()\n",
        "print(e.__dict__)"
      ],
      "metadata": {
        "colab": {
          "base_uri": "https://localhost:8080/"
        },
        "id": "kaRIwy4RnKIU",
        "outputId": "b2e21fc4-a97f-4b25-c016-2f922a6c7947"
      },
      "execution_count": 68,
      "outputs": [
        {
          "output_type": "stream",
          "name": "stdout",
          "text": [
            "{'eno': 100, 'ename': 'Durga', 'esal': 10000}\n"
          ]
        }
      ]
    },
    {
      "cell_type": "markdown",
      "source": [
        "#### Inside Instance Method by using Self Variable:\n",
        "We can also declare instance variables inside instance method by using self variable. **If\n",
        "any instance variable declared inside instance method, that instance variable will be\n",
        "added once we call that method.**"
      ],
      "metadata": {
        "id": "q2awif9vobAG"
      }
    },
    {
      "cell_type": "code",
      "source": [
        "class Test:\n",
        "    def __init__(self):\n",
        "        self.a=10\n",
        "        self.b=20\n",
        "    def m1(self):\n",
        "        self.c=30\n",
        "\n",
        "t=Test()\n",
        "print(t.__dict__)\n",
        "t.m1()\n",
        "print(t.__dict__)"
      ],
      "metadata": {
        "colab": {
          "base_uri": "https://localhost:8080/"
        },
        "id": "uSRA2voVodBJ",
        "outputId": "08360697-8de8-4a83-94a0-2b108be0c0e0"
      },
      "execution_count": 69,
      "outputs": [
        {
          "output_type": "stream",
          "name": "stdout",
          "text": [
            "{'a': 10, 'b': 20}\n",
            "{'a': 10, 'b': 20, 'c': 30}\n"
          ]
        }
      ]
    },
    {
      "cell_type": "markdown",
      "source": [
        "#### Outside of the Class by using Object Reference Variable:\n",
        "We can also add instance variables outside of a class to a particular object."
      ],
      "metadata": {
        "id": "T7S_PpJjo4Iv"
      }
    },
    {
      "cell_type": "code",
      "source": [
        "class Test:\n",
        "    def __init__(self):\n",
        "        self.a=10\n",
        "        self.b=20\n",
        "    def m1(self):\n",
        "        self.c=30\n",
        "\n",
        "t=Test() # a,b will be added to the object\n",
        "print(t.__dict__)\n",
        "t.m1() # c will be added to the object\n",
        "print(t.__dict__)\n",
        "t.d = 40 # d will be added to the object\n",
        "print(t.__dict__)"
      ],
      "metadata": {
        "colab": {
          "base_uri": "https://localhost:8080/"
        },
        "id": "WOu0gQ-Xo6RX",
        "outputId": "f5b90a05-8b85-4473-a2d1-d9870436a1ce"
      },
      "execution_count": 70,
      "outputs": [
        {
          "output_type": "stream",
          "name": "stdout",
          "text": [
            "{'a': 10, 'b': 20}\n",
            "{'a': 10, 'b': 20, 'c': 30}\n",
            "{'a': 10, 'b': 20, 'c': 30, 'd': 40}\n"
          ]
        }
      ]
    },
    {
      "cell_type": "markdown",
      "source": [
        "**The number of instance variables varied from object to object- NOT ALL OBJECTS HAVE SAME NUMBER OF INSTANCE VARIABLES**"
      ],
      "metadata": {
        "id": "0ZeVbfhotBn1"
      }
    },
    {
      "cell_type": "code",
      "source": [
        "class Test:\n",
        "    def __init__(self):\n",
        "        self.a=10\n",
        "        self.b=20\n",
        "    def m1(self):\n",
        "        self.c=30\n",
        "\n",
        "t1=Test() # a,b will be added to the object t1\n",
        "print(\"t1\", t1.__dict__)\n",
        "print(\"t2\", t2.__dict__)\n",
        "t1.m1() # c will be added to the object t1\n",
        "print(\"t1\", t1.__dict__)\n",
        "t1.d = 40 # d will be added to the object t1\n",
        "t2=Test() # a,b will be added to the object t2\n",
        "print(\"t1\", t1.__dict__)\n",
        "print(\"t2\", t2.__dict__)"
      ],
      "metadata": {
        "colab": {
          "base_uri": "https://localhost:8080/"
        },
        "id": "1PAuOukFsyHq",
        "outputId": "08ee9e91-64c1-4742-bfb4-cb497bf3f0fb"
      },
      "execution_count": 71,
      "outputs": [
        {
          "output_type": "stream",
          "name": "stdout",
          "text": [
            "t1 {'a': 10, 'b': 20}\n",
            "t2 {}\n",
            "t1 {'a': 10, 'b': 20, 'c': 30}\n",
            "t1 {'a': 10, 'b': 20, 'c': 30, 'd': 40}\n",
            "t2 {'a': 10, 'b': 20}\n"
          ]
        }
      ]
    },
    {
      "cell_type": "markdown",
      "source": [
        "### How to Access Instance Variables:\n",
        "We can access instance variables with in the class by using self variable and outside of the\n",
        "class by using object reference."
      ],
      "metadata": {
        "id": "NnicSIWMpKBW"
      }
    },
    {
      "cell_type": "code",
      "source": [
        "class Test:\n",
        "    def __init__(self):\n",
        "        self.a=10\n",
        "        self.b=20\n",
        "    def display(self):\n",
        "        print('self.a', self.a)\n",
        "        print('self.b', self.b)\n",
        "\n",
        "t = Test()\n",
        "t.display()\n",
        "print(\"t.a, t.b\", t.a,t.b)"
      ],
      "metadata": {
        "colab": {
          "base_uri": "https://localhost:8080/"
        },
        "id": "SzbxjmQqpPf1",
        "outputId": "0fc67b8b-dcee-4afa-b8b0-c8280d67c923"
      },
      "execution_count": 72,
      "outputs": [
        {
          "output_type": "stream",
          "name": "stdout",
          "text": [
            "self.a 10\n",
            "self.b 20\n",
            "t.a, t.b 10 20\n"
          ]
        }
      ]
    },
    {
      "cell_type": "markdown",
      "source": [
        "###How to delete Instance Variable from the Object:\n",
        "* Again deleting instance variables is not possible with other languages\n",
        "* Within a class we can delete instance variable as follows **del self.variableName**\n",
        "* From outside of class we can delete instance variables as follows **del objectreference.variableName**"
      ],
      "metadata": {
        "id": "ZIoDT-sxqZiR"
      }
    },
    {
      "cell_type": "code",
      "source": [
        "class Test:\n",
        "    def __init__(self):\n",
        "        self.a=10\n",
        "        self.b=20\n",
        "        self.c=30\n",
        "        self.d=40\n",
        "    def m1(self):\n",
        "        del self.d\n",
        "\n",
        "t=Test()\n",
        "print(t.__dict__)\n",
        "t.m1()\n",
        "print(t.__dict__)\n",
        "del t.c\n",
        "print(t.__dict__)"
      ],
      "metadata": {
        "colab": {
          "base_uri": "https://localhost:8080/"
        },
        "id": "xNDkO_ESqg0C",
        "outputId": "d6e1fd73-b938-4225-ede8-02056164db81"
      },
      "execution_count": 73,
      "outputs": [
        {
          "output_type": "stream",
          "name": "stdout",
          "text": [
            "{'a': 10, 'b': 20, 'c': 30, 'd': 40}\n",
            "{'a': 10, 'b': 20, 'c': 30}\n",
            "{'a': 10, 'b': 20}\n"
          ]
        }
      ]
    },
    {
      "cell_type": "markdown",
      "source": [
        "**We can delete multiple instance variables in one go**"
      ],
      "metadata": {
        "id": "bAaAS4t1u-KI"
      }
    },
    {
      "cell_type": "code",
      "source": [
        "del t.a, t.b\n",
        "print(t.__dict__)"
      ],
      "metadata": {
        "colab": {
          "base_uri": "https://localhost:8080/"
        },
        "id": "BXWv61e_u8ww",
        "outputId": "ed31ccd0-64e2-4943-8c13-e6b74bad272f"
      },
      "execution_count": 74,
      "outputs": [
        {
          "output_type": "stream",
          "name": "stdout",
          "text": [
            "{}\n"
          ]
        }
      ]
    },
    {
      "cell_type": "markdown",
      "source": [
        "**The instance variables which are deleted from one object,will not be deleted from\n",
        "other objects.**"
      ],
      "metadata": {
        "id": "CFmkabqprKwK"
      }
    },
    {
      "cell_type": "code",
      "source": [
        "class Test:\n",
        "    def __init__(self):\n",
        "        self.a=10\n",
        "        self.b=20\n",
        "        self.c=30\n",
        "        self.d=40\n",
        "\n",
        "t1=Test()\n",
        "t2=Test()\n",
        "del t1.a\n",
        "print(t1.__dict__)\n",
        "print(t2.__dict__)"
      ],
      "metadata": {
        "colab": {
          "base_uri": "https://localhost:8080/"
        },
        "id": "VlP1BdXDrM2K",
        "outputId": "51f461cb-28ce-43a8-f87c-ac2d4f28f4ff"
      },
      "execution_count": 75,
      "outputs": [
        {
          "output_type": "stream",
          "name": "stdout",
          "text": [
            "{'b': 20, 'c': 30, 'd': 40}\n",
            "{'a': 10, 'b': 20, 'c': 30, 'd': 40}\n"
          ]
        }
      ]
    },
    {
      "cell_type": "markdown",
      "source": [
        "**If we change the values of instance variables of one object then those changes won't be\n",
        "reflected to the remaining objects, because for every object we have separate copy of\n",
        "instance variables are available.**"
      ],
      "metadata": {
        "id": "PzrXfwWxrizw"
      }
    },
    {
      "cell_type": "code",
      "source": [
        "class Test:\n",
        "    def __init__(self):\n",
        "        self.a=10\n",
        "        self.b=20\n",
        "\n",
        "t1=Test()\n",
        "print('t1:',t1.a,t1.b)\n",
        "print('t2:',t2.a,t2.b)\n",
        "t1.a=888\n",
        "t1.b=999\n",
        "t2=Test()\n",
        "print('t1:',t1.a,t1.b)\n",
        "print('t2:',t2.a,t2.b)"
      ],
      "metadata": {
        "colab": {
          "base_uri": "https://localhost:8080/"
        },
        "id": "53LeNKOurKCs",
        "outputId": "42f56c83-7e61-435b-c552-021cb6a45603"
      },
      "execution_count": 76,
      "outputs": [
        {
          "output_type": "stream",
          "name": "stdout",
          "text": [
            "t1: 10 20\n",
            "t2: 10 20\n",
            "t1: 888 999\n",
            "t2: 10 20\n"
          ]
        }
      ]
    },
    {
      "cell_type": "markdown",
      "source": [
        "## Static Variables\n",
        "* If the value of a variable is not varied from object to object, then it is not recommended to declare those variables as instance variables. We have to declare at class level within the class directly but outside of methods. Such types of variables are called Static variables.\n",
        "* Incase of instance variables, for every object a seperate copy will be created. But incase of static variables at the class level only one copy of static variable will be created and shared by all objects of that class.\n",
        "* We can access static variables either by class name or **by object reference. But recommended to use class name.**\n",
        "* Most of the times static variables should be declared within the class directly"
      ],
      "metadata": {
        "id": "EEOERoqOYp0i"
      }
    },
    {
      "cell_type": "code",
      "source": [
        "class student:\n",
        "    school_name = 'school' # Static variable\n",
        "    def __init__(self, name, rollno):\n",
        "        self.name = name\n",
        "        self.rollno = rollno"
      ],
      "metadata": {
        "id": "4XuAvT6iZB2O"
      },
      "execution_count": 77,
      "outputs": []
    },
    {
      "cell_type": "markdown",
      "source": [
        "### Instance Variable vs. Static Variable\n",
        "* In the case of instance variables for every object a seperate copy will be created, but in the case of static variables for total class only one copy will be created and shared by every object of that class."
      ],
      "metadata": {
        "id": "ZqROpy46wP7m"
      }
    },
    {
      "cell_type": "code",
      "source": [
        "class Test:\n",
        "    x=10 # Static variable\n",
        "    def __init__(self):\n",
        "        self.y=20\n",
        "\n",
        "t1=Test()\n",
        "t2=Test()\n",
        "\n",
        "# Accessing static variable using object reference\n",
        "## Object reference first check in object address, if it doesn't find any it will be directed to\n",
        "### Class address\n",
        "print('t1:',t1.x,t1.y)\n",
        "print('t2:',t2.x,t2.y)\n",
        "\n",
        "# Accessing static variable using class and instance variable using object reference\n",
        "Test.x=888\n",
        "t1.y=999\n",
        "\n",
        "print('t1:',t1.x,t1.y)\n",
        "print('t2:',t2.x,t2.y)"
      ],
      "metadata": {
        "colab": {
          "base_uri": "https://localhost:8080/"
        },
        "id": "Lph86CKawdZX",
        "outputId": "b5eb1acc-5d05-4fc9-8c11-48ac3614183a"
      },
      "execution_count": 78,
      "outputs": [
        {
          "output_type": "stream",
          "name": "stdout",
          "text": [
            "t1: 10 20\n",
            "t2: 10 20\n",
            "t1: 888 999\n",
            "t2: 888 20\n"
          ]
        }
      ]
    },
    {
      "cell_type": "markdown",
      "source": [
        "### Various Places to declare Static Variables\n",
        "\n",
        "1. In general we can declare within the class directly but outside of any method (BEST WAY)\n",
        "2. Inside constructor by using class name\n",
        "3. Inside instance method by using class name\n",
        "4. Inside classmethod by using either class name or cls variable\n",
        "5. Inside static method by using class name\n",
        "6. Outside of the class by using classname"
      ],
      "metadata": {
        "id": "7XbdG_inxXo9"
      }
    },
    {
      "cell_type": "markdown",
      "source": [
        "#### Declare within the class directly"
      ],
      "metadata": {
        "id": "dmu61W9SyCsS"
      }
    },
    {
      "cell_type": "code",
      "source": [
        "class Test:\n",
        "    a=10 # Static variable\n",
        "print(\"Before object creation\", Test.a)\n",
        "t = Test()\n",
        "Test.a, Test.__dict__, t.a, t.__dict__"
      ],
      "metadata": {
        "colab": {
          "base_uri": "https://localhost:8080/"
        },
        "id": "oK5dJhlbxu18",
        "outputId": "f0993428-302b-4819-da87-7e1bfb975a5e"
      },
      "execution_count": 79,
      "outputs": [
        {
          "output_type": "stream",
          "name": "stdout",
          "text": [
            "Before object creation 10\n"
          ]
        },
        {
          "output_type": "execute_result",
          "data": {
            "text/plain": [
              "(10,\n",
              " mappingproxy({'__module__': '__main__',\n",
              "               'a': 10,\n",
              "               '__dict__': <attribute '__dict__' of 'Test' objects>,\n",
              "               '__weakref__': <attribute '__weakref__' of 'Test' objects>,\n",
              "               '__doc__': None}),\n",
              " 10,\n",
              " {})"
            ]
          },
          "metadata": {},
          "execution_count": 79
        }
      ]
    },
    {
      "cell_type": "markdown",
      "source": [
        "```\n",
        "t.__dict__ is a {}, because static variables are nowhere related to object\n",
        "```"
      ],
      "metadata": {
        "id": "5wlcmwpAEH4O"
      }
    },
    {
      "cell_type": "markdown",
      "source": [
        "#### Inside constructor by using class name"
      ],
      "metadata": {
        "id": "Mfo2CWahzM0W"
      }
    },
    {
      "cell_type": "code",
      "source": [
        "class Test:\n",
        "    a=10 # Static variable\n",
        "    def __init__(self):\n",
        "        Test.b=20 # Static variable INSTEAD OF self.a\n",
        "print(\"Before object creation\", Test.__dict__)\n",
        "t=Test()\n",
        "Test.a, Test.b, Test.__dict__, t.a, t.b, t.__dict__"
      ],
      "metadata": {
        "colab": {
          "base_uri": "https://localhost:8080/"
        },
        "id": "Tm5wsWaRyUwn",
        "outputId": "4ed59f8e-76c3-43dd-ec76-c30671d558eb"
      },
      "execution_count": 80,
      "outputs": [
        {
          "output_type": "stream",
          "name": "stdout",
          "text": [
            "Before object creation {'__module__': '__main__', 'a': 10, '__init__': <function Test.__init__ at 0x7b0cc272bbe0>, '__dict__': <attribute '__dict__' of 'Test' objects>, '__weakref__': <attribute '__weakref__' of 'Test' objects>, '__doc__': None}\n"
          ]
        },
        {
          "output_type": "execute_result",
          "data": {
            "text/plain": [
              "(10,\n",
              " 20,\n",
              " mappingproxy({'__module__': '__main__',\n",
              "               'a': 10,\n",
              "               '__init__': <function __main__.Test.__init__(self)>,\n",
              "               '__dict__': <attribute '__dict__' of 'Test' objects>,\n",
              "               '__weakref__': <attribute '__weakref__' of 'Test' objects>,\n",
              "               '__doc__': None,\n",
              "               'b': 20}),\n",
              " 10,\n",
              " 20,\n",
              " {})"
            ]
          },
          "metadata": {},
          "execution_count": 80
        }
      ]
    },
    {
      "cell_type": "markdown",
      "source": [
        "#### Inside instance method by using class name"
      ],
      "metadata": {
        "id": "mxRAHHSM0NS9"
      }
    },
    {
      "cell_type": "code",
      "source": [
        "class Test:\n",
        "    a=10\n",
        "    def __init__(self):\n",
        "        Test.b=20\n",
        "    def m1(self):\n",
        "        Test.c=30 # INSTEAD OF self.b\n",
        "\n",
        "\n",
        "\n",
        "t=Test()\n",
        "t.m1()\n",
        "Test.a, Test.b, Test.c, Test.__dict__, t.a, t.b, t.c, t.__dict__"
      ],
      "metadata": {
        "colab": {
          "base_uri": "https://localhost:8080/"
        },
        "id": "8m4OJpwazhGF",
        "outputId": "6bf259b8-53fe-4f56-e510-0086685a98f4"
      },
      "execution_count": 81,
      "outputs": [
        {
          "output_type": "execute_result",
          "data": {
            "text/plain": [
              "(10,\n",
              " 20,\n",
              " 30,\n",
              " mappingproxy({'__module__': '__main__',\n",
              "               'a': 10,\n",
              "               '__init__': <function __main__.Test.__init__(self)>,\n",
              "               'm1': <function __main__.Test.m1(self)>,\n",
              "               '__dict__': <attribute '__dict__' of 'Test' objects>,\n",
              "               '__weakref__': <attribute '__weakref__' of 'Test' objects>,\n",
              "               '__doc__': None,\n",
              "               'b': 20,\n",
              "               'c': 30}),\n",
              " 10,\n",
              " 20,\n",
              " 30,\n",
              " {})"
            ]
          },
          "metadata": {},
          "execution_count": 81
        }
      ]
    },
    {
      "cell_type": "markdown",
      "source": [
        "#### Inside classmethod by using either class name or cls variable"
      ],
      "metadata": {
        "id": "5Riy_Cs60idR"
      }
    },
    {
      "cell_type": "code",
      "source": [
        "class Test:\n",
        "    a=10\n",
        "    def __init__(self):\n",
        "        Test.b=20\n",
        "    def m1(self):\n",
        "        Test.c=30\n",
        "\n",
        "    @classmethod\n",
        "    def m2(cls):\n",
        "        cls.d1=40\n",
        "        Test.d2=400\n",
        "\n",
        "t=Test()\n",
        "t.m1()\n",
        "Test.m2() # OR t.m2()\n",
        "Test.a, Test.b, Test.c, Test.d1, Test.d2, Test.__dict__, t.a, t.b, t.c, t.d1, t.d2, t.__dict__"
      ],
      "metadata": {
        "colab": {
          "base_uri": "https://localhost:8080/"
        },
        "id": "l9Ch7KFLzhDK",
        "outputId": "1f3b2dc8-1e79-43a0-ede3-8cfe5888f7ff"
      },
      "execution_count": 82,
      "outputs": [
        {
          "output_type": "execute_result",
          "data": {
            "text/plain": [
              "(10,\n",
              " 20,\n",
              " 30,\n",
              " 40,\n",
              " 400,\n",
              " mappingproxy({'__module__': '__main__',\n",
              "               'a': 10,\n",
              "               '__init__': <function __main__.Test.__init__(self)>,\n",
              "               'm1': <function __main__.Test.m1(self)>,\n",
              "               'm2': <classmethod(<function Test.m2 at 0x7b0cc272a8c0>)>,\n",
              "               '__dict__': <attribute '__dict__' of 'Test' objects>,\n",
              "               '__weakref__': <attribute '__weakref__' of 'Test' objects>,\n",
              "               '__doc__': None,\n",
              "               'b': 20,\n",
              "               'c': 30,\n",
              "               'd1': 40,\n",
              "               'd2': 400}),\n",
              " 10,\n",
              " 20,\n",
              " 30,\n",
              " 40,\n",
              " 400,\n",
              " {})"
            ]
          },
          "metadata": {},
          "execution_count": 82
        }
      ]
    },
    {
      "cell_type": "markdown",
      "source": [
        "#### Inside static method by using class name"
      ],
      "metadata": {
        "id": "Mq9X3vTk09DP"
      }
    },
    {
      "cell_type": "code",
      "source": [
        "class Test:\n",
        "    a=10\n",
        "    def __init__(self):\n",
        "        Test.b=20\n",
        "    def m1(self):\n",
        "        Test.c=30\n",
        "\n",
        "    @classmethod\n",
        "    def m2(cls):\n",
        "        cls.d1=40\n",
        "        Test.d2=400\n",
        "\n",
        "    @staticmethod\n",
        "    def m3():\n",
        "        Test.e=50\n",
        "\n",
        "t=Test()\n",
        "t.m1()\n",
        "Test.m2() # OR t.m2()\n",
        "Test.m3() # OR t.m3()\n",
        "Test.a, Test.b, Test.c, Test.d1, Test.d2, Test.e, Test.__dict__, t.a, t.b, t.c, t.d1, t.d2,t.e, t.__dict__"
      ],
      "metadata": {
        "colab": {
          "base_uri": "https://localhost:8080/"
        },
        "id": "9CI5rYzkzhKm",
        "outputId": "547916b2-8a8b-4bee-9f3a-c7ec0c66d47e"
      },
      "execution_count": 83,
      "outputs": [
        {
          "output_type": "execute_result",
          "data": {
            "text/plain": [
              "(10,\n",
              " 20,\n",
              " 30,\n",
              " 40,\n",
              " 400,\n",
              " 50,\n",
              " mappingproxy({'__module__': '__main__',\n",
              "               'a': 10,\n",
              "               '__init__': <function __main__.Test.__init__(self)>,\n",
              "               'm1': <function __main__.Test.m1(self)>,\n",
              "               'm2': <classmethod(<function Test.m2 at 0x7b0cc27285e0>)>,\n",
              "               'm3': <staticmethod(<function Test.m3 at 0x7b0cc2728670>)>,\n",
              "               '__dict__': <attribute '__dict__' of 'Test' objects>,\n",
              "               '__weakref__': <attribute '__weakref__' of 'Test' objects>,\n",
              "               '__doc__': None,\n",
              "               'b': 20,\n",
              "               'c': 30,\n",
              "               'd1': 40,\n",
              "               'd2': 400,\n",
              "               'e': 50}),\n",
              " 10,\n",
              " 20,\n",
              " 30,\n",
              " 40,\n",
              " 400,\n",
              " 50,\n",
              " {})"
            ]
          },
          "metadata": {},
          "execution_count": 83
        }
      ]
    },
    {
      "cell_type": "markdown",
      "source": [
        "#### Outside of the class by using class name"
      ],
      "metadata": {
        "id": "oFpPZgbWFrWY"
      }
    },
    {
      "cell_type": "code",
      "source": [
        "class Test:\n",
        "    a=10\n",
        "    def __init__(self):\n",
        "        Test.b=20\n",
        "    def m1(self):\n",
        "        Test.c=30\n",
        "\n",
        "    @classmethod\n",
        "    def m2(cls):\n",
        "        cls.d1=40\n",
        "        Test.d2=400\n",
        "\n",
        "    @staticmethod\n",
        "    def m3():\n",
        "        Test.e=50\n",
        "\n",
        "t=Test()\n",
        "t.m1()\n",
        "Test.m2() # OR t.m2()\n",
        "Test.m3() # OR t.m3()\n",
        "Test.f = 60\n",
        "Test.a, Test.b, Test.c, Test.d1, Test.d2, Test.e, Test.f, Test.__dict__, t.a, t.b, t.c, t.d1, t.d2, t.e, t.__dict__"
      ],
      "metadata": {
        "colab": {
          "base_uri": "https://localhost:8080/"
        },
        "id": "01goY4IzFx-L",
        "outputId": "9879aa2c-bdf0-4b68-fda8-e69be7324443"
      },
      "execution_count": 84,
      "outputs": [
        {
          "output_type": "execute_result",
          "data": {
            "text/plain": [
              "(10,\n",
              " 20,\n",
              " 30,\n",
              " 40,\n",
              " 400,\n",
              " 50,\n",
              " 60,\n",
              " mappingproxy({'__module__': '__main__',\n",
              "               'a': 10,\n",
              "               '__init__': <function __main__.Test.__init__(self)>,\n",
              "               'm1': <function __main__.Test.m1(self)>,\n",
              "               'm2': <classmethod(<function Test.m2 at 0x7b0cc272b1c0>)>,\n",
              "               'm3': <staticmethod(<function Test.m3 at 0x7b0cc02c1480>)>,\n",
              "               '__dict__': <attribute '__dict__' of 'Test' objects>,\n",
              "               '__weakref__': <attribute '__weakref__' of 'Test' objects>,\n",
              "               '__doc__': None,\n",
              "               'b': 20,\n",
              "               'c': 30,\n",
              "               'd1': 40,\n",
              "               'd2': 400,\n",
              "               'e': 50,\n",
              "               'f': 60}),\n",
              " 10,\n",
              " 20,\n",
              " 30,\n",
              " 40,\n",
              " 400,\n",
              " 50,\n",
              " {})"
            ]
          },
          "metadata": {},
          "execution_count": 84
        }
      ]
    },
    {
      "cell_type": "markdown",
      "source": [
        "### How to access static variables\n",
        "We can access static variables either by object reference or by classname, but it is highly recommended to use classname\n",
        "\n",
        "1. Inside constructor: by using either self or classname\n",
        "2. Inside instance method: by using either self or classname\n",
        "3. Inside class method: by using either cls variable or classname\n",
        "4. Inside static method: by using classname\n",
        "5. From outside of class: by using either object reference or classname"
      ],
      "metadata": {
        "id": "eU5MPtZOGcm5"
      }
    },
    {
      "cell_type": "markdown",
      "source": [
        "#### Inside constructor: by using either self or classname"
      ],
      "metadata": {
        "id": "XV164heFHVCf"
      }
    },
    {
      "cell_type": "code",
      "source": [
        "class Test:\n",
        "    a = 10\n",
        "    def __init__(self):\n",
        "        print(\"self.a\", self.a)\n",
        "        print(\"Test.a\", Test.a)\n",
        "\n",
        "t = Test()"
      ],
      "metadata": {
        "colab": {
          "base_uri": "https://localhost:8080/"
        },
        "id": "1upRdGK9GHSM",
        "outputId": "a8c3e6ff-38ec-4117-bab4-4f7695143112"
      },
      "execution_count": 85,
      "outputs": [
        {
          "output_type": "stream",
          "name": "stdout",
          "text": [
            "self.a 10\n",
            "Test.a 10\n"
          ]
        }
      ]
    },
    {
      "cell_type": "markdown",
      "source": [
        "#### Inside instance method: by using either self or classname"
      ],
      "metadata": {
        "id": "MCQFNh0zICdy"
      }
    },
    {
      "cell_type": "code",
      "source": [
        "class Test:\n",
        "    a = 10\n",
        "    def __init__(self):\n",
        "        print(\"Inside Constructor\")\n",
        "        print(\"self.a\", self.a)\n",
        "        print(\"Test.a\", Test.a)\n",
        "\n",
        "    def m1(self):\n",
        "        print(\"\\nInside Instance Method\")\n",
        "        print(\"self.a\", self.a)\n",
        "        print(\"Test.a\", Test.a)\n",
        "\n",
        "t = Test()\n",
        "t.m1()"
      ],
      "metadata": {
        "colab": {
          "base_uri": "https://localhost:8080/"
        },
        "id": "b0jn5vFFGHU_",
        "outputId": "4dd94ebb-baab-4f33-fa3a-e2b9a0edf9e4"
      },
      "execution_count": 86,
      "outputs": [
        {
          "output_type": "stream",
          "name": "stdout",
          "text": [
            "Inside Constructor\n",
            "self.a 10\n",
            "Test.a 10\n",
            "\n",
            "Inside Instance Method\n",
            "self.a 10\n",
            "Test.a 10\n"
          ]
        }
      ]
    },
    {
      "cell_type": "markdown",
      "source": [
        "#### Inside class method: by using either cls variable or classname"
      ],
      "metadata": {
        "id": "2Rj_oEveItx7"
      }
    },
    {
      "cell_type": "code",
      "source": [
        "class Test:\n",
        "    a = 10\n",
        "    def __init__(self):\n",
        "        print(\"Inside Constructor\")\n",
        "        print(\"self.a\", self.a)\n",
        "        print(\"Test.a\", Test.a)\n",
        "\n",
        "    def m1(self):\n",
        "        print(\"\\nInside Instance Method\")\n",
        "        print(\"self.a\", self.a)\n",
        "        print(\"Test.a\", Test.a)\n",
        "\n",
        "    @classmethod\n",
        "    def cm1(cls):\n",
        "        print(\"\\nInside Class Method\")\n",
        "        print(\"self.a\", cls.a)\n",
        "        print(\"Test.a\", Test.a)\n",
        "t = Test()\n",
        "t.m1()\n",
        "Test.cm1() # t.cm1()"
      ],
      "metadata": {
        "colab": {
          "base_uri": "https://localhost:8080/"
        },
        "id": "rbtvzKnPGHXX",
        "outputId": "80f32e14-af0a-40f8-bb93-fe3013ac7831"
      },
      "execution_count": 87,
      "outputs": [
        {
          "output_type": "stream",
          "name": "stdout",
          "text": [
            "Inside Constructor\n",
            "self.a 10\n",
            "Test.a 10\n",
            "\n",
            "Inside Instance Method\n",
            "self.a 10\n",
            "Test.a 10\n",
            "\n",
            "Inside Class Method\n",
            "self.a 10\n",
            "Test.a 10\n"
          ]
        }
      ]
    },
    {
      "cell_type": "markdown",
      "source": [
        "#### Inside static method: by using classname"
      ],
      "metadata": {
        "id": "xqh_twLhS5cv"
      }
    },
    {
      "cell_type": "code",
      "source": [
        "class Test:\n",
        "    a = 10\n",
        "    def __init__(self):\n",
        "        print(\"Inside Constructor\")\n",
        "        print(\"self.a\", self.a)\n",
        "        print(\"Test.a\", Test.a)\n",
        "\n",
        "    def m1(self):\n",
        "        print(\"\\nInside Instance Method\")\n",
        "        print(\"self.a\", self.a)\n",
        "        print(\"Test.a\", Test.a)\n",
        "\n",
        "    @classmethod\n",
        "    def cm1(cls):\n",
        "        print(\"\\nInside Class Method\")\n",
        "        print(\"self.a\", cls.a)\n",
        "        print(\"Test.a\", Test.a)\n",
        "\n",
        "    @staticmethod\n",
        "    def sm1():\n",
        "        print(\"\\nInside static Method\")\n",
        "        print(\"Test.a\", Test.a)\n",
        "\n",
        "\n",
        "t = Test()\n",
        "t.m1()\n",
        "Test.cm1() # t.cm1()\n",
        "Test.sm1() # t.sm1()"
      ],
      "metadata": {
        "colab": {
          "base_uri": "https://localhost:8080/"
        },
        "id": "cWVvMLA8S8uc",
        "outputId": "be66de8b-6926-42d8-9257-522804c3f73b"
      },
      "execution_count": 88,
      "outputs": [
        {
          "output_type": "stream",
          "name": "stdout",
          "text": [
            "Inside Constructor\n",
            "self.a 10\n",
            "Test.a 10\n",
            "\n",
            "Inside Instance Method\n",
            "self.a 10\n",
            "Test.a 10\n",
            "\n",
            "Inside Class Method\n",
            "self.a 10\n",
            "Test.a 10\n",
            "\n",
            "Inside static Method\n",
            "Test.a 10\n"
          ]
        }
      ]
    },
    {
      "cell_type": "markdown",
      "source": [
        "#### Outside of the class by using classname or object reference"
      ],
      "metadata": {
        "id": "rkJybzRXJHhc"
      }
    },
    {
      "cell_type": "code",
      "source": [
        "class Test:\n",
        "    a = 10\n",
        "    def __init__(self):\n",
        "        print(\"Inside Constructor\")\n",
        "        print(\"self.a\", self.a)\n",
        "        print(\"Test.a\", Test.a)\n",
        "\n",
        "    def m1(self):\n",
        "        print(\"\\nInside Instance Method\")\n",
        "        print(\"self.a\", self.a)\n",
        "        print(\"Test.a\", Test.a)\n",
        "\n",
        "    @classmethod\n",
        "    def cm1(cls):\n",
        "        print(\"\\nInside Class Method\")\n",
        "        print(\"self.a\", cls.a)\n",
        "        print(\"Test.a\", Test.a)\n",
        "\n",
        "    @staticmethod\n",
        "    def sm1():\n",
        "        print(\"\\nInside static Method\")\n",
        "        print(\"Test.a\", Test.a)\n",
        "\n",
        "\n",
        "t = Test()\n",
        "t.m1()\n",
        "Test.cm1() # t.cm1()\n",
        "Test.sm1() # t.sm1()\n",
        "\n",
        "print(\"\\nOutside the class\")\n",
        "print(\"t.a\", t.a)\n",
        "print(\"Test.a\", Test.a)"
      ],
      "metadata": {
        "colab": {
          "base_uri": "https://localhost:8080/"
        },
        "id": "StW8SBWUGHZ-",
        "outputId": "d5fd0c96-f46a-47e8-8d43-f681456cbf64"
      },
      "execution_count": 89,
      "outputs": [
        {
          "output_type": "stream",
          "name": "stdout",
          "text": [
            "Inside Constructor\n",
            "self.a 10\n",
            "Test.a 10\n",
            "\n",
            "Inside Instance Method\n",
            "self.a 10\n",
            "Test.a 10\n",
            "\n",
            "Inside Class Method\n",
            "self.a 10\n",
            "Test.a 10\n",
            "\n",
            "Inside static Method\n",
            "Test.a 10\n",
            "\n",
            "Outside the class\n",
            "t.a 10\n",
            "Test.a 10\n"
          ]
        }
      ]
    },
    {
      "cell_type": "markdown",
      "source": [
        "### Where can we modify the Value of Static Variable\n",
        "* Anywhere either with in the class or outside of class we can modify by using classname. But inside class method, by using cls variable.\n",
        "* To modify the static variable we cannot use **self or object reference**."
      ],
      "metadata": {
        "id": "fITAymX3Rxur"
      }
    },
    {
      "cell_type": "code",
      "source": [
        "class Test:\n",
        "    a = 10\n",
        "\n",
        "print(\"Test.a is\", Test.a)"
      ],
      "metadata": {
        "id": "nVoSZQXUGHcm",
        "colab": {
          "base_uri": "https://localhost:8080/"
        },
        "outputId": "ba9e8d29-b631-417a-d961-27f7e4218e16"
      },
      "execution_count": 90,
      "outputs": [
        {
          "output_type": "stream",
          "name": "stdout",
          "text": [
            "Test.a is 10\n"
          ]
        }
      ]
    },
    {
      "cell_type": "code",
      "source": [
        "class Test:\n",
        "    a = 10\n",
        "    def __init__(self):\n",
        "        a = 20\n",
        "\n",
        "t = Test()\n",
        "print(\"Test.a is\", Test.a)"
      ],
      "metadata": {
        "id": "qQitdW8tGHfS",
        "colab": {
          "base_uri": "https://localhost:8080/"
        },
        "outputId": "3d189f6f-6266-4000-d4ca-615fe8e38b41"
      },
      "execution_count": 91,
      "outputs": [
        {
          "output_type": "stream",
          "name": "stdout",
          "text": [
            "Test.a is 10\n"
          ]
        }
      ]
    },
    {
      "cell_type": "code",
      "source": [
        "class Test:\n",
        "    a = 10\n",
        "    def __init__(self):\n",
        "        Test.a = 20\n",
        "\n",
        "t = Test()\n",
        "print(\"Test.a is\", Test.a)"
      ],
      "metadata": {
        "id": "0EtcsbYLGHhp",
        "colab": {
          "base_uri": "https://localhost:8080/"
        },
        "outputId": "c389e2f1-38e0-4936-990d-89aa19394ccd"
      },
      "execution_count": 92,
      "outputs": [
        {
          "output_type": "stream",
          "name": "stdout",
          "text": [
            "Test.a is 20\n"
          ]
        }
      ]
    },
    {
      "cell_type": "code",
      "source": [
        "class Test:\n",
        "    a = 10\n",
        "    def __init__(self):\n",
        "        Test.a = 20\n",
        "    def m1(self):\n",
        "        Test.a = 30\n",
        "\n",
        "t = Test()\n",
        "t.m1()\n",
        "print(\"Test.a is\", Test.a)"
      ],
      "metadata": {
        "id": "LMQKpskAGHnU",
        "colab": {
          "base_uri": "https://localhost:8080/"
        },
        "outputId": "c7b08ccd-88aa-4bfb-f43a-66def5ebabd3"
      },
      "execution_count": 93,
      "outputs": [
        {
          "output_type": "stream",
          "name": "stdout",
          "text": [
            "Test.a is 30\n"
          ]
        }
      ]
    },
    {
      "cell_type": "code",
      "source": [
        "class Test:\n",
        "    a = 10\n",
        "    def __init__(self):\n",
        "        Test.a = 20\n",
        "    def m1(self):\n",
        "        Test.a = 30\n",
        "    @classmethod\n",
        "    def m2(cls):\n",
        "        cls.a = 40\n",
        "\n",
        "t = Test()\n",
        "t.m1()\n",
        "Test.m2()\n",
        "print(\"Test.a is\", Test.a)"
      ],
      "metadata": {
        "id": "GCwAf0WKGHqG",
        "colab": {
          "base_uri": "https://localhost:8080/"
        },
        "outputId": "d16d9bd3-63d8-459c-f310-fa9a57bb45ab"
      },
      "execution_count": 94,
      "outputs": [
        {
          "output_type": "stream",
          "name": "stdout",
          "text": [
            "Test.a is 40\n"
          ]
        }
      ]
    },
    {
      "cell_type": "code",
      "source": [
        "class Test:\n",
        "    a = 10\n",
        "    def __init__(self):\n",
        "        Test.a = 20\n",
        "    def m1(self):\n",
        "        Test.a = 30\n",
        "    @classmethod\n",
        "    def m2(cls):\n",
        "        cls.a = 40\n",
        "        Test.a = 50\n",
        "\n",
        "t = Test()\n",
        "t.m1()\n",
        "Test.m2()\n",
        "print(\"Test.a is\", Test.a)"
      ],
      "metadata": {
        "id": "J5qX6QBkGHs7",
        "colab": {
          "base_uri": "https://localhost:8080/"
        },
        "outputId": "e2ced835-3db0-48ac-e232-794c9c721465"
      },
      "execution_count": 95,
      "outputs": [
        {
          "output_type": "stream",
          "name": "stdout",
          "text": [
            "Test.a is 50\n"
          ]
        }
      ]
    },
    {
      "cell_type": "code",
      "source": [
        "class Test:\n",
        "    a = 10\n",
        "    def __init__(self):\n",
        "        Test.a = 20\n",
        "    def m1(self):\n",
        "        Test.a = 30\n",
        "    @classmethod\n",
        "    def m2(cls):\n",
        "        cls.a = 40\n",
        "        Test.a = 50\n",
        "    @staticmethod\n",
        "    def m3():\n",
        "        Test.a = 60\n",
        "\n",
        "t = Test()\n",
        "t.m1()\n",
        "Test.m2()\n",
        "Test.m3()\n",
        "print(\"Test.a is\", Test.a)"
      ],
      "metadata": {
        "colab": {
          "base_uri": "https://localhost:8080/"
        },
        "id": "WMqvlAkgpOf4",
        "outputId": "5f8d18a3-3808-4702-90c4-bc5fda5afc6c"
      },
      "execution_count": 96,
      "outputs": [
        {
          "output_type": "stream",
          "name": "stdout",
          "text": [
            "Test.a is 60\n"
          ]
        }
      ]
    },
    {
      "cell_type": "code",
      "source": [
        "class Test:\n",
        "    a = 10\n",
        "    def __init__(self):\n",
        "        Test.a = 20\n",
        "    def m1(self):\n",
        "        Test.a = 30\n",
        "    @classmethod\n",
        "    def m2(cls):\n",
        "        cls.a = 40\n",
        "        Test.a = 50\n",
        "    @staticmethod\n",
        "    def m3():\n",
        "        Test.a = 60\n",
        "\n",
        "t = Test()\n",
        "t.m1()\n",
        "Test.m2()\n",
        "Test.m3()\n",
        "Test.a = 70\n",
        "print(\"Test.a is\", Test.a)"
      ],
      "metadata": {
        "colab": {
          "base_uri": "https://localhost:8080/"
        },
        "id": "ENyXJHujpOi8",
        "outputId": "7d1faef2-9f0c-4b83-b63d-d980ca600a61"
      },
      "execution_count": 97,
      "outputs": [
        {
          "output_type": "stream",
          "name": "stdout",
          "text": [
            "Test.a is 70\n"
          ]
        }
      ]
    },
    {
      "cell_type": "markdown",
      "source": [
        "### Example programs on instance and static variables"
      ],
      "metadata": {
        "id": "5DzDH0opEWaG"
      }
    },
    {
      "cell_type": "markdown",
      "source": [
        "**What is the output of following code**\n",
        "* We can't modify the value of static variable by using self or object reference"
      ],
      "metadata": {
        "id": "1IsGf45sqXjZ"
      }
    },
    {
      "cell_type": "code",
      "source": [
        "class Test:\n",
        "    a = 10\n",
        "    def m1(self):\n",
        "        self.a = 888\n",
        "\n",
        "t = Test()\n",
        "t.m1()\n",
        "print(\"Test.a\",Test.a)\n",
        "print(\"t.a\", t.a) # ALways first priority is given to instance variable, if it doesn't exist then static variable is considered."
      ],
      "metadata": {
        "colab": {
          "base_uri": "https://localhost:8080/"
        },
        "id": "BLMQiinFpOlp",
        "outputId": "5e2479d6-67df-4af3-8a66-c01ffb13e325"
      },
      "execution_count": 98,
      "outputs": [
        {
          "output_type": "stream",
          "name": "stdout",
          "text": [
            "Test.a 10\n",
            "t.a 888\n"
          ]
        }
      ]
    },
    {
      "cell_type": "markdown",
      "source": [
        "**What is the output of following code?**"
      ],
      "metadata": {
        "id": "unRYcfAGr0SN"
      }
    },
    {
      "cell_type": "code",
      "source": [
        "class Test:\n",
        "    a = 10\n",
        "    def m1(self):\n",
        "        Test.a = 888\n",
        "\n",
        "t = Test()\n",
        "t.m1()\n",
        "print(\"Test.a\",Test.a)\n",
        "print(\"t.a\", t.a) # Object t dosn't have any instance variable, it goes to static variable"
      ],
      "metadata": {
        "colab": {
          "base_uri": "https://localhost:8080/"
        },
        "id": "T_bwgLLVpOn1",
        "outputId": "a4398671-2227-42c5-fc61-f35e84d04921"
      },
      "execution_count": 99,
      "outputs": [
        {
          "output_type": "stream",
          "name": "stdout",
          "text": [
            "Test.a 888\n",
            "t.a 888\n"
          ]
        }
      ]
    },
    {
      "cell_type": "code",
      "source": [
        "class Test:\n",
        "    a = 10\n",
        "    def __init__(self):\n",
        "        self.b = 20\n",
        "\n",
        "t1 = Test()\n",
        "t2 = Test()\n",
        "print(\"t1.a and t1.b\", t1.a, t1.b)\n",
        "print(\"t2.a and t2.b\", t2.a, t2.b)\n",
        "\n",
        "t1.a = 888\n",
        "t1.b = 999\n",
        "print(\"t1.a and t1.b\", t1.a, t1.b)\n",
        "print(\"t2.a and t2.b\", t2.a, t2.b)"
      ],
      "metadata": {
        "colab": {
          "base_uri": "https://localhost:8080/"
        },
        "id": "fyPghx0npOpp",
        "outputId": "e18bf8b3-d228-44ef-cb11-c7ce6c2345c7"
      },
      "execution_count": 100,
      "outputs": [
        {
          "output_type": "stream",
          "name": "stdout",
          "text": [
            "t1.a and t1.b 10 20\n",
            "t2.a and t2.b 10 20\n",
            "t1.a and t1.b 888 999\n",
            "t2.a and t2.b 10 20\n"
          ]
        }
      ]
    },
    {
      "cell_type": "markdown",
      "source": [
        "**What is the output of following program?**"
      ],
      "metadata": {
        "id": "GwEm6hqO0YaV"
      }
    },
    {
      "cell_type": "code",
      "source": [
        "class Test:\n",
        "    a = 10\n",
        "    def __init__(self):\n",
        "        self.b = 20\n",
        "\n",
        "t1 = Test()\n",
        "t2 = Test()\n",
        "print(\"t1.a and t1.b\", t1.a, t1.b)\n",
        "print(\"t2.a and t2.b\", t2.a, t2.b)\n",
        "\n",
        "Test.a = 888\n",
        "Test.b = 999\n",
        "print(\"t1.a and t1.b\", t1.a, t1.b)\n",
        "print(\"t2.a and t2.b\", t2.a, t2.b)\n",
        "print(\"Test.a and Test.b\", Test.a, Test.b)"
      ],
      "metadata": {
        "colab": {
          "base_uri": "https://localhost:8080/"
        },
        "id": "M-4QmsZEpOsK",
        "outputId": "83224624-4e20-4d1d-e291-a0396b9cff3d"
      },
      "execution_count": 101,
      "outputs": [
        {
          "output_type": "stream",
          "name": "stdout",
          "text": [
            "t1.a and t1.b 10 20\n",
            "t2.a and t2.b 10 20\n",
            "t1.a and t1.b 888 20\n",
            "t2.a and t2.b 888 20\n",
            "Test.a and Test.b 888 999\n"
          ]
        }
      ]
    },
    {
      "cell_type": "markdown",
      "source": [
        "**What is the output of following code?**"
      ],
      "metadata": {
        "id": "rfutVTM58y8U"
      }
    },
    {
      "cell_type": "code",
      "source": [
        "class Test:\n",
        "    a = 10\n",
        "    def __init__(self):\n",
        "        self.b = 20\n",
        "\n",
        "t1 = Test()\n",
        "t2 = Test()\n",
        "print(\"t1.a and t1.b\", t1.a, t1.b)\n",
        "print(\"t2.a and t2.b\", t2.a, t2.b)\n",
        "\n",
        "Test.a = 888\n",
        "t1.b = 999\n",
        "print(\"t1.a and t1.b\", t1.a, t1.b)\n",
        "print(\"t2.a and t2.b\", t2.a, t2.b)"
      ],
      "metadata": {
        "colab": {
          "base_uri": "https://localhost:8080/"
        },
        "id": "O5A2W2RJpOuR",
        "outputId": "6195a69a-a5d6-4a1c-876a-f3dd8cc146fc"
      },
      "execution_count": 102,
      "outputs": [
        {
          "output_type": "stream",
          "name": "stdout",
          "text": [
            "t1.a and t1.b 10 20\n",
            "t2.a and t2.b 10 20\n",
            "t1.a and t1.b 888 999\n",
            "t2.a and t2.b 888 20\n"
          ]
        }
      ]
    },
    {
      "cell_type": "markdown",
      "source": [
        "**What is the output of following code?**"
      ],
      "metadata": {
        "id": "JNuhBdfb9KM1"
      }
    },
    {
      "cell_type": "code",
      "source": [
        "class Test:\n",
        "    a = 10\n",
        "    def __init__(self):\n",
        "        self.b = 20\n",
        "    def m1(self):\n",
        "        self.a = 888\n",
        "        self.b = 999\n",
        "\n",
        "t1 = Test()\n",
        "t2 = Test()\n",
        "t1.m1()\n",
        "print(\"t1.a and t1.b\", t1.a, t1.b)\n",
        "print(\"t2.a and t2.b\", t2.a, t2.b)"
      ],
      "metadata": {
        "colab": {
          "base_uri": "https://localhost:8080/"
        },
        "id": "IQTE54capOwn",
        "outputId": "64934d06-caf1-4ee2-98ec-588e51dc60c7"
      },
      "execution_count": 103,
      "outputs": [
        {
          "output_type": "stream",
          "name": "stdout",
          "text": [
            "t1.a and t1.b 888 999\n",
            "t2.a and t2.b 10 20\n"
          ]
        }
      ]
    },
    {
      "cell_type": "markdown",
      "source": [
        "**What is the output of following code?**"
      ],
      "metadata": {
        "id": "fHkjcnAzBCgH"
      }
    },
    {
      "cell_type": "code",
      "source": [
        "class Test:\n",
        "    a = 10\n",
        "    def __init__(self):\n",
        "        self.b = 20\n",
        "    def m1(self):\n",
        "        self.a = 888\n",
        "        self.b = 999\n",
        "\n",
        "t1 = Test()\n",
        "t2 = Test()\n",
        "t1.m1()\n",
        "t2.m1()\n",
        "print(\"t1.a and t1.b\", t1.a, t1.b)\n",
        "print(\"t2.a and t2.b\", t2.a, t2.b)"
      ],
      "metadata": {
        "colab": {
          "base_uri": "https://localhost:8080/"
        },
        "id": "RitL7W3B9kkX",
        "outputId": "793d526b-9850-4512-fde6-e28f91e1814c"
      },
      "execution_count": 104,
      "outputs": [
        {
          "output_type": "stream",
          "name": "stdout",
          "text": [
            "t1.a and t1.b 888 999\n",
            "t2.a and t2.b 888 999\n"
          ]
        }
      ]
    },
    {
      "cell_type": "markdown",
      "source": [
        "**What is the output of following code?**"
      ],
      "metadata": {
        "id": "CDvdUx_fEnOF"
      }
    },
    {
      "cell_type": "code",
      "source": [
        "class Test:\n",
        "    a = 10\n",
        "    def __init__(self):\n",
        "        self.b = 20\n",
        "    @classmethod\n",
        "    def m1(cls):\n",
        "        cls.a = 888\n",
        "        cls.b = 999\n",
        "\n",
        "t1 = Test()\n",
        "t2 = Test()\n",
        "t1.m1() # This is why Test.m1() is recommended.\n",
        "print(\"t1.a, t1.b\", t1.a, t1.b)\n",
        "print(\"t2.a, t2.b\", t2.a, t2.b)\n",
        "print(\"Test.a, Test.b\", Test.a, Test.b)"
      ],
      "metadata": {
        "colab": {
          "base_uri": "https://localhost:8080/"
        },
        "id": "B7_BKSosF-1p",
        "outputId": "90ccda2d-f4b9-4911-fb34-fa9ac46d83ac"
      },
      "execution_count": 105,
      "outputs": [
        {
          "output_type": "stream",
          "name": "stdout",
          "text": [
            "t1.a, t1.b 888 20\n",
            "t2.a, t2.b 888 20\n",
            "Test.a, Test.b 888 999\n"
          ]
        }
      ]
    },
    {
      "cell_type": "code",
      "source": [
        "class Test:\n",
        "    a = 10\n",
        "    def __init__(self):\n",
        "        self.b = 20\n",
        "    @classmethod\n",
        "    def m1(cls):\n",
        "        cls.a = 888\n",
        "        cls.b = 999\n",
        "\n",
        "t1 = Test()\n",
        "t2 = Test()\n",
        "t2.m1() # This is why Test.m1() is recommended.\n",
        "print(\"t1.a, t1.b\", t1.a, t1.b)\n",
        "print(\"t2.a, t2.b\", t2.a, t2.b)\n",
        "print(\"Test.a, Test.b\", Test.a, Test.b)"
      ],
      "metadata": {
        "colab": {
          "base_uri": "https://localhost:8080/"
        },
        "id": "ng1C-1Mw9knN",
        "outputId": "81419d74-becc-44a1-f0ad-a2ada07036ac"
      },
      "execution_count": 106,
      "outputs": [
        {
          "output_type": "stream",
          "name": "stdout",
          "text": [
            "t1.a, t1.b 888 20\n",
            "t2.a, t2.b 888 20\n",
            "Test.a, Test.b 888 999\n"
          ]
        }
      ]
    },
    {
      "cell_type": "code",
      "source": [
        "class Test:\n",
        "    a = 10\n",
        "    def __init__(self):\n",
        "        self.b = 20\n",
        "    @classmethod\n",
        "    def m1(cls):\n",
        "        cls.a = 888\n",
        "        cls.b = 999\n",
        "\n",
        "t1 = Test()\n",
        "t2 = Test()\n",
        "Test.m1() # This is why Test.m1() is recommended.\n",
        "print(\"t1.a, t1.b\", t1.a, t1.b)\n",
        "print(\"t2.a, t2.b\", t2.a, t2.b)\n",
        "print(\"Test.a, Test.b\", Test.a, Test.b)"
      ],
      "metadata": {
        "id": "b6BCVnX0GCCh",
        "outputId": "296ae6c7-db24-4832-f736-ab4da9834f39",
        "colab": {
          "base_uri": "https://localhost:8080/"
        }
      },
      "execution_count": 107,
      "outputs": [
        {
          "output_type": "stream",
          "name": "stdout",
          "text": [
            "t1.a, t1.b 888 20\n",
            "t2.a, t2.b 888 20\n",
            "Test.a, Test.b 888 999\n"
          ]
        }
      ]
    },
    {
      "cell_type": "markdown",
      "source": [
        "### How to Delete static variables of a class?\n",
        "* We can delete static variables from anywhere by using the following syntax ***del classname***.variablename\n",
        "* But inside classmethod we can also use cls variable ***del cls.variablename***."
      ],
      "metadata": {
        "id": "dHn7eFKGGI-j"
      }
    },
    {
      "cell_type": "code",
      "source": [
        "class Test:\n",
        "    a=10\n",
        "    @classmethod\n",
        "    def m1(cls):\n",
        "        del cls.a\n",
        "\n",
        "t = Test()\n",
        "# Test.m1()\n",
        "print(Test.__dict__)"
      ],
      "metadata": {
        "colab": {
          "base_uri": "https://localhost:8080/"
        },
        "id": "_qr4yh7x9kpn",
        "outputId": "8f35d318-756f-4961-c2c4-64d681bac5a8"
      },
      "execution_count": 108,
      "outputs": [
        {
          "output_type": "stream",
          "name": "stdout",
          "text": [
            "{'__module__': '__main__', 'a': 10, 'm1': <classmethod(<function Test.m1 at 0x7b0cc01212d0>)>, '__dict__': <attribute '__dict__' of 'Test' objects>, '__weakref__': <attribute '__weakref__' of 'Test' objects>, '__doc__': None}\n"
          ]
        }
      ]
    },
    {
      "cell_type": "code",
      "source": [
        "class Test:\n",
        "    a=10\n",
        "    @classmethod\n",
        "    def m1(cls):\n",
        "        del cls.a\n",
        "\n",
        "Test.m1()\n",
        "print(Test.__dict__)"
      ],
      "metadata": {
        "colab": {
          "base_uri": "https://localhost:8080/"
        },
        "id": "HYbxkZ7U9ksF",
        "outputId": "5819b6c3-a8bc-46dc-949d-1965f32ac7f6"
      },
      "execution_count": 109,
      "outputs": [
        {
          "output_type": "stream",
          "name": "stdout",
          "text": [
            "{'__module__': '__main__', 'm1': <classmethod(<function Test.m1 at 0x7b0cc0121cf0>)>, '__dict__': <attribute '__dict__' of 'Test' objects>, '__weakref__': <attribute '__weakref__' of 'Test' objects>, '__doc__': None}\n"
          ]
        }
      ]
    },
    {
      "cell_type": "code",
      "source": [
        "class Test:\n",
        "    a=10\n",
        "    def __init__(self):\n",
        "        Test.b=20\n",
        "        del Test.a\n",
        "\n",
        "    def m1(self):\n",
        "        Test.c=30\n",
        "        del Test.b\n",
        "\n",
        "    @classmethod\n",
        "    def m2(cls):\n",
        "        cls.d=40\n",
        "        del Test.c\n",
        "\n",
        "    @staticmethod\n",
        "    def m3():\n",
        "        Test.e=50\n",
        "        del Test.d\n",
        "\n",
        "print(Test.__dict__)\n",
        "\n",
        "t=Test()\n",
        "print(Test.__dict__)\n",
        "\n",
        "t.m1()\n",
        "print(Test.__dict__)\n",
        "\n",
        "Test.m2()\n",
        "print(Test.__dict__)\n",
        "\n",
        "Test.m3()\n",
        "print(Test.__dict__)\n",
        "\n",
        "Test.f=60\n",
        "print(Test.__dict__)\n",
        "\n",
        "del Test.e\n",
        "print(Test.__dict__)"
      ],
      "metadata": {
        "colab": {
          "base_uri": "https://localhost:8080/"
        },
        "id": "L8_lx_Dv9ku4",
        "outputId": "d421cfe3-e84f-443b-c92d-43e5ff2d94bf"
      },
      "execution_count": 110,
      "outputs": [
        {
          "output_type": "stream",
          "name": "stdout",
          "text": [
            "{'__module__': '__main__', 'a': 10, '__init__': <function Test.__init__ at 0x7b0cc0121d80>, 'm1': <function Test.m1 at 0x7b0cc0121e10>, 'm2': <classmethod(<function Test.m2 at 0x7b0cc01208b0>)>, 'm3': <staticmethod(<function Test.m3 at 0x7b0cc0120700>)>, '__dict__': <attribute '__dict__' of 'Test' objects>, '__weakref__': <attribute '__weakref__' of 'Test' objects>, '__doc__': None}\n",
            "{'__module__': '__main__', '__init__': <function Test.__init__ at 0x7b0cc0121d80>, 'm1': <function Test.m1 at 0x7b0cc0121e10>, 'm2': <classmethod(<function Test.m2 at 0x7b0cc01208b0>)>, 'm3': <staticmethod(<function Test.m3 at 0x7b0cc0120700>)>, '__dict__': <attribute '__dict__' of 'Test' objects>, '__weakref__': <attribute '__weakref__' of 'Test' objects>, '__doc__': None, 'b': 20}\n",
            "{'__module__': '__main__', '__init__': <function Test.__init__ at 0x7b0cc0121d80>, 'm1': <function Test.m1 at 0x7b0cc0121e10>, 'm2': <classmethod(<function Test.m2 at 0x7b0cc01208b0>)>, 'm3': <staticmethod(<function Test.m3 at 0x7b0cc0120700>)>, '__dict__': <attribute '__dict__' of 'Test' objects>, '__weakref__': <attribute '__weakref__' of 'Test' objects>, '__doc__': None, 'c': 30}\n",
            "{'__module__': '__main__', '__init__': <function Test.__init__ at 0x7b0cc0121d80>, 'm1': <function Test.m1 at 0x7b0cc0121e10>, 'm2': <classmethod(<function Test.m2 at 0x7b0cc01208b0>)>, 'm3': <staticmethod(<function Test.m3 at 0x7b0cc0120700>)>, '__dict__': <attribute '__dict__' of 'Test' objects>, '__weakref__': <attribute '__weakref__' of 'Test' objects>, '__doc__': None, 'd': 40}\n",
            "{'__module__': '__main__', '__init__': <function Test.__init__ at 0x7b0cc0121d80>, 'm1': <function Test.m1 at 0x7b0cc0121e10>, 'm2': <classmethod(<function Test.m2 at 0x7b0cc01208b0>)>, 'm3': <staticmethod(<function Test.m3 at 0x7b0cc0120700>)>, '__dict__': <attribute '__dict__' of 'Test' objects>, '__weakref__': <attribute '__weakref__' of 'Test' objects>, '__doc__': None, 'e': 50}\n",
            "{'__module__': '__main__', '__init__': <function Test.__init__ at 0x7b0cc0121d80>, 'm1': <function Test.m1 at 0x7b0cc0121e10>, 'm2': <classmethod(<function Test.m2 at 0x7b0cc01208b0>)>, 'm3': <staticmethod(<function Test.m3 at 0x7b0cc0120700>)>, '__dict__': <attribute '__dict__' of 'Test' objects>, '__weakref__': <attribute '__weakref__' of 'Test' objects>, '__doc__': None, 'e': 50, 'f': 60}\n",
            "{'__module__': '__main__', '__init__': <function Test.__init__ at 0x7b0cc0121d80>, 'm1': <function Test.m1 at 0x7b0cc0121e10>, 'm2': <classmethod(<function Test.m2 at 0x7b0cc01208b0>)>, 'm3': <staticmethod(<function Test.m3 at 0x7b0cc0120700>)>, '__dict__': <attribute '__dict__' of 'Test' objects>, '__weakref__': <attribute '__weakref__' of 'Test' objects>, '__doc__': None, 'f': 60}\n"
          ]
        }
      ]
    },
    {
      "cell_type": "markdown",
      "source": [
        "* By using object reference variable/self we can read static variables, but we cannot modify or delete.\n",
        "* If we are trying to modify, then a new instance variable will be added to that particular object.\n",
        "* t1.a = 70\n",
        "* If we are trying to delete then we will get error."
      ],
      "metadata": {
        "id": "svOXLi0Koe63"
      }
    },
    {
      "cell_type": "code",
      "source": [
        "class Test:\n",
        "    a=10\n",
        "\n",
        "t1=Test()\n",
        "# del t1.a\n",
        "# AttributeError: a"
      ],
      "metadata": {
        "id": "gACNp-2Tm_ml"
      },
      "execution_count": 111,
      "outputs": []
    },
    {
      "cell_type": "markdown",
      "source": [
        "**We can modify or delete static variables only by using classname or cls variable.**"
      ],
      "metadata": {
        "id": "VjoQLk-4rdot"
      }
    },
    {
      "cell_type": "markdown",
      "source": [
        "## Local Variables\n",
        "* Sometimes to meet temporary requirements of programmer, we can declare variables inside a method directly, such type of variables are called local variable or temporary variables.\n",
        "* Local variables will be created at the time of method execution and destroyed once method completes.\n",
        "* Local variables of a method cannot be accessed from outside of method."
      ],
      "metadata": {
        "id": "xqpGil9hajAO"
      }
    },
    {
      "cell_type": "code",
      "source": [
        "class student:\n",
        "    school_name = 'school'\n",
        "    def __init__(self, name, rollno):\n",
        "        self.name = name\n",
        "        self.rollno = rollno\n",
        "    def info(self, x):\n",
        "        x = 10 # Local variable\n",
        "        for i in range(x):\n",
        "            print('i', i) # i is also a local variable\n",
        "\n",
        "r = student('name', 'rollno')\n",
        "# print(x) NameError: name 'x' is not defined\n",
        "# print(i) NameError: name 'i' is not defined"
      ],
      "metadata": {
        "id": "2c6foADwazwW"
      },
      "execution_count": 112,
      "outputs": []
    },
    {
      "cell_type": "code",
      "source": [
        "class test:\n",
        "    def m1(self):\n",
        "        a = 10\n",
        "        print(a)\n",
        "    def m2(self):\n",
        "        print(a)\n",
        "\n",
        "t = test()\n",
        "t.m1()\n",
        "# t.m2() NameError: name 'a' is not defined"
      ],
      "metadata": {
        "colab": {
          "base_uri": "https://localhost:8080/"
        },
        "id": "28kZFiCAHOZU",
        "outputId": "78085042-52bc-4829-f30f-36ab7c1bd278"
      },
      "execution_count": 113,
      "outputs": [
        {
          "output_type": "stream",
          "name": "stdout",
          "text": [
            "10\n"
          ]
        }
      ]
    },
    {
      "cell_type": "markdown",
      "source": [
        "### A mini bank application"
      ],
      "metadata": {
        "id": "S_CgFYm9RbiI"
      }
    },
    {
      "cell_type": "code",
      "source": [
        "import sys\n",
        "class Customer:\n",
        "    ''''' Customer class with bank operations.. '''\n",
        "    bankname='DURGABANK'\n",
        "    def __init__(self, name, balance = 0.0):\n",
        "        self.name = name\n",
        "        self.balance = balance\n",
        "\n",
        "    def deposit(self, amount):\n",
        "        self.balance += amount\n",
        "        print(\"Balance after deposit\", self.balance)\n",
        "\n",
        "    def withdraw(self, amount):\n",
        "        if amount > self.balance:\n",
        "            print('Insufficient Funds..cannot perform this operation')\n",
        "            # sys.exit()\n",
        "        else:\n",
        "            self.balance = self.balance - amount\n",
        "            print('Balance after withdraw:',self.balance)\n",
        "\n",
        "# Use Customer class\n",
        "print('Welcome to',Customer.bankname)\n",
        "name=input('Enter Your Name:')\n",
        "c = Customer(name)\n",
        "while True: # Loop will be executed infinite number of times\n",
        "    print('d-Deposit \\nw-Withdraw \\ne-exit')\n",
        "    option=input('Choose your option:')\n",
        "    if option.lower() == 'd': # option=='d' or option=='D':\n",
        "        amt=float(input('Enter amount:'))\n",
        "        c.deposit(amt)\n",
        "    elif option.lower() == 'w': # option=='w' or option=='W':\n",
        "        amt=float(input('Enter amount:'))\n",
        "        c.withdraw(amt)\n",
        "    elif option.lower() == 'e': # option=='e' or option=='E':\n",
        "        print('Thanks for Banking')\n",
        "        break # sys.exit()\n",
        "    else:\n",
        "        print('Invalid option..Plz choose valid option')\n",
        "\n"
      ],
      "metadata": {
        "id": "Gdt4THPBm_ph",
        "colab": {
          "base_uri": "https://localhost:8080/"
        },
        "outputId": "7d1105a3-8ba5-4d26-9e2e-590b43d0c5be"
      },
      "execution_count": 114,
      "outputs": [
        {
          "output_type": "stream",
          "name": "stdout",
          "text": [
            "Welcome to DURGABANK\n",
            "Enter Your Name:Sreeram\n",
            "d-Deposit \n",
            "w-Withdraw \n",
            "e-exit\n",
            "Choose your option:d\n",
            "Enter amount:10000\n",
            "Balance after deposit 10000.0\n",
            "d-Deposit \n",
            "w-Withdraw \n",
            "e-exit\n",
            "Choose your option:w\n",
            "Enter amount:100\n",
            "Balance after withdraw: 9900.0\n",
            "d-Deposit \n",
            "w-Withdraw \n",
            "e-exit\n",
            "Choose your option:d\n",
            "Enter amount:5000000\n",
            "Balance after deposit 5009900.0\n",
            "d-Deposit \n",
            "w-Withdraw \n",
            "e-exit\n",
            "Choose your option:5000\n",
            "Invalid option..Plz choose valid option\n",
            "d-Deposit \n",
            "w-Withdraw \n",
            "e-exit\n",
            "Choose your option:w\n",
            "Enter amount:5000\n",
            "Balance after withdraw: 5004900.0\n",
            "d-Deposit \n",
            "w-Withdraw \n",
            "e-exit\n",
            "Choose your option:e\n",
            "Thanks for Banking\n"
          ]
        }
      ]
    },
    {
      "cell_type": "markdown",
      "source": [
        "## Types of Methods\n",
        "Within the Python class, we can represent operations by using methods. The following are various types of allowed methods.\n",
        "1. Instance Methods\n",
        "2. Class Methods\n",
        "3. Static Methods"
      ],
      "metadata": {
        "id": "R6w8hmP0wNQs"
      }
    },
    {
      "cell_type": "markdown",
      "source": [
        "### Instance Method\n",
        "* Inside method implementation if we are using atleast one instance variable then such type of methods are called instance methods.\n",
        "* Inside instance method declaration, we have to pass self variable.\n",
        "* By using self variable inside method we can able to access instance variables. **def m1(self):**\n",
        "* Within the class we can call instance method by using self variable and from outside of the class we can call by using object reference."
      ],
      "metadata": {
        "id": "xJaWnprRcDB-"
      }
    },
    {
      "cell_type": "code",
      "source": [
        "class student:\n",
        "    def __init__(self, name, rollno, marks):\n",
        "        self.name = name # Instance variable\n",
        "        self.rollno = rollno # Instance variable\n",
        "        self.marks = marks # Instance variable\n",
        "    def getStudentInfo(self): # Instance Method\n",
        "        print(\"Student Name: \", self.name)\n",
        "        print(\"Student rollno: \", self.rollno)\n",
        "        print(\"Student marks: \", self.marks)\n",
        "    def grade(self):\n",
        "        if self.marks >= 60:\n",
        "            print(\"You secured First Grade\")\n",
        "        elif self.marks >= 50:\n",
        "            print(\"You secured Second Grade\")\n",
        "        elif self.marks >= 35:\n",
        "            print(\"You secured Third Grade\")\n",
        "        else:\n",
        "            print(\"You are Failed\")\n",
        "\n",
        "n = int(input(\"Enter Number of students: \"))\n",
        "for i in range(n):\n",
        "    name = input(\"Enter student name: \")\n",
        "    rollno = input(\"Enter student roll number: \")\n",
        "    marks = int(input(\"Enter student marks: \"))\n",
        "    s = student(name, rollno, marks)\n",
        "    s.getStudentInfo()\n",
        "    s.grade()\n",
        "    print(\"\\n\")"
      ],
      "metadata": {
        "id": "wts_0-3PcRGL",
        "colab": {
          "base_uri": "https://localhost:8080/"
        },
        "outputId": "19716222-ebb2-45f0-f0ea-1c154736e716"
      },
      "execution_count": 117,
      "outputs": [
        {
          "output_type": "stream",
          "name": "stdout",
          "text": [
            "Enter Number of students: 1\n",
            "Enter student name: a\n",
            "Enter student roll number: 1\n",
            "Enter student marks: 1\n",
            "Student Name:  a\n",
            "Student rollno:  1\n",
            "Student marks:  1\n",
            "You are Failed\n",
            "\n",
            "\n"
          ]
        }
      ]
    },
    {
      "cell_type": "markdown",
      "source": [
        "### Setter and Getter Methods\n",
        "* We can set and get the values of instance variables by using getter and setter methods.\n",
        "* If we know values at the begining the we can use constructor. But you want to set values after creating the object, setter and getter methods are useful."
      ],
      "metadata": {
        "id": "xmCyYpvaaPOG"
      }
    },
    {
      "cell_type": "markdown",
      "source": [
        "#### Setter Method:\n",
        "* Setter methods can be used to set values to the instance variables.\n",
        "\n",
        "* Setter methods also known as mutator methods.\n",
        "\n",
        "Syntax:\n",
        "\n",
        "def setVariable(self,variable):\n",
        "\n",
        "self.variable=variable"
      ],
      "metadata": {
        "id": "YY8mm_qcabK8"
      }
    },
    {
      "cell_type": "markdown",
      "source": [
        "#### Getter Method\n",
        "* Getter methods can be used to get values of the instance variables.\n",
        "* Getter methods also known as accessor methods.\n",
        "\n",
        "Syntax:\n",
        "\n",
        "def getVariable(self):\n",
        "\n",
        "return self.variable"
      ],
      "metadata": {
        "id": "3dr7xldfqET_"
      }
    },
    {
      "cell_type": "code",
      "source": [
        "# A default constructor is automatically created\n",
        "\n",
        "class student:\n",
        "    def setName(self,name):\n",
        "        self.name=name\n",
        "    def getName(self):\n",
        "        return self.name\n",
        "    def setMarks(self,marks):\n",
        "        self.marks=marks\n",
        "    def getMarks(self):\n",
        "        return self.marks\n",
        "\n",
        "n = int(input(\"Enter number of students: \"))\n",
        "students = []\n",
        "for i in range(n):\n",
        "    s = student()\n",
        "    name = input(\"Enter Student Name: \")\n",
        "    marks = int(input(\"Enter Student Marks: \"))\n",
        "    s.setName(name)\n",
        "    s.setMarks(marks)\n",
        "    students.append(s)\n",
        "\n",
        "for student in students:\n",
        "    print(\"Hello \", student.getName())\n",
        "    print(\"Your marks are \", student.getMarks())\n",
        "    print(\"\\n\")"
      ],
      "metadata": {
        "colab": {
          "base_uri": "https://localhost:8080/"
        },
        "id": "C1qbSPnWSIlR",
        "outputId": "efacd4bc-de3a-4b2d-99b9-057a8cee39c9"
      },
      "execution_count": 116,
      "outputs": [
        {
          "output_type": "stream",
          "name": "stdout",
          "text": [
            "Enter number of students: 1\n",
            "Enter Student Name: a\n",
            "Enter Student Marks: 1\n",
            "Hello  a\n",
            "Your marks are  1\n",
            "\n",
            "\n"
          ]
        }
      ]
    },
    {
      "cell_type": "markdown",
      "source": [
        "### Class Method\n",
        "* Inside method implementation if we are using **only class variables (static variables) and not using any instance variables,** then such type of methods we should declare as class method.\n",
        "* We can declare class method explicitly by using **@classmethod decorator**.\n",
        "* For class method we should provide ***cls*** variable at the time of declaration\n",
        "* We can call class method by using classname or object reference variable."
      ],
      "metadata": {
        "id": "YLT5vhSRdXAO"
      }
    },
    {
      "cell_type": "code",
      "source": [
        "class student:\n",
        "    school_name = 'school' # Static variable\n",
        "    def __init__(self, name, rollno):\n",
        "        self.name = name\n",
        "        self.rollno = rollno\n",
        "\n",
        "    @classmethod\n",
        "    def getSchoolInfo(cls):\n",
        "        print(\"School name\",cls.school_name)\n",
        "\n",
        "s = student('Sreeram', 123)\n",
        "s.getSchoolInfo()"
      ],
      "metadata": {
        "id": "hH0jorGtdvaJ",
        "colab": {
          "base_uri": "https://localhost:8080/"
        },
        "outputId": "30860995-f480-4e39-c675-09ed36f56129"
      },
      "execution_count": 118,
      "outputs": [
        {
          "output_type": "stream",
          "name": "stdout",
          "text": [
            "School name school\n"
          ]
        }
      ]
    },
    {
      "cell_type": "code",
      "source": [
        "# For every class python will create one class object to store class level information\n",
        "class test:\n",
        "    @classmethod\n",
        "    def method(cls):\n",
        "        print(\"Address of cls\", id(cls))\n",
        "\n",
        "t = test()\n",
        "t.method()\n",
        "print(\"Address of class object\", id(test))"
      ],
      "metadata": {
        "colab": {
          "base_uri": "https://localhost:8080/"
        },
        "id": "NTjBIZvsewUx",
        "outputId": "cc35a0e2-0dbd-490b-912e-94f7b0119675"
      },
      "execution_count": 119,
      "outputs": [
        {
          "output_type": "stream",
          "name": "stdout",
          "text": [
            "Address of cls 99658411297376\n",
            "Address of class object 99658411297376\n"
          ]
        }
      ]
    },
    {
      "cell_type": "code",
      "source": [
        "# FInd out number of objects created from a class\n",
        "\n",
        "class Test:\n",
        "    counter = 0\n",
        "    def __init__(self):\n",
        "        Test.counter += 1\n",
        "\n",
        "    @classmethod\n",
        "    def getNoOfObjects(cls):\n",
        "        print(\"Number of objects created: \",cls.counter)\n",
        "\n",
        "    def count(self):\n",
        "        print(\"Count of objects: \", self.counter)\n",
        "\n",
        "Test.getNoOfObjects()\n",
        "t = Test()\n",
        "t.getNoOfObjects()\n",
        "t.count()"
      ],
      "metadata": {
        "colab": {
          "base_uri": "https://localhost:8080/"
        },
        "id": "UNsijZ83PUX2",
        "outputId": "264be4ee-35f2-49d9-8577-300cf9356257"
      },
      "execution_count": 120,
      "outputs": [
        {
          "output_type": "stream",
          "name": "stdout",
          "text": [
            "Number of objects created:  0\n",
            "Number of objects created:  1\n",
            "Count of objects:  1\n"
          ]
        }
      ]
    },
    {
      "cell_type": "code",
      "source": [
        "from rich.table import Table\n",
        "table = Table(title=\"Instance vs. Class Methods\")\n",
        "\n",
        "# Specify the Column Names while initializing the Table\n",
        "table.add_column(\"Instance Method\", justify=\"center\", no_wrap=False)\n",
        "table.add_column(\"Class Method\", justify=\"center\", no_wrap=False)\n",
        "\n",
        "# Add rows\n",
        "table.add_row('Using atleast one instance variable in a method implementation', 'Using only static variables in a method implementation')\n",
        "table.add_row('\\n', '\\n')\n",
        "table.add_row('We can access both static and instance variables in a method',\n",
        "                 'We can access only static variables in a method')\n",
        "table.add_row('\\n', '\\n')\n",
        "table.add_row('No need of any decorator to declare this method',\n",
        "                 '@classmethod decorator is needed to declare this method')\n",
        "table.add_row('\\n', '\\n')\n",
        "table.add_row('First argument to this method is self',\n",
        "                 'First argument to this method is cls')\n",
        "table.add_row('\\n', '\\n')\n",
        "table.add_row('To access this method we must use object reference',\n",
        "                 'We can access this method either by class name(Recommended) or by object reference')\n",
        "\n",
        "from rich.console import Console\n",
        "console = Console()\n",
        "console.print(table)"
      ],
      "metadata": {
        "colab": {
          "base_uri": "https://localhost:8080/",
          "height": 369
        },
        "id": "oHzN255K8vdE",
        "outputId": "fc640ebb-ce24-4935-d10f-962e239fd7ce"
      },
      "execution_count": 121,
      "outputs": [
        {
          "output_type": "display_data",
          "data": {
            "text/plain": [
              "\u001b[3m                                            Instance vs. Class Methods                                             \u001b[0m\n",
              "┏━━━━━━━━━━━━━━━━━━━━━━━━━━━━━━━━━━━━━━━━━━━━━━━━━━━━━━━━┳━━━━━━━━━━━━━━━━━━━━━━━━━━━━━━━━━━━━━━━━━━━━━━━━━━━━━━━━┓\n",
              "┃\u001b[1m \u001b[0m\u001b[1m                   Instance Method                    \u001b[0m\u001b[1m \u001b[0m┃\u001b[1m \u001b[0m\u001b[1m                     Class Method                     \u001b[0m\u001b[1m \u001b[0m┃\n",
              "┡━━━━━━━━━━━━━━━━━━━━━━━━━━━━━━━━━━━━━━━━━━━━━━━━━━━━━━━━╇━━━━━━━━━━━━━━━━━━━━━━━━━━━━━━━━━━━━━━━━━━━━━━━━━━━━━━━━┩\n",
              "│    Using atleast one instance variable in a method     │ Using only static variables in a method implementation │\n",
              "│                     implementation                     │                                                        │\n",
              "│                                                        │                                                        │\n",
              "│                                                        │                                                        │\n",
              "│ We can access both static and instance variables in a  │    We can access only static variables in a method     │\n",
              "│                         method                         │                                                        │\n",
              "│                                                        │                                                        │\n",
              "│                                                        │                                                        │\n",
              "│    No need of any decorator to declare this method     │    @classmethod decorator is needed to declare this    │\n",
              "│                                                        │                         method                         │\n",
              "│                                                        │                                                        │\n",
              "│                                                        │                                                        │\n",
              "│         First argument to this method is self          │          First argument to this method is cls          │\n",
              "│                                                        │                                                        │\n",
              "│                                                        │                                                        │\n",
              "│   To access this method we must use object reference   │       We can access this method either by class        │\n",
              "│                                                        │        name(Recommended) or by object reference        │\n",
              "└────────────────────────────────────────────────────────┴────────────────────────────────────────────────────────┘\n"
            ],
            "text/html": [
              "<pre style=\"white-space:pre;overflow-x:auto;line-height:normal;font-family:Menlo,'DejaVu Sans Mono',consolas,'Courier New',monospace\"><span style=\"font-style: italic\">                                            Instance vs. Class Methods                                             </span>\n",
              "┏━━━━━━━━━━━━━━━━━━━━━━━━━━━━━━━━━━━━━━━━━━━━━━━━━━━━━━━━┳━━━━━━━━━━━━━━━━━━━━━━━━━━━━━━━━━━━━━━━━━━━━━━━━━━━━━━━━┓\n",
              "┃<span style=\"font-weight: bold\">                    Instance Method                     </span>┃<span style=\"font-weight: bold\">                      Class Method                      </span>┃\n",
              "┡━━━━━━━━━━━━━━━━━━━━━━━━━━━━━━━━━━━━━━━━━━━━━━━━━━━━━━━━╇━━━━━━━━━━━━━━━━━━━━━━━━━━━━━━━━━━━━━━━━━━━━━━━━━━━━━━━━┩\n",
              "│    Using atleast one instance variable in a method     │ Using only static variables in a method implementation │\n",
              "│                     implementation                     │                                                        │\n",
              "│                                                        │                                                        │\n",
              "│                                                        │                                                        │\n",
              "│ We can access both static and instance variables in a  │    We can access only static variables in a method     │\n",
              "│                         method                         │                                                        │\n",
              "│                                                        │                                                        │\n",
              "│                                                        │                                                        │\n",
              "│    No need of any decorator to declare this method     │    @classmethod decorator is needed to declare this    │\n",
              "│                                                        │                         method                         │\n",
              "│                                                        │                                                        │\n",
              "│                                                        │                                                        │\n",
              "│         First argument to this method is self          │          First argument to this method is cls          │\n",
              "│                                                        │                                                        │\n",
              "│                                                        │                                                        │\n",
              "│   To access this method we must use object reference   │       We can access this method either by class        │\n",
              "│                                                        │        name(Recommended) or by object reference        │\n",
              "└────────────────────────────────────────────────────────┴────────────────────────────────────────────────────────┘\n",
              "</pre>\n"
            ]
          },
          "metadata": {}
        }
      ]
    },
    {
      "cell_type": "markdown",
      "source": [
        "### Static Method\n",
        "* In general these methods are general utility methods. Inside these methods **we won't use any instance or class variables**.\n",
        "* Here we **won't provide self or cls arguments** at the time of declaration.\n",
        "* We can declare static method explicitly by using **@staticmethod decorator**.\n",
        "* We can access static methods by using **classname or object reference**."
      ],
      "metadata": {
        "id": "TKUogD_IgTfN"
      }
    },
    {
      "cell_type": "code",
      "source": [
        "class durgaMath:\n",
        "    @staticmethod # No instance and class variables\n",
        "    def add(a,b):\n",
        "        return f\"The Sum: {a+b}\"\n",
        "    @staticmethod\n",
        "    def product(a,b):\n",
        "        return f\"The Product: {a*b}\"\n",
        "    @staticmethod\n",
        "    def average(a,b):\n",
        "        return f\"The average: {(a+b)/2}\"\n",
        "\n",
        "# Highly recommended to call using classname\n",
        "durgaMath.add(3,4), durgaMath.product(3,4), durgaMath.average(3,4)"
      ],
      "metadata": {
        "id": "UeiPtTyXgfIr",
        "colab": {
          "base_uri": "https://localhost:8080/"
        },
        "outputId": "0b44ae72-ae65-47e6-e2f6-8782c5828fb4"
      },
      "execution_count": 122,
      "outputs": [
        {
          "output_type": "execute_result",
          "data": {
            "text/plain": [
              "('The Sum: 7', 'The Product: 12', 'The average: 3.5')"
            ]
          },
          "metadata": {},
          "execution_count": 122
        }
      ]
    },
    {
      "cell_type": "markdown",
      "source": [
        "* In general we can use only instance and static methods.Inside static method we can access class level variables by using class name.\n",
        "* Class methods are most rarely used methods in python."
      ],
      "metadata": {
        "id": "dJ2rYPQiDKFA"
      }
    },
    {
      "cell_type": "markdown",
      "source": [
        "#### Instance vs. Class vs. Static Methods\n",
        "* If we are using any instance variables inside a method body then we should go for instance method. We should call by using object reference only\n",
        "* If we are using only static variables inside method body then this method no way related to particular object, we should declare such type of methods as class method. We can declare class method explicitly by using @classmethod decorator. We can call either by using object reference or by using class name.\n",
        "* If we are not using any instance variable and any static variable inside method body, to define such type of general utility methods we should go for static methods. We can declare static methods explicitly by using @staticmethod decorator. We can call either using object reference or by using classname.\n",
        "* If we are using only instance variables -> Instance method\n",
        "* If we are using only static variables -> Class Method\n",
        "* If we are using instance variables and static variables -> Instance method\n",
        "* If we are using instance variables and local variables -> Instance method\n",
        "* If we are using static variables and local variables -> Class Method\n",
        "* If we are using only local variables -> Static Method"
      ],
      "metadata": {
        "id": "sTJibtMiFHq7"
      }
    },
    {
      "cell_type": "markdown",
      "source": [
        "#### Identify type of method without decorator\n",
        "* For class method, @classmethod is mandatory. BUT\n",
        "* For static method, @staticmethod is optional.\n",
        "* Without any decorator the method can be either instance method or static method\n",
        "* If we are calling using object reference then it is treated as instance method\n",
        "* If we are calling using class name then it is treated as static method"
      ],
      "metadata": {
        "id": "WHPxE6weJlGa"
      }
    },
    {
      "cell_type": "code",
      "source": [
        "class Test:\n",
        "    def m1():\n",
        "        print(\"Some method\")\n",
        "\n",
        "t = Test()\n",
        "# t.m1() # Called mthod using object refernce -> Instance Method, No self is provided\n",
        "# TypeError: Test.m1() takes 0 positional arguments but 1 was given"
      ],
      "metadata": {
        "id": "639NxSvuKmTn"
      },
      "execution_count": 123,
      "outputs": []
    },
    {
      "cell_type": "code",
      "source": [
        "class Test:\n",
        "    def m1(x):\n",
        "        print(\"Some method\")\n",
        "\n",
        "t = Test()\n",
        "t.m1() # Valid because x is considered as self variable, BUT\n",
        "# t.m1(10), TypeError: Test.m1() takes 1 positional argument but 2 were given"
      ],
      "metadata": {
        "colab": {
          "base_uri": "https://localhost:8080/"
        },
        "id": "x0eofhJHNnW4",
        "outputId": "2f968506-ea55-446c-afe5-1a87cca8f94d"
      },
      "execution_count": 124,
      "outputs": [
        {
          "output_type": "stream",
          "name": "stdout",
          "text": [
            "Some method\n"
          ]
        }
      ]
    },
    {
      "cell_type": "code",
      "source": [
        "class Test:\n",
        "    def m1():\n",
        "        print(\"Some method\")\n",
        "\n",
        "Test.m1() # No decorator is used, but calling by using class name -> Static method"
      ],
      "metadata": {
        "colab": {
          "base_uri": "https://localhost:8080/"
        },
        "id": "SDrx5BKdOS7w",
        "outputId": "6a103cbd-e11f-4b22-fdc5-14cda93f9ccc"
      },
      "execution_count": 125,
      "outputs": [
        {
          "output_type": "stream",
          "name": "stdout",
          "text": [
            "Some method\n"
          ]
        }
      ]
    },
    {
      "cell_type": "code",
      "source": [
        "class Test:\n",
        "    def m1(x):\n",
        "        print(\"Some method\")\n",
        "\n",
        "# Test.m1(), TypeError: Test.m1() missing 1 required positional argument: 'x'\n",
        "Test.m1(10)"
      ],
      "metadata": {
        "colab": {
          "base_uri": "https://localhost:8080/"
        },
        "id": "Z7sWp3OqOnoM",
        "outputId": "1bdaccd3-22b5-48de-85b4-5d6440a5b4d7"
      },
      "execution_count": 126,
      "outputs": [
        {
          "output_type": "stream",
          "name": "stdout",
          "text": [
            "Some method\n"
          ]
        }
      ]
    },
    {
      "cell_type": "markdown",
      "source": [
        "### Accessing Members of One Class to Another Class\n",
        "* We can access members of one class inside another class."
      ],
      "metadata": {
        "id": "hHghtPM8PBZq"
      }
    },
    {
      "cell_type": "code",
      "source": [
        "class employee:\n",
        "    def __init__(self, eno, ename, esal):\n",
        "        self.eno = eno\n",
        "        self.ename = ename\n",
        "        self.esal = esal\n",
        "    def display(self):\n",
        "        print(\"Employee Number: \", self.eno)\n",
        "        print(\"Employee Name: \", self.ename)\n",
        "        print(\"Employee Salary: \", self.esal)\n",
        "\n",
        "class manager:\n",
        "    def updateEmpSal(emp):\n",
        "        # Manager class accessing employee class esal property\n",
        "        emp.esal += 10000\n",
        "        # Manager class accessing employee\n",
        "        emp.display()\n",
        "emp = employee(1, 'Sreeram', 50000)\n",
        "manager.updateEmpSal(emp)"
      ],
      "metadata": {
        "colab": {
          "base_uri": "https://localhost:8080/"
        },
        "id": "clxb8evtPdiA",
        "outputId": "09a98e74-af4f-4546-c46a-cb7ed5d60669"
      },
      "execution_count": 127,
      "outputs": [
        {
          "output_type": "stream",
          "name": "stdout",
          "text": [
            "Employee Number:  1\n",
            "Employee Name:  Sreeram\n",
            "Employee Salary:  60000\n"
          ]
        }
      ]
    },
    {
      "cell_type": "markdown",
      "source": [
        "## Inner class\n",
        "* Sometimes we can declare a class inside another class, such type of classes are called inner classes. Without existing one type of object if there is no chance of existing another type of object, then we should go for inner classes.\n",
        "* Improves Modularity and Security of application.\n",
        "* Example 1: Without existing university object there is no chance of existing Department object\n"
      ],
      "metadata": {
        "id": "d7hM-rJbT03Q"
      }
    },
    {
      "cell_type": "code",
      "source": [
        "class University:\n",
        "    class Department:\n",
        "        pass"
      ],
      "metadata": {
        "id": "iyXX2OxnPdkt"
      },
      "execution_count": 128,
      "outputs": []
    },
    {
      "cell_type": "markdown",
      "source": [
        "* Example 2: Without existing Car object there is no chance of existing Engine object. Hence, Engine class should be part of Car class."
      ],
      "metadata": {
        "id": "llPQY4ArZ9KQ"
      }
    },
    {
      "cell_type": "code",
      "source": [
        "class car:\n",
        "    class engine:\n",
        "        pass"
      ],
      "metadata": {
        "id": "KdJ3EKpuPdni"
      },
      "execution_count": 129,
      "outputs": []
    },
    {
      "cell_type": "markdown",
      "source": [
        "* Example 3: Without existing Human there is no chance of existin Head. Hence Head should be part of Human."
      ],
      "metadata": {
        "id": "-LAq-_eAaIL2"
      }
    },
    {
      "cell_type": "code",
      "source": [
        "class human:\n",
        "    class head:\n",
        "        pass"
      ],
      "metadata": {
        "id": "lT_54MZkPdqT"
      },
      "execution_count": 130,
      "outputs": []
    },
    {
      "cell_type": "markdown",
      "source": [
        "**Note: Without existing outer class object there is no chance of existing inner class object. Hence inner class object is always associated with outer class object.**"
      ],
      "metadata": {
        "id": "SvnB5biraLan"
      }
    },
    {
      "cell_type": "code",
      "source": [
        "class outer:\n",
        "    def __init__(self):\n",
        "        print(\"Outer class\")\n",
        "\n",
        "    class inner:\n",
        "        def __init__(self):\n",
        "            print(\"Inner class\")\n",
        "        def m1(self):\n",
        "            print(\"Inner class method\")\n",
        "\n",
        "o = outer()\n",
        "i = o.inner()\n",
        "i.m1()"
      ],
      "metadata": {
        "colab": {
          "base_uri": "https://localhost:8080/"
        },
        "id": "6n8xi_oAakJj",
        "outputId": "3c92120b-6a8b-4c65-d1b5-da80580571cc"
      },
      "execution_count": 131,
      "outputs": [
        {
          "output_type": "stream",
          "name": "stdout",
          "text": [
            "Outer class\n",
            "Inner class\n",
            "Inner class method\n"
          ]
        }
      ]
    },
    {
      "cell_type": "code",
      "source": [
        "# Other ways of accessing inner class\n",
        "i = outer().inner()\n",
        "i.m1()"
      ],
      "metadata": {
        "colab": {
          "base_uri": "https://localhost:8080/"
        },
        "id": "45CANzv3b94-",
        "outputId": "6f83d314-eeb2-4ac4-f4bb-bdd463ee5a01"
      },
      "execution_count": 132,
      "outputs": [
        {
          "output_type": "stream",
          "name": "stdout",
          "text": [
            "Outer class\n",
            "Inner class\n",
            "Inner class method\n"
          ]
        }
      ]
    },
    {
      "cell_type": "code",
      "source": [
        "outer().inner().m1()"
      ],
      "metadata": {
        "colab": {
          "base_uri": "https://localhost:8080/"
        },
        "id": "uwZNtckNcTzV",
        "outputId": "bef6e786-fbdc-44a7-ae4b-2f004fe6e6b1"
      },
      "execution_count": 133,
      "outputs": [
        {
          "output_type": "stream",
          "name": "stdout",
          "text": [
            "Outer class\n",
            "Inner class\n",
            "Inner class method\n"
          ]
        }
      ]
    },
    {
      "cell_type": "markdown",
      "source": [
        "### Nesting Inner classes"
      ],
      "metadata": {
        "id": "dAV584WGft-l"
      }
    },
    {
      "cell_type": "code",
      "source": [
        "class outer:\n",
        "    def __init__(self):\n",
        "        print(\"Outer class\")\n",
        "    class inner:\n",
        "        def __init__(self):\n",
        "            print(\"Inner class\")\n",
        "        class inner2inner:\n",
        "            def __init__(self):\n",
        "                print(\"Inner to inner class\")\n",
        "            def m1(self):\n",
        "                print(\"Nested inner class method\")\n",
        "\n",
        "o = outer()\n",
        "i = o.inner()\n",
        "i2i = i.inner2inner()\n",
        "i2i.m1()"
      ],
      "metadata": {
        "colab": {
          "base_uri": "https://localhost:8080/"
        },
        "id": "tegIvIAofwrT",
        "outputId": "72991c57-5297-4912-871c-a0f52f03f4ca"
      },
      "execution_count": 134,
      "outputs": [
        {
          "output_type": "stream",
          "name": "stdout",
          "text": [
            "Outer class\n",
            "Inner class\n",
            "Inner to inner class\n",
            "Nested inner class method\n"
          ]
        }
      ]
    },
    {
      "cell_type": "code",
      "source": [
        "outer().inner().inner2inner().m1()"
      ],
      "metadata": {
        "colab": {
          "base_uri": "https://localhost:8080/"
        },
        "id": "48KZZr7BhGql",
        "outputId": "63134918-8fe2-4ffe-e084-9ff98e0c78bd"
      },
      "execution_count": 135,
      "outputs": [
        {
          "output_type": "stream",
          "name": "stdout",
          "text": [
            "Outer class\n",
            "Inner class\n",
            "Inner to inner class\n",
            "Nested inner class method\n"
          ]
        }
      ]
    },
    {
      "cell_type": "code",
      "source": [
        "# Create a static method instead of instance method\n",
        "class outer:\n",
        "    def __init__(self):\n",
        "        print(\"Outer class\")\n",
        "    class inner:\n",
        "        def __init__(self):\n",
        "            print(\"Inner class\")\n",
        "        class inner2inner:\n",
        "            def __init__(self):\n",
        "                print(\"Inner to inner class\")\n",
        "            def m1():\n",
        "                print(\"Nested inner class method\")\n",
        "\n",
        "o = outer()\n",
        "i = o.inner()\n",
        "i.inner2inner.m1()"
      ],
      "metadata": {
        "colab": {
          "base_uri": "https://localhost:8080/"
        },
        "id": "amuALh1pnoyP",
        "outputId": "2f6fe6e1-5fe7-49d1-b959-8d42698ebdfe"
      },
      "execution_count": 136,
      "outputs": [
        {
          "output_type": "stream",
          "name": "stdout",
          "text": [
            "Outer class\n",
            "Inner class\n",
            "Nested inner class method\n"
          ]
        }
      ]
    },
    {
      "cell_type": "code",
      "source": [
        "outer().inner().inner2inner.m1()"
      ],
      "metadata": {
        "colab": {
          "base_uri": "https://localhost:8080/"
        },
        "id": "mLYNFqF6oHmS",
        "outputId": "8459559c-456d-435b-92ce-19e500cd1df2"
      },
      "execution_count": 137,
      "outputs": [
        {
          "output_type": "stream",
          "name": "stdout",
          "text": [
            "Outer class\n",
            "Inner class\n",
            "Nested inner class method\n"
          ]
        }
      ]
    },
    {
      "cell_type": "code",
      "source": [
        "class human:\n",
        "    class head:\n",
        "        def talk(self):\n",
        "            print(\"Talking...\")\n",
        "        class brain:\n",
        "            def think(self):\n",
        "                print(\"Thinking...\")\n",
        "\n",
        "hmn = human()\n",
        "hd = hmn.head()\n",
        "hd.talk()\n",
        "br = hd.brain()\n",
        "br.think()"
      ],
      "metadata": {
        "colab": {
          "base_uri": "https://localhost:8080/"
        },
        "id": "gKREDtmOwBJO",
        "outputId": "a79839ef-290e-41a6-b748-7321ce4d2d28"
      },
      "execution_count": 138,
      "outputs": [
        {
          "output_type": "stream",
          "name": "stdout",
          "text": [
            "Talking...\n",
            "Thinking...\n"
          ]
        }
      ]
    },
    {
      "cell_type": "code",
      "source": [
        "human().head().talk()"
      ],
      "metadata": {
        "colab": {
          "base_uri": "https://localhost:8080/"
        },
        "id": "OQvjpGp6XWXv",
        "outputId": "e299d641-cff0-43c0-aa62-8f5bcea04bb6"
      },
      "execution_count": 139,
      "outputs": [
        {
          "output_type": "stream",
          "name": "stdout",
          "text": [
            "Talking...\n"
          ]
        }
      ]
    },
    {
      "cell_type": "code",
      "source": [
        "human().head().brain().think()"
      ],
      "metadata": {
        "colab": {
          "base_uri": "https://localhost:8080/"
        },
        "id": "dfpxDGADXd9Y",
        "outputId": "0fca8769-79e4-475b-ae98-e7571b0cf696"
      },
      "execution_count": 140,
      "outputs": [
        {
          "output_type": "stream",
          "name": "stdout",
          "text": [
            "Thinking...\n"
          ]
        }
      ]
    },
    {
      "cell_type": "code",
      "source": [
        "# Create brain object automatically by creating head() object, which inturn created automatically by creating a human object.\n",
        "\n",
        "class Human():\n",
        "    def __init__(self, name):\n",
        "        print(\"Human object creation...\")\n",
        "        self.name = name\n",
        "        # Whenever we create human object automatically head object will be created\n",
        "        self.head = self.Head()\n",
        "    def info(self):\n",
        "        print(\"Hello, myself \", self.name)\n",
        "        print(\"I am very busy with\")\n",
        "        self.head.talk()\n",
        "        self.head.brain.think()\n",
        "    class Head():\n",
        "        def __init__(self):\n",
        "            print(\"Head object creation...\")\n",
        "            # Whenever we create head object automatically brain object will be created\n",
        "            self.brain = self.Brain()\n",
        "        def talk(self):\n",
        "            print(\"Talking...\")\n",
        "        class Brain:\n",
        "            def __init__(self):\n",
        "                print(\"Brain object creation...\")\n",
        "            def think(self):\n",
        "                print(\"Thinking...\")\n",
        "\n",
        "h = Human('Sreeram')\n",
        "h.info()"
      ],
      "metadata": {
        "colab": {
          "base_uri": "https://localhost:8080/"
        },
        "id": "RQik74ZfXikr",
        "outputId": "db2c7e47-ea72-4adc-97d6-568a77d608fd"
      },
      "execution_count": 141,
      "outputs": [
        {
          "output_type": "stream",
          "name": "stdout",
          "text": [
            "Human object creation...\n",
            "Head object creation...\n",
            "Brain object creation...\n",
            "Hello, myself  Sreeram\n",
            "I am very busy with\n",
            "Talking...\n",
            "Thinking...\n"
          ]
        }
      ]
    },
    {
      "cell_type": "code",
      "source": [
        "class Person:\n",
        "    def __init__(self, name,dd,mm,yyyy):\n",
        "        print(\"Person object creation\")\n",
        "        self.name = name\n",
        "        self.dob = self.DOB(dd,mm,yyyy)\n",
        "    def info(self):\n",
        "        print(\"Name is \", self.name)\n",
        "        self.dob.display()\n",
        "    class DOB:\n",
        "        def __init__(self,dd,mm,yyyy):\n",
        "            print(\"DOB object creation\")\n",
        "            self.dd = dd\n",
        "            self.mm = mm\n",
        "            self.yyyy = yyyy\n",
        "        def display(self):\n",
        "            print(f\"Date of birth is {self.dd}/{self.mm}/{self.yyyy}\")\n",
        "\n",
        "p = Person('Sreeram',12,8,1989)\n",
        "p.info()"
      ],
      "metadata": {
        "colab": {
          "base_uri": "https://localhost:8080/"
        },
        "id": "ZpX5dBaygOzT",
        "outputId": "ea3f4a34-0cb7-49a4-dd9b-958170f860e9"
      },
      "execution_count": 142,
      "outputs": [
        {
          "output_type": "stream",
          "name": "stdout",
          "text": [
            "Person object creation\n",
            "DOB object creation\n",
            "Name is  Sreeram\n",
            "Date of birth is 12/8/1989\n"
          ]
        }
      ]
    },
    {
      "cell_type": "markdown",
      "source": [
        "### Nested Methods\n",
        "* **Applicable in python**\n",
        "* Inside a method, if any functionality is repetedly required then nested methods are required.\n",
        "* Improves modularity and code reusablility"
      ],
      "metadata": {
        "id": "k5paX7zhVvOD"
      }
    },
    {
      "cell_type": "code",
      "source": [
        "class Test:\n",
        "    def m1(self):\n",
        "        a=10\n",
        "        b=20\n",
        "        print(\"The sum is \", a+b)\n",
        "        print(\"The product is \", a*b)\n",
        "        print(\"The difference is \", a-b)\n",
        "        print(\"The average is \", (a+b)/2)\n",
        "\n",
        "        a=100\n",
        "        b=200\n",
        "        print(\"The sum is \", a+b)\n",
        "        print(\"The product is \", a*b)\n",
        "        print(\"The difference is \", a-b)\n",
        "        print(\"The average is \", (a+b)/2)\n",
        "\n",
        "        a=1000\n",
        "        b=2000\n",
        "        print(\"The sum is \", a+b)\n",
        "        print(\"The product is \", a*b)\n",
        "        print(\"The difference is \", a-b)\n",
        "        print(\"The average is \", (a+b)/2)\n",
        "\n",
        "t = Test()\n",
        "t.m1()"
      ],
      "metadata": {
        "colab": {
          "base_uri": "https://localhost:8080/"
        },
        "id": "C7fZo44eV3Jc",
        "outputId": "eb524f0e-9623-4704-9e60-ae370d053631"
      },
      "execution_count": 143,
      "outputs": [
        {
          "output_type": "stream",
          "name": "stdout",
          "text": [
            "The sum is  30\n",
            "The product is  200\n",
            "The difference is  -10\n",
            "The average is  15.0\n",
            "The sum is  300\n",
            "The product is  20000\n",
            "The difference is  -100\n",
            "The average is  150.0\n",
            "The sum is  3000\n",
            "The product is  2000000\n",
            "The difference is  -1000\n",
            "The average is  1500.0\n"
          ]
        }
      ]
    },
    {
      "cell_type": "code",
      "source": [
        "class Test:\n",
        "    def m1(self):\n",
        "        def calc(a,b):\n",
        "            print(\"The sum is \", a+b)\n",
        "            print(\"The product is \", a*b)\n",
        "            print(\"The difference is \", a-b)\n",
        "            print(\"The average is \", (a+b)/2)\n",
        "            print(\"\\n\")\n",
        "        calc(10,20)\n",
        "        calc(100,200)\n",
        "        calc(1000,2000)\n",
        "\n",
        "t = Test()\n",
        "t.m1()"
      ],
      "metadata": {
        "colab": {
          "base_uri": "https://localhost:8080/"
        },
        "id": "o0VdxE90X6kA",
        "outputId": "56b847a9-ada3-4e56-c5cc-5137e4259f2d"
      },
      "execution_count": 144,
      "outputs": [
        {
          "output_type": "stream",
          "name": "stdout",
          "text": [
            "The sum is  30\n",
            "The product is  200\n",
            "The difference is  -10\n",
            "The average is  15.0\n",
            "\n",
            "\n",
            "The sum is  300\n",
            "The product is  20000\n",
            "The difference is  -100\n",
            "The average is  150.0\n",
            "\n",
            "\n",
            "The sum is  3000\n",
            "The product is  2000000\n",
            "The difference is  -1000\n",
            "The average is  1500.0\n",
            "\n",
            "\n"
          ]
        }
      ]
    },
    {
      "cell_type": "markdown",
      "source": [
        "## Garbage Collection\n",
        "* In old languages like C++, programmer is responsible for both creation and destruction of objects.Usually programmer taking very much care while creating object, but neglecting destruction of useless objects. Because of his neglegence, total memory\n",
        "can be filled with useless objects which creates memory problems and total application will be down with Out of memory error.\n",
        "* But in Python, We have some assistant which is always running in the background to destroy useless objects.Because this assistant the chance of failing Python program with memory problems is very less. This assistant is nothing but Garbage Collector.\n",
        "* Hence the main objective of Garbage Collector is to destroy useless objects.\n",
        "* When we say an object is eligible for garbage collection? - If an object does not have any reference variable then that object eligible for Garbage Collection (or) if the refence count is zero then only object is eligible foe garbage collection."
      ],
      "metadata": {
        "id": "SKCGtA6TYvOe"
      }
    },
    {
      "cell_type": "markdown",
      "source": [
        "### Enable and Disable Garbage Collection\n",
        "* By default Gargbage collector is enabled, but we can disable based on our requirement. In this context we can use the following functions of gc module.\n",
        "* gc.isenabled() -> Returns True if GC enabled\n",
        "* gc.disable()-> To disable GC explicitly\n",
        "* gc.enable()-> To enable GC explicitly"
      ],
      "metadata": {
        "id": "DjTUKcxTcVeB"
      }
    },
    {
      "cell_type": "code",
      "source": [
        "import gc\n",
        "print(gc.isenabled())\n",
        "gc.disable()\n",
        "print(gc.isenabled())\n",
        "gc.enable()\n",
        "print(gc.isenabled())"
      ],
      "metadata": {
        "colab": {
          "base_uri": "https://localhost:8080/"
        },
        "id": "3u8y6-3nYz5f",
        "outputId": "95854a65-70d5-4899-9049-061354d34cfe"
      },
      "execution_count": 145,
      "outputs": [
        {
          "output_type": "stream",
          "name": "stdout",
          "text": [
            "True\n",
            "False\n",
            "True\n"
          ]
        }
      ]
    },
    {
      "cell_type": "markdown",
      "source": [
        "**What situations are we disable garbage collector explicitly?**\n",
        "* If there is no chance of memory problem arises in the application\n",
        "* When we create very less number of objects in an application\n",
        "\n",
        "**By disabling garbage collector the performance of application improves**"
      ],
      "metadata": {
        "id": "hTsKw1fQ_RWx"
      }
    },
    {
      "cell_type": "markdown",
      "source": [
        "## Destructor\n",
        "* Destructor is a special method and the name should be __del__\n",
        "* Just before destroying an object Garbage Collector always calls destructor to perform clean up activities (**Resource deallocation activities** like close database connection, network connection etc).\n",
        "* Once destructor execution completed then Garbage Collector automatically destroys that object.\n",
        "\n",
        "**Note: The job of destructor is not to destroy object and it is just to perform clean up activities. Destruction of an object is the responsibility of garbage collector through PVM**\n",
        "\n",
        "* COnstructor is meant for initialization activity and destructor is meant for clean up activity."
      ],
      "metadata": {
        "id": "c0YVpgGdAARj"
      }
    },
    {
      "cell_type": "code",
      "source": [
        "import time\n",
        "class Test:\n",
        "    def __init__(self):\n",
        "        print(\"Object Initialization...\")\n",
        "\n",
        "    def __del__(self):\n",
        "        print(\"Fulfilling Last Wish and performing clean up activities...\")\n",
        "\n",
        "t1=Test()\n",
        "time.sleep(5)\n",
        "print(\"End of application\")"
      ],
      "metadata": {
        "colab": {
          "base_uri": "https://localhost:8080/"
        },
        "id": "3kLoik0zARjB",
        "outputId": "a0dd62fc-1635-4cfe-e909-520fd0d4a727"
      },
      "execution_count": 146,
      "outputs": [
        {
          "output_type": "stream",
          "name": "stdout",
          "text": [
            "Object Initialization...\n",
            "End of application\n"
          ]
        }
      ]
    },
    {
      "cell_type": "code",
      "source": [
        "import time\n",
        "class Test:\n",
        "    def __init__(self):\n",
        "        print(\"Object Initialization...\")\n",
        "\n",
        "    def __del__(self):\n",
        "        print(\"Fulfilling Last Wish and performing clean up activities...\")\n",
        "\n",
        "t1=Test()\n",
        "t1=None # t1 object is eligible for garbage collection, hence destructor will be executed\n",
        "time.sleep(5)\n",
        "print(\"End of application\")"
      ],
      "metadata": {
        "colab": {
          "base_uri": "https://localhost:8080/"
        },
        "id": "8-RB1DVaWGcK",
        "outputId": "64702045-8427-4d06-9b8a-51651c34ee77"
      },
      "execution_count": 147,
      "outputs": [
        {
          "output_type": "stream",
          "name": "stdout",
          "text": [
            "Object Initialization...\n",
            "Fulfilling Last Wish and performing clean up activities...\n",
            "Fulfilling Last Wish and performing clean up activities...\n",
            "End of application\n"
          ]
        }
      ]
    },
    {
      "cell_type": "markdown",
      "source": [
        "**Once control reaches the last line of the code/ end of application, all objects or variables which are created as a part of the code/application are automatically eligible for garbage collection.**"
      ],
      "metadata": {
        "id": "O4V99fdTW0_2"
      }
    },
    {
      "cell_type": "code",
      "source": [
        "class Test:\n",
        "    def __init__(self):\n",
        "        print(\"Object Initialization...\")\n",
        "\n",
        "    def __del__(self):\n",
        "        print(\"Fulfilling Last Wish and performing clean up activities...\")\n",
        "\n",
        "t1 = Test()\n",
        "t2 = Test()\n",
        "print(\"End of application\")"
      ],
      "metadata": {
        "colab": {
          "base_uri": "https://localhost:8080/"
        },
        "id": "p37YMAw_Xig8",
        "outputId": "704106cb-facb-4ed4-b88e-8c4cb0db2977"
      },
      "execution_count": 148,
      "outputs": [
        {
          "output_type": "stream",
          "name": "stdout",
          "text": [
            "Object Initialization...\n",
            "Object Initialization...\n",
            "End of application\n"
          ]
        }
      ]
    },
    {
      "cell_type": "markdown",
      "source": [
        "**At the time of execution, If you want free memory the assign the object or variable to a value None. Then it will be eligible for garbage collection.**"
      ],
      "metadata": {
        "id": "DQ6rroOJYVdp"
      }
    },
    {
      "cell_type": "code",
      "source": [
        "class Test:\n",
        "    def __init__(self):\n",
        "        print(\"Object Initialization...\")\n",
        "\n",
        "    def __del__(self):\n",
        "        print(\"Fulfilling Last Wish and performing clean up activities...\")\n",
        "\n",
        "t1 = Test()\n",
        "t2 = Test()\n",
        "t1 = None\n",
        "t2 = None\n",
        "print(\"End of application\")"
      ],
      "metadata": {
        "colab": {
          "base_uri": "https://localhost:8080/"
        },
        "id": "C3yjfjsuYXOX",
        "outputId": "7ac80081-86a0-4889-cf12-2dd05b751f25"
      },
      "execution_count": 149,
      "outputs": [
        {
          "output_type": "stream",
          "name": "stdout",
          "text": [
            "Object Initialization...\n",
            "Fulfilling Last Wish and performing clean up activities...\n",
            "Object Initialization...\n",
            "Fulfilling Last Wish and performing clean up activities...\n",
            "Fulfilling Last Wish and performing clean up activities...\n",
            "Fulfilling Last Wish and performing clean up activities...\n",
            "End of application\n"
          ]
        }
      ]
    },
    {
      "cell_type": "markdown",
      "source": [
        "#### Important conclusions from destructor\n",
        "* Once control reaches end of the program, all objects which are created as the part of that program are by default eligible for Garbage collection\n",
        "* If the object doesn't contain any reference variable then only it is eligible for garbage collection. i.e., if the reference count is zero then only object is eligible for garbage collection."
      ],
      "metadata": {
        "id": "E8oZv_gNfMBF"
      }
    },
    {
      "cell_type": "code",
      "source": [
        "import time\n",
        "class Test:\n",
        "    def __init__(self):\n",
        "        print(\"Constructor Execution...\")\n",
        "    def __del__(self):\n",
        "        print(\"Destructor Execution...\")\n",
        "t1=Test()\n",
        "t2=t1\n",
        "t3=t2\n",
        "del t1\n",
        "time.sleep(5)\n",
        "print(\"object not yet destroyed after deleting t1\")\n",
        "del t2\n",
        "time.sleep(5)\n",
        "print(\"object not yet destroyed even after deleting t2\")\n",
        "print(\"I am trying to delete last reference variable...\")\n",
        "del t3\n",
        "print(\"End of application\")"
      ],
      "metadata": {
        "colab": {
          "base_uri": "https://localhost:8080/"
        },
        "id": "0JBAW8KxhMRi",
        "outputId": "db00acef-3417-43ca-fbc8-6a6448f651d1"
      },
      "execution_count": 150,
      "outputs": [
        {
          "output_type": "stream",
          "name": "stdout",
          "text": [
            "Constructor Execution...\n",
            "object not yet destroyed after deleting t1\n",
            "object not yet destroyed even after deleting t2\n",
            "I am trying to delete last reference variable...\n",
            "End of application\n"
          ]
        }
      ]
    },
    {
      "cell_type": "code",
      "source": [
        "# If list object is eligible for garbage collection means every object in the list is eligible for garbage collection\n",
        "\n",
        "import time\n",
        "class Test:\n",
        "    def __init__(self):\n",
        "        print(\"Constructor Execution...\")\n",
        "    def __del__(self):\n",
        "        print(\"Destructor Execution...\")\n",
        "lst=[Test(),Test(),Test()]\n",
        "del lst\n",
        "time.sleep(5)\n",
        "print(\"End of application\")"
      ],
      "metadata": {
        "colab": {
          "base_uri": "https://localhost:8080/"
        },
        "id": "bzLe2mwWjfcJ",
        "outputId": "976a6efd-5ca9-4456-98b3-f335b88aa167"
      },
      "execution_count": 151,
      "outputs": [
        {
          "output_type": "stream",
          "name": "stdout",
          "text": [
            "Constructor Execution...\n",
            "Constructor Execution...\n",
            "Constructor Execution...\n",
            "Destructor Execution...\n",
            "Destructor Execution...\n",
            "Destructor Execution...\n",
            "Destructor Execution...\n",
            "End of application\n"
          ]
        }
      ]
    },
    {
      "cell_type": "markdown",
      "source": [
        "#### What is the difference between del reference_variable and reference_variable = None?\n",
        "**del reference_variable**\n",
        "* Reference variable deleted and corresponding object eligible for garbage collection. We cannot use reference variable any further.\n",
        "* If we don't want both object and corresponding reference variable then we have to use this approach\n",
        "\n",
        "**reference_variable = None**\n",
        "* Reference variable, now onwards pointing to None object. Just it is reassigning the reference variable. The object is eligible for garbage collection but we can use reference variable assigned(whose value is) None.\n",
        "* If we want reference variable but not object then we have to use this approach"
      ],
      "metadata": {
        "id": "tuQrVU6RAyy8"
      }
    },
    {
      "cell_type": "code",
      "source": [
        "# del obj_name -> Don't want object and reference variable both\n",
        "class Test:\n",
        "    def __init__(self):\n",
        "        print(\"Constructor...\")\n",
        "    def __del__(self):\n",
        "        print(\"Destructor...\")\n",
        "\n",
        "t = Test()\n",
        "del t\n",
        "print(\"End of application\")\n",
        "# print(t) -> NameError: name 't' is not defined"
      ],
      "metadata": {
        "colab": {
          "base_uri": "https://localhost:8080/"
        },
        "id": "h2RB0J3vA9GV",
        "outputId": "69a14505-057a-4d66-a647-5932308fab89"
      },
      "execution_count": 152,
      "outputs": [
        {
          "output_type": "stream",
          "name": "stdout",
          "text": [
            "Constructor...\n",
            "Destructor...\n",
            "End of application\n"
          ]
        }
      ]
    },
    {
      "cell_type": "code",
      "source": [
        "# obj = None -> Don't want object only and reference assigned to None\n",
        "class Test:\n",
        "    def __init__(self):\n",
        "        print(\"Constructor...\")\n",
        "    def __del__(self):\n",
        "        print(\"Destructor...\")\n",
        "\n",
        "t = Test()\n",
        "t = None # We are not deleting reference variable t, reassigning it to None object\n",
        "print(\"End of application\")\n",
        "print(t)"
      ],
      "metadata": {
        "colab": {
          "base_uri": "https://localhost:8080/"
        },
        "id": "BTr2pIC2B93z",
        "outputId": "2a217ded-6231-4513-d0ab-fb5cdf28a4fc"
      },
      "execution_count": 153,
      "outputs": [
        {
          "output_type": "stream",
          "name": "stdout",
          "text": [
            "Constructor...\n",
            "Destructor...\n",
            "End of application\n",
            "None\n"
          ]
        }
      ]
    },
    {
      "cell_type": "markdown",
      "source": [
        "#### How to find the number of references of an object?\n",
        "* sys module contains getrefcount() function for this purpose.\n",
        "* sys.getrefcount (objectreference)\n",
        "* For every object, Python internally maintains one default reference variable self.\n",
        "\n"
      ],
      "metadata": {
        "id": "nqSO3MUoEmoM"
      }
    },
    {
      "cell_type": "code",
      "source": [
        "import sys\n",
        "class Test:\n",
        "    pass\n",
        "\n",
        "t1=Test() # Along with the reference variable 'self' is an additional reference for an object\n",
        "print(sys.getrefcount(t1))"
      ],
      "metadata": {
        "colab": {
          "base_uri": "https://localhost:8080/"
        },
        "id": "F-dsxD0jFN95",
        "outputId": "c41c859f-37d1-406e-aab1-7a03387b8918"
      },
      "execution_count": 154,
      "outputs": [
        {
          "output_type": "stream",
          "name": "stdout",
          "text": [
            "2\n"
          ]
        }
      ]
    },
    {
      "cell_type": "code",
      "source": [
        "import sys\n",
        "class Test:\n",
        "    pass\n",
        "\n",
        "t1=Test()\n",
        "t2=t1\n",
        "t3=t1\n",
        "t4=t1\n",
        "print(sys.getrefcount(t1))"
      ],
      "metadata": {
        "colab": {
          "base_uri": "https://localhost:8080/"
        },
        "id": "k5JsKpxlEszy",
        "outputId": "d3dace93-e107-4ecc-d5f2-93a60f62c609"
      },
      "execution_count": 155,
      "outputs": [
        {
          "output_type": "stream",
          "name": "stdout",
          "text": [
            "5\n"
          ]
        }
      ]
    },
    {
      "cell_type": "code",
      "source": [
        "import sys\n",
        "class Test:\n",
        "    pass\n",
        "\n",
        "t1=Test()\n",
        "t2=t1\n",
        "t3=t1\n",
        "t4=t1\n",
        "del t3, t4\n",
        "print(sys.getrefcount(t1))"
      ],
      "metadata": {
        "colab": {
          "base_uri": "https://localhost:8080/"
        },
        "id": "iRxe6jrWFi9s",
        "outputId": "70b5b21a-dd8e-4fc3-c0a4-0dac69db8166"
      },
      "execution_count": 156,
      "outputs": [
        {
          "output_type": "stream",
          "name": "stdout",
          "text": [
            "3\n"
          ]
        }
      ]
    },
    {
      "cell_type": "markdown",
      "source": [
        "#### What is the difference between Constructor and Destructor?"
      ],
      "metadata": {
        "id": "LaIn1xWnFtYL"
      }
    },
    {
      "cell_type": "code",
      "source": [
        "from rich.table import Table\n",
        "table = Table(title=\"Constructor vs. Destructor\")\n",
        "\n",
        "# Specify the Column Names while initializing the Table\n",
        "table.add_column(\"Constructor\", justify=\"center\", no_wrap=False)\n",
        "table.add_column(\"Destructor\", justify=\"center\", no_wrap=False)\n",
        "\n",
        "# Add rows\n",
        "table.add_row('The name of the constructor should be __init__()',\n",
        "              'The name of the destructor should be __del__()')\n",
        "table.add_row('\\n', '\\n')\n",
        "\n",
        "table.add_row('The main objective of constructor is to perform initialization activities of an object. Initialization means assigning the values to instance variables.',\n",
        "                 'The main objective of the destructor is to perform clean up activities of an object. Clean up activities means resource deallocation activities like close database connections etc.')\n",
        "table.add_row('\\n', '\\n')\n",
        "\n",
        "table.add_row('Just after creating an object, PVM will execute constructor automatically to perform initialization activities.',\n",
        "                 'Just before destroying an object, Garbage collector will execute destructor automatically to perform clean up activities')\n",
        "\n",
        "from rich.console import Console\n",
        "console = Console()\n",
        "console.print(table)"
      ],
      "metadata": {
        "colab": {
          "base_uri": "https://localhost:8080/",
          "height": 289
        },
        "id": "mqkwRt_pFz4C",
        "outputId": "e1e7f465-876e-4186-e3f3-5a5eed1ec0b3"
      },
      "execution_count": 157,
      "outputs": [
        {
          "output_type": "display_data",
          "data": {
            "text/plain": [
              "\u001b[3m                                            Constructor vs. Destructor                                             \u001b[0m\n",
              "┏━━━━━━━━━━━━━━━━━━━━━━━━━━━━━━━━━━━━━━━━━━━━━━━━━━━━━━━━┳━━━━━━━━━━━━━━━━━━━━━━━━━━━━━━━━━━━━━━━━━━━━━━━━━━━━━━━━┓\n",
              "┃\u001b[1m \u001b[0m\u001b[1m                     Constructor                      \u001b[0m\u001b[1m \u001b[0m┃\u001b[1m \u001b[0m\u001b[1m                      Destructor                      \u001b[0m\u001b[1m \u001b[0m┃\n",
              "┡━━━━━━━━━━━━━━━━━━━━━━━━━━━━━━━━━━━━━━━━━━━━━━━━━━━━━━━━╇━━━━━━━━━━━━━━━━━━━━━━━━━━━━━━━━━━━━━━━━━━━━━━━━━━━━━━━━┩\n",
              "│    The name of the constructor should be __init__()    │     The name of the destructor should be __del__()     │\n",
              "│                                                        │                                                        │\n",
              "│                                                        │                                                        │\n",
              "│    The main objective of constructor is to perform     │   The main objective of the destructor is to perform   │\n",
              "│ initialization activities of an object. Initialization │ clean up activities of an object. Clean up activities  │\n",
              "│   means assigning the values to instance variables.    │   means resource deallocation activities like close    │\n",
              "│                                                        │               database connections etc.                │\n",
              "│                                                        │                                                        │\n",
              "│                                                        │                                                        │\n",
              "│    Just after creating an object, PVM will execute     │  Just before destroying an object, Garbage collector   │\n",
              "│  constructor automatically to perform initialization   │ will execute destructor automatically to perform clean │\n",
              "│                      activities.                       │                     up activities                      │\n",
              "└────────────────────────────────────────────────────────┴────────────────────────────────────────────────────────┘\n"
            ],
            "text/html": [
              "<pre style=\"white-space:pre;overflow-x:auto;line-height:normal;font-family:Menlo,'DejaVu Sans Mono',consolas,'Courier New',monospace\"><span style=\"font-style: italic\">                                            Constructor vs. Destructor                                             </span>\n",
              "┏━━━━━━━━━━━━━━━━━━━━━━━━━━━━━━━━━━━━━━━━━━━━━━━━━━━━━━━━┳━━━━━━━━━━━━━━━━━━━━━━━━━━━━━━━━━━━━━━━━━━━━━━━━━━━━━━━━┓\n",
              "┃<span style=\"font-weight: bold\">                      Constructor                       </span>┃<span style=\"font-weight: bold\">                       Destructor                       </span>┃\n",
              "┡━━━━━━━━━━━━━━━━━━━━━━━━━━━━━━━━━━━━━━━━━━━━━━━━━━━━━━━━╇━━━━━━━━━━━━━━━━━━━━━━━━━━━━━━━━━━━━━━━━━━━━━━━━━━━━━━━━┩\n",
              "│    The name of the constructor should be __init__()    │     The name of the destructor should be __del__()     │\n",
              "│                                                        │                                                        │\n",
              "│                                                        │                                                        │\n",
              "│    The main objective of constructor is to perform     │   The main objective of the destructor is to perform   │\n",
              "│ initialization activities of an object. Initialization │ clean up activities of an object. Clean up activities  │\n",
              "│   means assigning the values to instance variables.    │   means resource deallocation activities like close    │\n",
              "│                                                        │               database connections etc.                │\n",
              "│                                                        │                                                        │\n",
              "│                                                        │                                                        │\n",
              "│    Just after creating an object, PVM will execute     │  Just before destroying an object, Garbage collector   │\n",
              "│  constructor automatically to perform initialization   │ will execute destructor automatically to perform clean │\n",
              "│                      activities.                       │                     up activities                      │\n",
              "└────────────────────────────────────────────────────────┴────────────────────────────────────────────────────────┘\n",
              "</pre>\n"
            ]
          },
          "metadata": {}
        }
      ]
    },
    {
      "cell_type": "markdown",
      "source": [
        "#### What are the options available to use members of one class inside another class?\n",
        "\n",
        "We can use members of one class inside another class by using following two ways\n",
        "* Has-A Relationship - Composition\n",
        "* IS-A Relationship - Inheritance"
      ],
      "metadata": {
        "id": "36lPs_8XLrW3"
      }
    },
    {
      "cell_type": "markdown",
      "source": [
        "##  By Composition (Has-A Relationship)\n",
        "* By using Class Name or by creating object we can access members of one class inside another class is nothing but composition (Has-A Relationship).\n",
        "* The main advantage of Has-A Relationship is Code Reusability."
      ],
      "metadata": {
        "id": "Dqhqj31EOkPG"
      }
    },
    {
      "cell_type": "code",
      "source": [
        "# class Car HAS-A Engine reference\n",
        "\n",
        "class Engine:\n",
        "    def __init__(self):\n",
        "        self.power = '250HP'\n",
        "    def useEngine(self):\n",
        "        print(\"Engine specific functionality\")\n",
        "\n",
        "class Car:\n",
        "    def __init__(self):\n",
        "        self.engine = Engine()\n",
        "    def useCar(self):\n",
        "        print(\"Car required Engine functionality and power\")\n",
        "        self.engine.useEngine()\n",
        "        print(self.engine.power)\n",
        "\n",
        "c = Car()\n",
        "c.useCar()"
      ],
      "metadata": {
        "colab": {
          "base_uri": "https://localhost:8080/"
        },
        "id": "EWSMGr31Qpr2",
        "outputId": "4726cd5d-b31c-4002-bbda-da78bc68a65e"
      },
      "execution_count": 158,
      "outputs": [
        {
          "output_type": "stream",
          "name": "stdout",
          "text": [
            "Car required Engine functionality and power\n",
            "Engine specific functionality\n",
            "250HP\n"
          ]
        }
      ]
    },
    {
      "cell_type": "code",
      "source": [
        "# Employee class Has-A Car reference and hence Employee class can access all members of Car class.\n",
        "\n",
        "class Car:\n",
        "    def __init__(self, name, model, color):\n",
        "        self.name = name\n",
        "        self.model = model\n",
        "        self.color = color\n",
        "    def carInfo(self):\n",
        "        print(f\"Car: {self.name}, Model: {self.model} and Color: {self.color}\")\n",
        "\n",
        "class Employee:\n",
        "    def __init__(self, ename, eno, ecar):\n",
        "        self.ename = ename\n",
        "        self.eno = eno\n",
        "        self.ecar = ecar\n",
        "    def empInfo(self):\n",
        "        print(f\"Employee Name: {self.ename}\")\n",
        "        print(f\"Employee No.: {self.eno}\")\n",
        "        print(f\"Employee car info.: \")\n",
        "        self.ecar.carInfo()\n",
        "\n",
        "ecar = Car(\"Innova\", 'V 2.5', 'Grey')\n",
        "e = Employee(\"Durga\", 872425, ecar)\n",
        "e.empInfo()"
      ],
      "metadata": {
        "colab": {
          "base_uri": "https://localhost:8080/"
        },
        "id": "9BpjNNAoa2dj",
        "outputId": "b9d9fd51-2030-4c1f-854e-19fd567218e5"
      },
      "execution_count": 159,
      "outputs": [
        {
          "output_type": "stream",
          "name": "stdout",
          "text": [
            "Employee Name: Durga\n",
            "Employee No.: 872425\n",
            "Employee car info.: \n",
            "Car: Innova, Model: V 2.5 and Color: Grey\n"
          ]
        }
      ]
    },
    {
      "cell_type": "code",
      "source": [
        "class sportsNews:\n",
        "    def sportsInfo(self):\n",
        "        print(\"Sports news Information - 1\")\n",
        "        print(\"Sports news Information - 2\")\n",
        "        print(\"Sports news Information - 3\")\n",
        "        print(\"\\n\")\n",
        "\n",
        "class movieNews:\n",
        "    def movieInfo(self):\n",
        "        print(\"Movie news Information - 1\")\n",
        "        print(\"Movie news Information - 2\")\n",
        "        print(\"Movie news Information - 3\")\n",
        "        print(\"\\n\")\n",
        "\n",
        "class politicalNews:\n",
        "    def politicalInfo(self):\n",
        "        print(\"Political news Information - 1\")\n",
        "        print(\"Political news Information - 2\")\n",
        "        print(\"Political news Information - 3\")\n",
        "        print(\"\\n\")\n",
        "\n",
        "class educationNews:\n",
        "    def educationInfo(self):\n",
        "        print(\"Education news Information - 1\")\n",
        "        print(\"Education news Information - 2\")\n",
        "        print(\"Education news Information - 3\")\n",
        "        print(\"\\n\")\n",
        "\n",
        "class News:\n",
        "    def __init__(self):\n",
        "        self.sports = sportsNews()\n",
        "        self.movies = movieNews()\n",
        "        self.politics = politicalNews()\n",
        "        self.education = educationNews()\n",
        "    def totalNews(self):\n",
        "        print(\"Welcome to today's news\")\n",
        "        self.sports.sportsInfo()\n",
        "        self.movies.movieInfo()\n",
        "        self.politics.politicalInfo()\n",
        "        self.education.educationInfo()\n",
        "\n",
        "n = News()\n",
        "n.totalNews()"
      ],
      "metadata": {
        "colab": {
          "base_uri": "https://localhost:8080/"
        },
        "id": "2TqEJWG962HR",
        "outputId": "ab888c0f-d8b2-4a74-cd7f-4cf3d6220101"
      },
      "execution_count": 160,
      "outputs": [
        {
          "output_type": "stream",
          "name": "stdout",
          "text": [
            "Welcome to today's news\n",
            "Sports news Information - 1\n",
            "Sports news Information - 2\n",
            "Sports news Information - 3\n",
            "\n",
            "\n",
            "Movie news Information - 1\n",
            "Movie news Information - 2\n",
            "Movie news Information - 3\n",
            "\n",
            "\n",
            "Political news Information - 1\n",
            "Political news Information - 2\n",
            "Political news Information - 3\n",
            "\n",
            "\n",
            "Education news Information - 1\n",
            "Education news Information - 2\n",
            "Education news Information - 3\n",
            "\n",
            "\n"
          ]
        }
      ]
    },
    {
      "cell_type": "code",
      "source": [
        "class sportsNews:\n",
        "    def sportsInfo(self):\n",
        "        print(\"Sports news Information - 1\")\n",
        "        print(\"Sports news Information - 2\")\n",
        "        print(\"Sports news Information - 3\")\n",
        "        print(\"\\n\")\n",
        "\n",
        "class movieNews:\n",
        "    def movieInfo(self):\n",
        "        print(\"Movie news Information - 1\")\n",
        "        print(\"Movie news Information - 2\")\n",
        "        print(\"Movie news Information - 3\")\n",
        "        print(\"\\n\")\n",
        "\n",
        "class politicalNews:\n",
        "    def politicalInfo(self):\n",
        "        print(\"Political news Information - 1\")\n",
        "        print(\"Political news Information - 2\")\n",
        "        print(\"Political news Information - 3\")\n",
        "        print(\"\\n\")\n",
        "\n",
        "class educationNews:\n",
        "    def educationInfo(self):\n",
        "        print(\"Education news Information - 1\")\n",
        "        print(\"Education news Information - 2\")\n",
        "        print(\"Education news Information - 3\")\n",
        "        print(\"\\n\")\n",
        "\n",
        "class News:\n",
        "    def __init__(self, sports_news, movie_news, politics_news, education_news):\n",
        "        self.sports_news = sports_news\n",
        "        self.movie_news = movie_news\n",
        "        self.politics_news = politics_news\n",
        "        self.education_news = education_news\n",
        "    def totalNews(self):\n",
        "        print(\"Welcome to today's news\")\n",
        "        self.sports_news.sportsInfo()\n",
        "        self.movie_news.movieInfo()\n",
        "        self.politics_news.politicalInfo()\n",
        "        self.education_news.educationInfo()\n",
        "\n",
        "sports_news = sportsNews()\n",
        "movie_news = movieNews()\n",
        "politics_news = politicalNews()\n",
        "education_news = educationNews()\n",
        "n = News(sports_news,movie_news,politics_news,education_news)\n",
        "n.totalNews()"
      ],
      "metadata": {
        "colab": {
          "base_uri": "https://localhost:8080/"
        },
        "id": "Ae3DM4z7-X30",
        "outputId": "a424d0fb-9830-4daa-db56-4f7a0198313d"
      },
      "execution_count": 161,
      "outputs": [
        {
          "output_type": "stream",
          "name": "stdout",
          "text": [
            "Welcome to today's news\n",
            "Sports news Information - 1\n",
            "Sports news Information - 2\n",
            "Sports news Information - 3\n",
            "\n",
            "\n",
            "Movie news Information - 1\n",
            "Movie news Information - 2\n",
            "Movie news Information - 3\n",
            "\n",
            "\n",
            "Political news Information - 1\n",
            "Political news Information - 2\n",
            "Political news Information - 3\n",
            "\n",
            "\n",
            "Education news Information - 1\n",
            "Education news Information - 2\n",
            "Education news Information - 3\n",
            "\n",
            "\n"
          ]
        }
      ]
    },
    {
      "cell_type": "markdown",
      "source": [
        "### Composition vs Aggregation (in HAS-A relation)\n",
        "* Without existing container object if there is no chance of existing contained object then the container and contained objects are strongly associated and that strong association is nothing but Composition.\n",
        "* Container holds contained objects\n",
        "> Eg: University contains several Departments and without existing university object there is no chance of existing Department object. Hence University and Department objects are strongly associated and this strong association is nothing but Composition.\n",
        "* Without existing container object if there is a chance of existing contained object then the container and contained objects are weakly associated and that weak association is nothing but Aggregation.\n",
        "* Container won't hold contained objects. Contained objects can exist alone. (OR) Container object won't hold any contained objects, it hols only references of contained objects.\n",
        "> Eg: Department contains several Professors. Without existing Department still there may be a chance of existing Professor. Hence Department and Professor Objects are weakly associated, which is nothing but Aggregation."
      ],
      "metadata": {
        "id": "7925ONWGT_sS"
      }
    },
    {
      "cell_type": "code",
      "source": [
        "# Without existing university there is no chance of existing department\n",
        "# University HAS-A department\n",
        "class University:\n",
        "    def __init__(self):\n",
        "        print(\"University is created\")\n",
        "        self.department = self.Department()\n",
        "    # Because department is a part of university, Inner class\n",
        "    # It should not be possible to create a department class directly/independently\n",
        "    def Department(self):\n",
        "        print(\"Department is created\")\n",
        "        pass\n",
        "\n",
        "u = University()"
      ],
      "metadata": {
        "colab": {
          "base_uri": "https://localhost:8080/"
        },
        "id": "8KlGLpusRl4u",
        "outputId": "9ef8f9bd-73ca-456d-ff3d-6dad10ec6fdc"
      },
      "execution_count": 162,
      "outputs": [
        {
          "output_type": "stream",
          "name": "stdout",
          "text": [
            "University is created\n",
            "Department is created\n"
          ]
        }
      ]
    },
    {
      "cell_type": "code",
      "source": [
        "class Professor:\n",
        "    print(\"Professor is created\")\n",
        "    pass\n",
        "\n",
        "class Department:\n",
        "    def __init__(self, professor):\n",
        "        print(\"Department is created\")\n",
        "        self.professor = professor\n",
        "\n",
        "professor = Professor()\n",
        "csdept = Department(professor)\n",
        "itdept = Department(professor)"
      ],
      "metadata": {
        "colab": {
          "base_uri": "https://localhost:8080/"
        },
        "id": "Gqdl-mYAhDqJ",
        "outputId": "98185bbb-d0fa-4846-f8ab-cf5d8d89a096"
      },
      "execution_count": 163,
      "outputs": [
        {
          "output_type": "stream",
          "name": "stdout",
          "text": [
            "Professor is created\n",
            "Department is created\n",
            "Department is created\n"
          ]
        }
      ]
    },
    {
      "cell_type": "code",
      "source": [
        "class Student:\n",
        "    collegeName='DURGASOFT'\n",
        "    def __init__(self,name):\n",
        "        self.name=name\n",
        "print(Student.collegeName)\n",
        "s=Student('Durga')\n",
        "print(s.name)"
      ],
      "metadata": {
        "colab": {
          "base_uri": "https://localhost:8080/"
        },
        "id": "DBU5LFofkac0",
        "outputId": "1a844c36-76f2-4e46-eda8-1aa0781c26d6"
      },
      "execution_count": 164,
      "outputs": [
        {
          "output_type": "stream",
          "name": "stdout",
          "text": [
            "DURGASOFT\n",
            "Durga\n"
          ]
        }
      ]
    },
    {
      "cell_type": "markdown",
      "source": [
        "#### Conclusion\n",
        "* In the above example without existing Student object there is no chance of existing his name. Hence Student Object and his name are strongly associated which is nothing but Composition.\n",
        "* But without existing Student object there may be a chance of existing collegeName. Hence Student object and collegeName are weakly associated which is nothing but Aggregation.\n",
        "* The relation between object and its instance variables is always Composition where as the relation between object and static variables is Aggregation.\n"
      ],
      "metadata": {
        "id": "p7HoJDGCksm-"
      }
    },
    {
      "cell_type": "markdown",
      "source": [
        "**Note: In the above example when ever we are creating child class object both parent and\n",
        "child class constructors got executed to perform initialization of child object.**"
      ],
      "metadata": {
        "id": "rIuviCY1mqJe"
      }
    },
    {
      "cell_type": "markdown",
      "source": [
        "## By Inheritance (IS-A Relationship)\n",
        "* Parent to child relationship\n",
        "* Parent class members are by default available to the child class and hence child class can reuse parent class functionality without rewriting. (Code Reusability)\n",
        "* Child class can define new members also. Hence child class can extent parent class functionality. (Code Extendability)\n",
        "* What ever variables, methods and constructors available in the parent class by default available to the child classes and we are not required to rewrite. Hence the main advantage of inheritance is Code Reusability and we can extend existing functionality with some more extra functionality.\n",
        "* **Syntax: class childclass(parentclass):**"
      ],
      "metadata": {
        "id": "aN8xYPQ2pXpw"
      }
    },
    {
      "cell_type": "code",
      "source": [
        "class p:\n",
        "    def m1(self):\n",
        "        print(\"Parent class method\")\n",
        "\n",
        "class c(p):\n",
        "    def m2(self):\n",
        "        print(\"Child method\")\n",
        "\n",
        "ch = c()\n",
        "ch.m1()\n",
        "ch.m2()"
      ],
      "metadata": {
        "colab": {
          "base_uri": "https://localhost:8080/"
        },
        "id": "wljtxK5U25f7",
        "outputId": "2b73f14a-1b91-46de-81e1-fc318091eaea"
      },
      "execution_count": 165,
      "outputs": [
        {
          "output_type": "stream",
          "name": "stdout",
          "text": [
            "Parent class method\n",
            "Child method\n"
          ]
        }
      ]
    },
    {
      "cell_type": "code",
      "source": [
        "class parent:\n",
        "    a = 10\n",
        "    def __init__(self):\n",
        "        print(\"Parent class constructor\")\n",
        "        self.b = 20\n",
        "    def m1(self):\n",
        "        print(\"Parent class instance method\")\n",
        "    @classmethod\n",
        "    def m2(cls):\n",
        "        print(\"Parent class class method\")\n",
        "    @staticmethod\n",
        "    def m3():\n",
        "        print(\"Parent class static method\")\n",
        "\n",
        "class child(parent):\n",
        "    pass\n",
        "\n",
        "c = child()\n",
        "print(c.a)\n",
        "print(c.b)\n",
        "c.m1()\n",
        "c.m2()\n",
        "c.m3()"
      ],
      "metadata": {
        "colab": {
          "base_uri": "https://localhost:8080/"
        },
        "id": "R35jkb-45Nja",
        "outputId": "4b739565-0fff-4143-e4c1-9bc8983d9da3"
      },
      "execution_count": 166,
      "outputs": [
        {
          "output_type": "stream",
          "name": "stdout",
          "text": [
            "Parent class constructor\n",
            "10\n",
            "20\n",
            "Parent class instance method\n",
            "Parent class class method\n",
            "Parent class static method\n"
          ]
        }
      ]
    },
    {
      "cell_type": "code",
      "source": [
        "class person:\n",
        "    def __init__(self, name, age):\n",
        "        self.name = name\n",
        "        self.age = age\n",
        "    def eatndrink(self):\n",
        "        print(\"Eat Biryani and Drink Beer\")\n",
        "\n",
        "class employee(person):\n",
        "    def __init__(self, name, age, eno, esal):\n",
        "        self.name = name # Repitition\n",
        "        self.age = age # Repitition\n",
        "        self.eno = eno\n",
        "        self.esal = esal\n",
        "    def work(self):\n",
        "        print(\"Coding Python Programs\")\n",
        "    def empInfo(self):\n",
        "        print(\"Name: \", self.name)\n",
        "        print(\"Age: \", self.age)\n",
        "        print(\"Employee No.: \",self.eno)\n",
        "        print(\"Employee salary: \",self.esal)\n",
        "\n",
        "e = employee('Durga',48, 872425, 10000)\n",
        "e.empInfo()\n",
        "e.eatndrink()\n",
        "e.work()"
      ],
      "metadata": {
        "colab": {
          "base_uri": "https://localhost:8080/"
        },
        "id": "QDKMSmnJ7pQP",
        "outputId": "ba8cd4d4-9cb3-4244-e1eb-e5d52864c9dc"
      },
      "execution_count": 167,
      "outputs": [
        {
          "output_type": "stream",
          "name": "stdout",
          "text": [
            "Name:  Durga\n",
            "Age:  48\n",
            "Employee No.:  872425\n",
            "Employee salary:  10000\n",
            "Eat Biryani and Drink Beer\n",
            "Coding Python Programs\n"
          ]
        }
      ]
    },
    {
      "cell_type": "markdown",
      "source": [
        "**To call parent class members from the child class super() method is used.**"
      ],
      "metadata": {
        "id": "_Xcn694d_n_t"
      }
    },
    {
      "cell_type": "code",
      "source": [
        "class Person:\n",
        "    def __init__(self,name,age):\n",
        "        self.name=name\n",
        "        self.age=age\n",
        "    def eatndrink(self):\n",
        "        print('Eat Biryani and Drink Beer')\n",
        "\n",
        "class Employee(Person):\n",
        "    def __init__(self,name,age,eno,esal):\n",
        "        super().__init__(name,age)\n",
        "        self.eno=eno\n",
        "        self.esal=esal\n",
        "    def work(self):\n",
        "        print(\"Coding Python is very easy just like drinking Chilled Beer\")\n",
        "    def empinfo(self):\n",
        "        print(\"Employee Name:\",self.name)\n",
        "        print(\"Employee Age:\",self.age)\n",
        "        print(\"Employee Number:\",self.eno)\n",
        "        print(\"Employee Salary:\",self.esal)\n",
        "\n",
        "e=Employee('Durga', 48, 100, 10000)\n",
        "e.empinfo()\n",
        "e.eatndrink()\n",
        "e.work()"
      ],
      "metadata": {
        "colab": {
          "base_uri": "https://localhost:8080/"
        },
        "id": "r1lTEXMd_vQS",
        "outputId": "00bff6df-ac71-4622-ca19-b0e62d8db7d0"
      },
      "execution_count": 168,
      "outputs": [
        {
          "output_type": "stream",
          "name": "stdout",
          "text": [
            "Employee Name: Durga\n",
            "Employee Age: 48\n",
            "Employee Number: 100\n",
            "Employee Salary: 10000\n",
            "Eat Biryani and Drink Beer\n",
            "Coding Python is very easy just like drinking Chilled Beer\n"
          ]
        }
      ]
    },
    {
      "cell_type": "markdown",
      "source": [
        "**Note: Whenever we are creating child class object then child class constructor will be executed. If the child class does not contain constructor then parent class constructor will be executed, but parent object won't be created.**"
      ],
      "metadata": {
        "id": "uYQ9T1lYnape"
      }
    },
    {
      "cell_type": "code",
      "source": [
        "class P:\n",
        "    def __init__(self):\n",
        "        print(id(self))\n",
        "class C(P):\n",
        "    pass\n",
        "\n",
        "c=C()\n",
        "print(id(c))"
      ],
      "metadata": {
        "colab": {
          "base_uri": "https://localhost:8080/"
        },
        "id": "XyWayzb4lDQZ",
        "outputId": "60beb5bb-ec48-4a99-8ee0-d4f01f0f19a3"
      },
      "execution_count": 169,
      "outputs": [
        {
          "output_type": "stream",
          "name": "stdout",
          "text": [
            "135294691212784\n",
            "135294691212784\n"
          ]
        }
      ]
    },
    {
      "cell_type": "code",
      "source": [
        "class Person:\n",
        "    def __init__(self,name,age):\n",
        "        self.name=name\n",
        "        self.age=age\n",
        "\n",
        "class Student(Person):\n",
        "    def __init__(self,name,age,rollno,marks):\n",
        "        super().__init__(name,age)\n",
        "        self.rollno=rollno\n",
        "        self.marks=marks\n",
        "    def __str__(self):\n",
        "        return f'Name={self.name}\\nAge={self.age}\\nRollno={self.rollno}\\nMarks={self.marks}'\n",
        "\n",
        "s1=Student('durga',48,101,90)\n",
        "print(s1)"
      ],
      "metadata": {
        "colab": {
          "base_uri": "https://localhost:8080/"
        },
        "id": "-fYkRPOTl_qP",
        "outputId": "57eb63c8-5076-45c7-d64a-32ed94297088"
      },
      "execution_count": 170,
      "outputs": [
        {
          "output_type": "stream",
          "name": "stdout",
          "text": [
            "Name=durga\n",
            "Age=48\n",
            "Rollno=101\n",
            "Marks=90\n"
          ]
        }
      ]
    },
    {
      "cell_type": "markdown",
      "source": [
        "**What ever members present in Parent class are by default available to the child class through inheritance. Hence on the child class reference we can call both parent class methods and child\n",
        "class methods.**"
      ],
      "metadata": {
        "id": "7qoZudos8Fhb"
      }
    },
    {
      "cell_type": "markdown",
      "source": [
        "### Single Inheritance:\n",
        "* The concept of inheriting the properties from one class to another class is known as single inheritance.\n",
        "* Single parent and single child"
      ],
      "metadata": {
        "id": "bZaYknnNoWKB"
      }
    },
    {
      "cell_type": "code",
      "source": [
        "class P:\n",
        "    def m1(self):\n",
        "        print(\"Parent Method\")\n",
        "\n",
        "class C(P):\n",
        "    def m2(self):\n",
        "        print(\"Child Method\")\n",
        "\n",
        "c=C()\n",
        "c.m1()\n",
        "c.m2()"
      ],
      "metadata": {
        "colab": {
          "base_uri": "https://localhost:8080/"
        },
        "id": "8ZZ3chCSoWkO",
        "outputId": "b49df2f5-6196-4e1c-aa25-2a095a113db7"
      },
      "execution_count": 171,
      "outputs": [
        {
          "output_type": "stream",
          "name": "stdout",
          "text": [
            "Parent Method\n",
            "Child Method\n"
          ]
        }
      ]
    },
    {
      "cell_type": "markdown",
      "source": [
        "### Multi Level Inheritance:\n",
        "* The concept of inheriting the properties from multiple classes to single class with the concept of one after another is known as multilevel inheritance."
      ],
      "metadata": {
        "id": "A7QC3mpJuj0A"
      }
    },
    {
      "cell_type": "code",
      "source": [
        "class P:\n",
        "    def m1(self):\n",
        "        print(\"Parent Method\")\n",
        "\n",
        "class C(P):\n",
        "    def m2(self):\n",
        "        print(\"Child Method\")\n",
        "\n",
        "class CC(C):\n",
        "    def m3(self):\n",
        "        print(\"Sub Child Method\")\n",
        "\n",
        "c=CC()\n",
        "c.m1()\n",
        "c.m2()\n",
        "c.m3()"
      ],
      "metadata": {
        "colab": {
          "base_uri": "https://localhost:8080/"
        },
        "id": "sl2TNdi4oWmt",
        "outputId": "dd422d08-6ca8-43dd-d2eb-28a64fa3198d"
      },
      "execution_count": 172,
      "outputs": [
        {
          "output_type": "stream",
          "name": "stdout",
          "text": [
            "Parent Method\n",
            "Child Method\n",
            "Sub Child Method\n"
          ]
        }
      ]
    },
    {
      "cell_type": "markdown",
      "source": [
        "### Hierarchical Inheritance\n",
        "* The concept of inheriting properties from one class into multiple classes which are present at same level is known as Hierarchical Inheritance.\n",
        "* One parent but multiple child classes and all child classes are at same level."
      ],
      "metadata": {
        "id": "lv_U2eoexgXH"
      }
    },
    {
      "cell_type": "code",
      "source": [
        "class P:\n",
        "    def m1(self):\n",
        "        print(\"Parent Method\")\n",
        "\n",
        "class C1(P):\n",
        "    def m2(self):\n",
        "        print(\"Child1 Method\")\n",
        "\n",
        "class C2(P):\n",
        "    def m3(self):\n",
        "        print(\"Child2 Method\")\n",
        "\n",
        "c1=C1()\n",
        "c1.m1()\n",
        "c1.m2()\n",
        "\n",
        "c2=C2()\n",
        "c2.m1()\n",
        "c2.m3()"
      ],
      "metadata": {
        "colab": {
          "base_uri": "https://localhost:8080/"
        },
        "id": "TV--G4dJoWpd",
        "outputId": "625c57e2-6bae-47f5-8b0b-c25da2c5d09b"
      },
      "execution_count": 173,
      "outputs": [
        {
          "output_type": "stream",
          "name": "stdout",
          "text": [
            "Parent Method\n",
            "Child1 Method\n",
            "Parent Method\n",
            "Child2 Method\n"
          ]
        }
      ]
    },
    {
      "cell_type": "markdown",
      "source": [
        "### Multiple Inheritance\n",
        "* The concept of inheriting the properties from multiple classes into a single class at a time, is known as multiple inheritance.\n",
        "* Reverse of Heirarchical inheritance\n",
        "* Multiple parents and single child class"
      ],
      "metadata": {
        "id": "sC92n-SgyU20"
      }
    },
    {
      "cell_type": "code",
      "source": [
        "class P1:\n",
        "    def m1(self):\n",
        "        print(\"Parent1 Method\")\n",
        "\n",
        "class P2:\n",
        "    def m2(self):\n",
        "        print(\"Parent2 Method\")\n",
        "\n",
        "class C(P1,P2):\n",
        "    def m3(self):\n",
        "        print(\"Child2 Method\")\n",
        "\n",
        "c=C()\n",
        "c.m1()\n",
        "c.m2()\n",
        "c.m3()"
      ],
      "metadata": {
        "colab": {
          "base_uri": "https://localhost:8080/"
        },
        "id": "q-xDwtVqoWsY",
        "outputId": "1ff0e02d-9477-4e0a-ec7e-668129226e94"
      },
      "execution_count": 174,
      "outputs": [
        {
          "output_type": "stream",
          "name": "stdout",
          "text": [
            "Parent1 Method\n",
            "Parent2 Method\n",
            "Child2 Method\n"
          ]
        }
      ]
    },
    {
      "cell_type": "markdown",
      "source": [
        "* **If the same method is inherited from both parent classes, then Python will always consider the order of Parent classes in the declaration of the child class.**\n",
        "> * class C(P1, P2): -> P1 method will be considered\n",
        "> * class C(P2, P1): -> P2 method will be considered"
      ],
      "metadata": {
        "id": "46vMkfbJ1-E5"
      }
    },
    {
      "cell_type": "code",
      "source": [
        "class P1:\n",
        "    def m1(self):\n",
        "        print(\"Parent1 Method\")\n",
        "\n",
        "class P2:\n",
        "    def m1(self):\n",
        "        print(\"Parent2 Method\")\n",
        "\n",
        "class C(P1,P2):\n",
        "    def m2(self):\n",
        "        print(\"Child Method\")\n",
        "\n",
        "c=C()\n",
        "c.m1()\n",
        "c.m2()"
      ],
      "metadata": {
        "colab": {
          "base_uri": "https://localhost:8080/"
        },
        "id": "Zrz6nrYVoWvh",
        "outputId": "3a5ae18e-f93e-4ad2-be5f-c1f35de00ec8"
      },
      "execution_count": 175,
      "outputs": [
        {
          "output_type": "stream",
          "name": "stdout",
          "text": [
            "Parent1 Method\n",
            "Child Method\n"
          ]
        }
      ]
    },
    {
      "cell_type": "code",
      "source": [
        "class P1:\n",
        "    def m1(self):\n",
        "        print(\"Parent1 Method\")\n",
        "\n",
        "class P2:\n",
        "    def m1(self):\n",
        "        print(\"Parent2 Method\")\n",
        "\n",
        "class C(P2,P1):\n",
        "    def m2(self):\n",
        "        print(\"Child Method\")\n",
        "\n",
        "c=C()\n",
        "c.m1()\n",
        "c.m2()"
      ],
      "metadata": {
        "colab": {
          "base_uri": "https://localhost:8080/"
        },
        "id": "wESri2PyoWyQ",
        "outputId": "11f94b99-573d-4671-d0df-9865f4aa3715"
      },
      "execution_count": 176,
      "outputs": [
        {
          "output_type": "stream",
          "name": "stdout",
          "text": [
            "Parent2 Method\n",
            "Child Method\n"
          ]
        }
      ]
    },
    {
      "cell_type": "markdown",
      "source": [
        "### Hybrid Inheritance\n",
        "* Combination of Single, Multi level, multiple and Hierarchical inheritance is known as Hybrid Inheritance."
      ],
      "metadata": {
        "id": "0GMhOXo82zVU"
      }
    },
    {
      "cell_type": "markdown",
      "source": [
        "### Cyclic Inheritance:\n",
        "* The concept of inheriting properties from one class to another class in cyclic way, is called Cyclic inheritance.Python won't support for Cyclic Inheritance of course it is really not required.\n",
        "\n",
        "```\n",
        "class A(B):\n",
        "    pass\n",
        "class B(A):\n",
        "    pass\n",
        "```\n",
        "\n"
      ],
      "metadata": {
        "id": "K810Xs6pgXmX"
      }
    },
    {
      "cell_type": "markdown",
      "source": [
        "### Method Resolution Order (MRO)\n",
        "* In Hybrid Inheritance the method resolution order is decided based on MRO algorithm.\n",
        "* This algorithm is also known as **C3 algorithm**.\n",
        "* Samuele Pedroni proposed this algorithm.\n",
        "* It follows **DLR (Depth First Left to Right)** i.e\n",
        "> * Child will get more priority than Parent and Left\n",
        "> * Parent will get more priority than Right Parent\n",
        "* Every python class is a child class of object class.\n",
        "* **Syntax: classname.mro()**"
      ],
      "metadata": {
        "id": "9TG6Ygcytio-"
      }
    },
    {
      "cell_type": "code",
      "source": [
        "class A:\n",
        "    pass\n",
        "class B(A):\n",
        "    pass\n",
        "class C(A):\n",
        "    pass\n",
        "class D(B,C):\n",
        "    pass\n",
        "\n",
        "print(\"MRO of A\\n\",A.mro())\n",
        "print(\"MRO of B\\n\",B.mro())\n",
        "print(\"MRO of C\\n\",C.mro())\n",
        "print(\"MRO of D\\n\",D.mro())"
      ],
      "metadata": {
        "id": "9LbMCyw7tvYh",
        "colab": {
          "base_uri": "https://localhost:8080/"
        },
        "outputId": "17484e4f-c1c7-4801-a339-1bb21b3593dc"
      },
      "execution_count": 177,
      "outputs": [
        {
          "output_type": "stream",
          "name": "stdout",
          "text": [
            "MRO of A\n",
            " [<class '__main__.A'>, <class 'object'>]\n",
            "MRO of B\n",
            " [<class '__main__.B'>, <class '__main__.A'>, <class 'object'>]\n",
            "MRO of C\n",
            " [<class '__main__.C'>, <class '__main__.A'>, <class 'object'>]\n",
            "MRO of D\n",
            " [<class '__main__.D'>, <class '__main__.B'>, <class '__main__.C'>, <class '__main__.A'>, <class 'object'>]\n"
          ]
        }
      ]
    },
    {
      "cell_type": "code",
      "source": [
        "class A:\n",
        "    def m1(self):\n",
        "        print(\"A Class Method\")\n",
        "class B(A):\n",
        "    def m1(self):\n",
        "        print(\"B Class Method\")\n",
        "class C(A):\n",
        "    def m1(self):\n",
        "        print(\"C Class Method\")\n",
        "class D(B,C):\n",
        "    def m1(self):\n",
        "        print(\"D Class Method\")\n",
        "\n",
        "d = D() # MRO -> DBCAO\n",
        "d.m1()"
      ],
      "metadata": {
        "colab": {
          "base_uri": "https://localhost:8080/"
        },
        "id": "9MWaBieXu8SA",
        "outputId": "7a19551c-05ee-4f7d-b761-729718107bee"
      },
      "execution_count": 178,
      "outputs": [
        {
          "output_type": "stream",
          "name": "stdout",
          "text": [
            "D Class Method\n"
          ]
        }
      ]
    },
    {
      "cell_type": "code",
      "source": [
        "class A:\n",
        "    pass\n",
        "class B:\n",
        "    pass\n",
        "class C:\n",
        "    pass\n",
        "class D(A,B):\n",
        "    pass\n",
        "class E(B,C):\n",
        "    pass\n",
        "class F(D,E,C):\n",
        "    pass\n",
        "\n",
        "print(\"MRO of A\\n\", A.mro())\n",
        "print(\"MRO of B\\n\", B.mro())\n",
        "print(\"MRO of C\\n\", C.mro())\n",
        "print(\"MRO of D\\n\", D.mro())\n",
        "print(\"MRO of E\\n\", E.mro())\n",
        "print(\"MRO of F\\n\", F.mro()) # FDAEBCO instead of FDECABO"
      ],
      "metadata": {
        "colab": {
          "base_uri": "https://localhost:8080/"
        },
        "id": "lXMOF5wC7ZBj",
        "outputId": "bfb34111-9ae6-4040-ff99-f593d79e5c7f"
      },
      "execution_count": 179,
      "outputs": [
        {
          "output_type": "stream",
          "name": "stdout",
          "text": [
            "MRO of A\n",
            " [<class '__main__.A'>, <class 'object'>]\n",
            "MRO of B\n",
            " [<class '__main__.B'>, <class 'object'>]\n",
            "MRO of C\n",
            " [<class '__main__.C'>, <class 'object'>]\n",
            "MRO of D\n",
            " [<class '__main__.D'>, <class '__main__.A'>, <class '__main__.B'>, <class 'object'>]\n",
            "MRO of E\n",
            " [<class '__main__.E'>, <class '__main__.B'>, <class '__main__.C'>, <class 'object'>]\n",
            "MRO of F\n",
            " [<class '__main__.F'>, <class '__main__.D'>, <class '__main__.A'>, <class '__main__.E'>, <class '__main__.B'>, <class '__main__.C'>, <class 'object'>]\n"
          ]
        }
      ]
    },
    {
      "cell_type": "code",
      "source": [
        "class A:\n",
        "    def m1(self):\n",
        "        print(\"A class method\")\n",
        "class B:\n",
        "    def m1(self):\n",
        "        print(\"B class method\")\n",
        "class C:\n",
        "    def m1(self):\n",
        "        print(\"C class method\")\n",
        "class D(A,B):\n",
        "    def m2(self):\n",
        "        print(\"D class method\")\n",
        "class E(B,C):\n",
        "    def m1(self):\n",
        "        print(\"E class method\")\n",
        "class F(D,E,C):\n",
        "    def m2(self):\n",
        "        print(\"F class method\")\n",
        "\n",
        "f = F()\n",
        "f.m1()"
      ],
      "metadata": {
        "colab": {
          "base_uri": "https://localhost:8080/"
        },
        "id": "Eg_rNcqu-Hft",
        "outputId": "0764c0ed-a7b7-4096-9eb2-01627e7af2e8"
      },
      "execution_count": 180,
      "outputs": [
        {
          "output_type": "stream",
          "name": "stdout",
          "text": [
            "A class method\n"
          ]
        }
      ]
    },
    {
      "cell_type": "markdown",
      "source": [
        "#### MRO algorithm\n",
        "```\n",
        "MRO(X) = X + Merge(MRO(P1), MRO(P2),..., ParentList)\n",
        "```\n",
        "* Here we have to consider only immediate parents"
      ],
      "metadata": {
        "id": "KHsNL-32Ax2o"
      }
    },
    {
      "cell_type": "markdown",
      "source": [
        "##### Head Element vs Tail Terminology:\n",
        "* Assume C1,C2,C3,...are classes.\n",
        "* In the list: C1C2C3C4C5....\n",
        "* C1 is considered as Head Element and remaining C2, C3 . .. are considered as Tail."
      ],
      "metadata": {
        "id": "LAarPFFPFwwt"
      }
    },
    {
      "cell_type": "markdown",
      "source": [
        "##### How to find Merge:\n",
        "* Take the head of first list\n",
        "* If the head is not in the tail part of any other list, then add this head to the result and remove it from the lists in the merge.\n",
        "* If the head is present in the tail part of any other list, then consider the head element of the next list and continue the same process."
      ],
      "metadata": {
        "id": "8ZvpWqh2Azu5"
      }
    },
    {
      "cell_type": "code",
      "source": [
        "class A:pass\n",
        "class B:pass\n",
        "class C:pass\n",
        "class X(A,B):pass\n",
        "class Y(B,C):pass\n",
        "class P(X,Y,C):pass\n",
        "print(A.mro())#AO\n",
        "print(X.mro())#XABO\n",
        "print(Y.mro())#YBCO\n",
        "print(P.mro())#PXAYBCO"
      ],
      "metadata": {
        "colab": {
          "base_uri": "https://localhost:8080/"
        },
        "id": "L393ezMwh50e",
        "outputId": "d4d9b76d-72b1-448e-ca8c-40f127054b57"
      },
      "execution_count": 181,
      "outputs": [
        {
          "output_type": "stream",
          "name": "stdout",
          "text": [
            "[<class '__main__.A'>, <class 'object'>]\n",
            "[<class '__main__.X'>, <class '__main__.A'>, <class '__main__.B'>, <class 'object'>]\n",
            "[<class '__main__.Y'>, <class '__main__.B'>, <class '__main__.C'>, <class 'object'>]\n",
            "[<class '__main__.P'>, <class '__main__.X'>, <class '__main__.A'>, <class '__main__.Y'>, <class '__main__.B'>, <class '__main__.C'>, <class 'object'>]\n"
          ]
        }
      ]
    },
    {
      "cell_type": "markdown",
      "source": [
        "#### **Finding mro(P) by using C3 Algorithm**\n",
        "mro(A)=A,object\n",
        "\n",
        "mro(B)=B,object\n",
        "\n",
        "mro(C)=C,object\n",
        "\n",
        "mro(X)=X,A,B,object\n",
        "\n",
        "mro(Y)=Y,B,C,object\n",
        "\n",
        "mro(P)=P,X,A,Y,B,C,object\n",
        "\n",
        "Formula: MRO(X) = X + Merge(MRO(P1), MRO(P2),...,ParentList)\n",
        "\n",
        "mro(p) = P + Merge(mro(X),mro(Y),mro(C),XYC)\n",
        "\n",
        "= P + Merge(XABO,YBCO,CO,XYC)\n",
        "\n",
        "= P + X + Merge(ABO,YBCO,CO,YC)\n",
        "\n",
        "= P + X + A + Merge(BO,YBCO,CO,YC)\n",
        "\n",
        "= P + X + A + Y + Merge(BO,BCO,CO,C)\n",
        "\n",
        "= P + X + A + Y + B + Merge(O,CO,CO,C)\n",
        "\n",
        "= P + X + A + Y + B + C + Merge(O,O,O)\n",
        "\n",
        "= P + X + A + Y + B + C + O\n",
        "\n"
      ],
      "metadata": {
        "id": "VRNG56zXXSFW"
      }
    },
    {
      "cell_type": "markdown",
      "source": [
        "**In the above example P class m1() method will be considered.If P class does not contain\n",
        "m1() method then as per MRO, X class method will be considered. If X class does not contain then A class method will be considered and this process will be continued.**\n",
        "\n",
        "The method resolution in the following order: PXAYBCO"
      ],
      "metadata": {
        "id": "e84JEK3YtMYe"
      }
    },
    {
      "cell_type": "code",
      "source": [
        "# Example 2\n",
        "class A: pass\n",
        "class B: pass\n",
        "class C: pass\n",
        "class D(A,B): pass\n",
        "class E(A,C): pass\n",
        "class F(D,E): pass\n",
        "\n",
        "print(\"MRO of A\\n\", A.mro())\n",
        "print(\"MRO of B\\n\", B.mro())\n",
        "print(\"MRO of C\\n\", C.mro())\n",
        "print(\"MRO of D\\n\", D.mro())\n",
        "print(\"MRO of E\\n\", E.mro())\n",
        "print(\"MRO of F\\n\", F.mro()) # FDEABCO"
      ],
      "metadata": {
        "colab": {
          "base_uri": "https://localhost:8080/"
        },
        "id": "um_GEAzmsCzL",
        "outputId": "d5aa4b52-e11d-4410-b425-cf95c9b44268"
      },
      "execution_count": 182,
      "outputs": [
        {
          "output_type": "stream",
          "name": "stdout",
          "text": [
            "MRO of A\n",
            " [<class '__main__.A'>, <class 'object'>]\n",
            "MRO of B\n",
            " [<class '__main__.B'>, <class 'object'>]\n",
            "MRO of C\n",
            " [<class '__main__.C'>, <class 'object'>]\n",
            "MRO of D\n",
            " [<class '__main__.D'>, <class '__main__.A'>, <class '__main__.B'>, <class 'object'>]\n",
            "MRO of E\n",
            " [<class '__main__.E'>, <class '__main__.A'>, <class '__main__.C'>, <class 'object'>]\n",
            "MRO of F\n",
            " [<class '__main__.F'>, <class '__main__.D'>, <class '__main__.E'>, <class '__main__.A'>, <class '__main__.B'>, <class '__main__.C'>, <class 'object'>]\n"
          ]
        }
      ]
    },
    {
      "cell_type": "markdown",
      "source": [
        "mro(A) = AO\n",
        "\n",
        "mro(B) = BO\n",
        "\n",
        "mro(C) = CO\n",
        "\n",
        "mro(D) = DABO\n",
        "\n",
        "mro(E) = EACO\n",
        "\n",
        "mro(F) = ?\n",
        "\n",
        "mro(F) = F + merge(DABO, EACO, DE)\n",
        "\n",
        "mro(F) = F + D + merge(ABO, EACO, E)\n",
        "\n",
        "mro(F) = F + D + E + merge(ABO, ACO)\n",
        "\n",
        "mro(F) = F + D + E + A + merge(BO, CO)\n",
        "\n",
        "mro(F) = F + D + E + A + B + merge(O, CO)\n",
        "\n",
        "mro(F) = F + D + E + A + B + C + merge(O, O)\n",
        "\n",
        "mro(F) = F + D + E + A + B + C + O"
      ],
      "metadata": {
        "id": "SgD_OaiQqTIO"
      }
    },
    {
      "cell_type": "markdown",
      "source": [
        "## IS-A vs HAS-A Relationship\n",
        "* If we want to extend existing functionality with some more extra functionality then we should go for IS-A Relationship.\n",
        "* If we dont want to extend and just we have to use existing functionality then we should go for HAS-A Relationship.\n",
        "> Employee class extends Person class Functionality But Employee class just uses Car functionality but not extending"
      ],
      "metadata": {
        "id": "wttzc-auRVlZ"
      }
    },
    {
      "cell_type": "code",
      "source": [
        "class Car:\n",
        "    def __init__(self,name,model,color):\n",
        "        self.name=name\n",
        "        self.model=model\n",
        "        self.color=color\n",
        "    def getinfo(self):\n",
        "        print(f\"\\tCar Name:{self.name} \\n\\t Model:{self.model} \\n\\t Color:{self.color}\")\n",
        "\n",
        "class Person:\n",
        "    def __init__(self,name,age):\n",
        "        self.name=name\n",
        "        self.age=age\n",
        "    def eatndrink(self):\n",
        "        print('Eat Biryani and Drink Beer')\n",
        "\n",
        "class Employee(Person):\n",
        "    def __init__(self,name,age,eno,esal,car):\n",
        "        super().__init__(name,age)\n",
        "        self.eno=eno\n",
        "        self.esal=esal\n",
        "        self.car=car\n",
        "    def work(self):\n",
        "        print(\"Coding Python is very easy just like drinking Chilled Beer\")\n",
        "    def empinfo(self):\n",
        "        print(\"Employee Name:\",self.name)\n",
        "        print(\"Employee Age:\",self.age)\n",
        "        print(\"Employee Number:\",self.eno)\n",
        "        print(\"Employee Salary:\",self.esal)\n",
        "        print(\"Employee Car Info:\")\n",
        "        self.car.getinfo()\n",
        "\n",
        "c=Car(\"Innova\",\"2.5V\",\"Grey\")\n",
        "e=Employee('Durga',48,100,10000,c)\n",
        "e.eatndrink()\n",
        "e.work()\n",
        "e.empinfo()"
      ],
      "metadata": {
        "colab": {
          "base_uri": "https://localhost:8080/"
        },
        "id": "q-Sr6IxIRltr",
        "outputId": "96ec8325-55ab-4ae2-da2e-1b07d83918a4"
      },
      "execution_count": 183,
      "outputs": [
        {
          "output_type": "stream",
          "name": "stdout",
          "text": [
            "Eat Biryani and Drink Beer\n",
            "Coding Python is very easy just like drinking Chilled Beer\n",
            "Employee Name: Durga\n",
            "Employee Age: 48\n",
            "Employee Number: 100\n",
            "Employee Salary: 10000\n",
            "Employee Car Info:\n",
            "\tCar Name:Innova \n",
            "\t Model:2.5V \n",
            "\t Color:Grey\n"
          ]
        }
      ]
    },
    {
      "cell_type": "markdown",
      "source": [
        "## super() Method:\n",
        "* super( ) is a built-in method which is useful to call the super class constructors, variables and methods from the child class.\n",
        "* Parent class members are by default available to the child class. In the child class we can access parent class members directly"
      ],
      "metadata": {
        "id": "BADq7wgTtlkF"
      }
    },
    {
      "cell_type": "code",
      "source": [
        "class parent:\n",
        "    def m1(self):\n",
        "        print(\"Parent method\")\n",
        "class child(parent):\n",
        "    def m2(self):\n",
        "        print(\"Child method\")\n",
        "\n",
        "c = child()\n",
        "c.m2()"
      ],
      "metadata": {
        "colab": {
          "base_uri": "https://localhost:8080/"
        },
        "id": "zOfW292TtsA4",
        "outputId": "b99736b0-5a38-49b8-b64e-6a62cb5b31b1"
      },
      "execution_count": 184,
      "outputs": [
        {
          "output_type": "stream",
          "name": "stdout",
          "text": [
            "Child method\n"
          ]
        }
      ]
    },
    {
      "cell_type": "markdown",
      "source": [
        "**Parent class methods are available to the child class, we can call parent class methods directly in child class.**"
      ],
      "metadata": {
        "id": "aLSA9QotGGqd"
      }
    },
    {
      "cell_type": "code",
      "source": [
        "class parent:\n",
        "    def m1(self):\n",
        "        print(\"Parent method\")\n",
        "class child(parent):\n",
        "    def m2(self):\n",
        "        self.m1()\n",
        "        print(\"Child method\")\n",
        "\n",
        "c = child()\n",
        "c.m2()"
      ],
      "metadata": {
        "colab": {
          "base_uri": "https://localhost:8080/"
        },
        "id": "ehv2k8CLF_bG",
        "outputId": "07bdc12d-e0f6-49f6-f6e7-9815b89b9c14"
      },
      "execution_count": 185,
      "outputs": [
        {
          "output_type": "stream",
          "name": "stdout",
          "text": [
            "Parent method\n",
            "Child method\n"
          ]
        }
      ]
    },
    {
      "cell_type": "markdown",
      "source": [
        "**Parent and child class methods are having same name - m1().**"
      ],
      "metadata": {
        "id": "o1zq1DeQGtgn"
      }
    },
    {
      "cell_type": "code",
      "source": [
        "class parent:\n",
        "    def m1(self):\n",
        "        print(\"Parent method\")\n",
        "class child(parent):\n",
        "    def m1(self):\n",
        "        self.m1()\n",
        "        print(\"Child method\")\n",
        "\n",
        "c = child()\n",
        "# c.m1() -> RecursionError: maximum recursion depth exceeded"
      ],
      "metadata": {
        "id": "WhoVfFBrHCIK"
      },
      "execution_count": 186,
      "outputs": []
    },
    {
      "cell_type": "markdown",
      "source": [
        "**How to differentiate parent and child class methods when both are having same names?**\n",
        "* From child class we want to call parent class variables/constructor/methods explicitly we can use super().\n",
        "* If parent class and child class contain a member with the same name, then to call explicitly parent class members from the child class we should use super().\n"
      ],
      "metadata": {
        "id": "h7Uvf6W_HNSf"
      }
    },
    {
      "cell_type": "code",
      "source": [
        "class parent:\n",
        "    def m1(self):\n",
        "        print(\"Parent method\")\n",
        "class child(parent):\n",
        "    def m1(self):\n",
        "        super().m1()\n",
        "        print(\"Child method\")\n",
        "\n",
        "c = child()\n",
        "c.m1()"
      ],
      "metadata": {
        "colab": {
          "base_uri": "https://localhost:8080/"
        },
        "id": "G5TLwZIqHc2g",
        "outputId": "3a8b5c4c-3c3f-4eaa-86d9-a5497b2f585c"
      },
      "execution_count": 187,
      "outputs": [
        {
          "output_type": "stream",
          "name": "stdout",
          "text": [
            "Parent method\n",
            "Child method\n"
          ]
        }
      ]
    },
    {
      "cell_type": "code",
      "source": [
        "class parent:\n",
        "    a = 10\n",
        "    def __init__(Self):\n",
        "        print(\"Parent class Constructor\")\n",
        "    def m1(self):\n",
        "        print(\"Parent class Instance method\")\n",
        "    @classmethod\n",
        "    def m2(cls):\n",
        "        print(\"Parent class Class Method\")\n",
        "    @staticmethod\n",
        "    def m3():\n",
        "        print(\"Parent class Static Method\")\n",
        "\n",
        "class child(parent):\n",
        "    def __init__(self):\n",
        "        print(\"Child class Constructor\")\n",
        "    def method(self):\n",
        "        print(super().a)\n",
        "        super().__init__()\n",
        "        super().m1()\n",
        "        super().m2()\n",
        "        super().m3()\n",
        "\n",
        "c = child()\n",
        "c.method()"
      ],
      "metadata": {
        "colab": {
          "base_uri": "https://localhost:8080/"
        },
        "id": "thhZR1-EMpLz",
        "outputId": "bda778a0-7acc-45de-c1fc-488a0373fb52"
      },
      "execution_count": 188,
      "outputs": [
        {
          "output_type": "stream",
          "name": "stdout",
          "text": [
            "Child class Constructor\n",
            "10\n",
            "Parent class Constructor\n",
            "Parent class Instance method\n",
            "Parent class Class Method\n",
            "Parent class Static Method\n"
          ]
        }
      ]
    },
    {
      "cell_type": "code",
      "source": [
        "# Because there is no naming conflict instead of super() we can use self.class parent:\n",
        "class parent:\n",
        "    a = 10\n",
        "    def __init__(Self):\n",
        "        print(\"Parent class Constructor\")\n",
        "    def m1(self):\n",
        "        print(\"Parent class Instance method\")\n",
        "    @classmethod\n",
        "    def m2(cls):\n",
        "        print(\"Parent class Class Method\")\n",
        "    @staticmethod\n",
        "    def m3():\n",
        "        print(\"Parent class Static Method\")\n",
        "\n",
        "class child(parent):\n",
        "    def __init__(self):\n",
        "        print(\"Child class Constructor\")\n",
        "    def method(self):\n",
        "        print(self.a)\n",
        "        super().__init__() # self.__init__() doesn't work because of child class constructor\n",
        "        self.m1()\n",
        "        self.m2()\n",
        "        self.m3()\n",
        "\n",
        "c = child()\n",
        "c.method()"
      ],
      "metadata": {
        "colab": {
          "base_uri": "https://localhost:8080/"
        },
        "id": "n6eEGlscOP8G",
        "outputId": "8c5d3a15-e35a-4fee-e355-717d3a24737a"
      },
      "execution_count": 189,
      "outputs": [
        {
          "output_type": "stream",
          "name": "stdout",
          "text": [
            "Child class Constructor\n",
            "10\n",
            "Parent class Constructor\n",
            "Parent class Instance method\n",
            "Parent class Class Method\n",
            "Parent class Static Method\n"
          ]
        }
      ]
    },
    {
      "cell_type": "code",
      "source": [
        "class Person:\n",
        "    def __init__(self,name,age):\n",
        "        self.name=name\n",
        "        self.age=age\n",
        "    def display(self):\n",
        "        print('Name:',self.name)\n",
        "        print('Age:',self.age)\n",
        "\n",
        "class Student(Person):\n",
        "    def __init__(self,name,age,rollno,marks):\n",
        "        self.name=name\n",
        "        self.age=age\n",
        "        self.rollno=rollno\n",
        "        self.marks=marks\n",
        "    def display(self):\n",
        "        print('Name:',self.name)\n",
        "        print('Age:',self.age)\n",
        "        print('Roll No:',self.rollno)\n",
        "        print('Marks:',self.marks)\n",
        "\n",
        "s1=Student('Durga',22,101,90)\n",
        "s1.display()"
      ],
      "metadata": {
        "colab": {
          "base_uri": "https://localhost:8080/"
        },
        "id": "8Yyhyvo9QjL1",
        "outputId": "3e8245d5-af15-4e7a-a756-8e857f3af88d"
      },
      "execution_count": 190,
      "outputs": [
        {
          "output_type": "stream",
          "name": "stdout",
          "text": [
            "Name: Durga\n",
            "Age: 22\n",
            "Roll No: 101\n",
            "Marks: 90\n"
          ]
        }
      ]
    },
    {
      "cell_type": "markdown",
      "source": [
        "**We are using super() method to call parent class constructor and display() method**"
      ],
      "metadata": {
        "id": "jeXmkZy1RDF9"
      }
    },
    {
      "cell_type": "code",
      "source": [
        "class Person:\n",
        "    def __init__(self,name,age):\n",
        "        self.name=name\n",
        "        self.age=age\n",
        "    def display(self):\n",
        "        print('Name:',self.name)\n",
        "        print('Age:',self.age)\n",
        "\n",
        "class Student(Person):\n",
        "    def __init__(self,name,age,rollno,marks):\n",
        "        super().__init__(name,age)\n",
        "        self.rollno=rollno\n",
        "        self.marks=marks\n",
        "    def display(self):\n",
        "        super().display()\n",
        "        print('Roll No:',self.rollno)\n",
        "        print('Marks:',self.marks)\n",
        "\n",
        "s1=Student('Durga',22,101,90)\n",
        "s1.display()"
      ],
      "metadata": {
        "colab": {
          "base_uri": "https://localhost:8080/"
        },
        "id": "UwmfbQTWQIQn",
        "outputId": "4cfb9aa2-2c26-4351-874a-05f10358f295"
      },
      "execution_count": 191,
      "outputs": [
        {
          "output_type": "stream",
          "name": "stdout",
          "text": [
            "Name: Durga\n",
            "Age: 22\n",
            "Roll No: 101\n",
            "Marks: 90\n"
          ]
        }
      ]
    },
    {
      "cell_type": "markdown",
      "source": [
        "#### How to Call Method of a Particular Super Class\n"
      ],
      "metadata": {
        "id": "UzlLK4pTatq0"
      }
    },
    {
      "cell_type": "code",
      "source": [
        "class A:\n",
        "    def m1(self):\n",
        "        print('A class Method')\n",
        "\n",
        "class B(A):\n",
        "    def m1(self):\n",
        "        print('B class Method')\n",
        "\n",
        "class C(B):\n",
        "    def m1(self):\n",
        "        print('C class Method')\n",
        "\n",
        "class D(C):\n",
        "    def m1(self):\n",
        "        print('D class Method')\n",
        "\n",
        "class E(D):\n",
        "    def m1(self):\n",
        "        print('E class Method')\n",
        "\n",
        "e=E()\n",
        "e.m1()"
      ],
      "metadata": {
        "colab": {
          "base_uri": "https://localhost:8080/"
        },
        "id": "GUAleg0xawAK",
        "outputId": "b3fe85d8-4be1-48c3-e432-2fc5e91eb2de"
      },
      "execution_count": 192,
      "outputs": [
        {
          "output_type": "stream",
          "name": "stdout",
          "text": [
            "E class Method\n"
          ]
        }
      ]
    },
    {
      "cell_type": "code",
      "source": [
        "# super() method considers the immediate parent class method\n",
        "class A:\n",
        "    def m1(self):\n",
        "        print('A class Method')\n",
        "\n",
        "class B(A):\n",
        "    def m1(self):\n",
        "        print('B class Method')\n",
        "\n",
        "class C(B):\n",
        "    def m1(self):\n",
        "        print('C class Method')\n",
        "\n",
        "class D(C):\n",
        "    def m1(self):\n",
        "        print('D class Method')\n",
        "\n",
        "class E(D):\n",
        "    def m1(self):\n",
        "        super().m1()\n",
        "\n",
        "e=E()\n",
        "e.m1()"
      ],
      "metadata": {
        "colab": {
          "base_uri": "https://localhost:8080/"
        },
        "id": "7moE4MB_eSLv",
        "outputId": "49b3bc9d-f433-48b4-a73c-f0a36ed10970"
      },
      "execution_count": 193,
      "outputs": [
        {
          "output_type": "stream",
          "name": "stdout",
          "text": [
            "D class Method\n"
          ]
        }
      ]
    },
    {
      "cell_type": "markdown",
      "source": [
        "##### **How to call a method of particular parent class using super()?**\n",
        "* We can use the following approaches\n",
        "> * **super(D, self).m1()** -> It will call m1() method of super class of D.\n",
        "> * **A.m1(self)** -> It will call A class m1() method"
      ],
      "metadata": {
        "id": "0BWA6MPwexw0"
      }
    },
    {
      "cell_type": "code",
      "source": [
        "# To call C class m1 method\n",
        "class A:\n",
        "    def m1(self):\n",
        "        print('A class Method')\n",
        "\n",
        "class B(A):\n",
        "    def m1(self):\n",
        "        print('B class Method')\n",
        "\n",
        "class C(B):\n",
        "    def m1(self):\n",
        "        print('C class Method')\n",
        "\n",
        "class D(C):\n",
        "    def m1(self):\n",
        "        print('D class Method')\n",
        "\n",
        "class E(D):\n",
        "    def m1(self):\n",
        "        super(D, self).m1() # Because super() class of C is D\n",
        "\n",
        "e=E()\n",
        "e.m1()"
      ],
      "metadata": {
        "colab": {
          "base_uri": "https://localhost:8080/"
        },
        "id": "xY92e18JfiJ_",
        "outputId": "56826b95-34d7-4d4b-dfe0-dc2b75ca9747"
      },
      "execution_count": 194,
      "outputs": [
        {
          "output_type": "stream",
          "name": "stdout",
          "text": [
            "C class Method\n"
          ]
        }
      ]
    },
    {
      "cell_type": "code",
      "source": [
        "# To call A class m1 method\n",
        "class A:\n",
        "    def m1(self):\n",
        "        print('A class Method')\n",
        "\n",
        "class B(A):\n",
        "    def m1(self):\n",
        "        print('B class Method')\n",
        "\n",
        "class C(B):\n",
        "    def m1(self):\n",
        "        print('C class Method')\n",
        "\n",
        "class D(C):\n",
        "    def m1(self):\n",
        "        print('D class Method')\n",
        "\n",
        "class E(D):\n",
        "    def m1(self):\n",
        "        A.m1(self)\n",
        "\n",
        "e=E()\n",
        "e.m1()"
      ],
      "metadata": {
        "colab": {
          "base_uri": "https://localhost:8080/"
        },
        "id": "RiSiar-1fK9a",
        "outputId": "d839ca2f-9b3d-4356-a6c6-ef29627337e5"
      },
      "execution_count": 195,
      "outputs": [
        {
          "output_type": "stream",
          "name": "stdout",
          "text": [
            "A class Method\n"
          ]
        }
      ]
    },
    {
      "cell_type": "markdown",
      "source": [
        "### super() vs Parent class Instance variables\n",
        "\n",
        "* **From child class we are not allowed to access parent class instance variables by using super(), Compulsory we should use self only.**\n",
        "* But we can access parent class static variables by using super()."
      ],
      "metadata": {
        "id": "WK5Z-9K7l4ab"
      }
    },
    {
      "cell_type": "code",
      "source": [
        "class P:\n",
        "    a = 888\n",
        "    def __init__(self):\n",
        "        self.b = 999\n",
        "\n",
        "class C(P):\n",
        "    def m1(self):\n",
        "        print(self.a)\n",
        "        print(self.b)\n",
        "\n",
        "c = C()\n",
        "c.m1()"
      ],
      "metadata": {
        "colab": {
          "base_uri": "https://localhost:8080/"
        },
        "id": "mEHTnGpLl82D",
        "outputId": "f67347f9-6549-433d-c72d-6b3f2098670b"
      },
      "execution_count": 196,
      "outputs": [
        {
          "output_type": "stream",
          "name": "stdout",
          "text": [
            "888\n",
            "999\n"
          ]
        }
      ]
    },
    {
      "cell_type": "code",
      "source": [
        "# Use super instead of self\n",
        "class P:\n",
        "    a = 888\n",
        "    def __init__(self):\n",
        "        self.b = 999\n",
        "\n",
        "class C(P):\n",
        "    def m1(self):\n",
        "        print(super().a)\n",
        "        # print(super().b) - AttributeError: 'super' object has no attribute 'b'\n",
        "        print(self.b)\n",
        "\n",
        "c = C()\n",
        "c.m1()"
      ],
      "metadata": {
        "colab": {
          "base_uri": "https://localhost:8080/"
        },
        "id": "gXcrnncHnWCA",
        "outputId": "4e64930a-1b9e-4b61-d908-201599cfc567"
      },
      "execution_count": 197,
      "outputs": [
        {
          "output_type": "stream",
          "name": "stdout",
          "text": [
            "888\n",
            "999\n"
          ]
        }
      ]
    },
    {
      "cell_type": "markdown",
      "source": [
        "**If the parent and child classes having instance variables with same name, we cannot access the parent class instance variable.**"
      ],
      "metadata": {
        "id": "wkGwggjmqPwe"
      }
    },
    {
      "cell_type": "markdown",
      "source": [
        "### Important conclusions about super()\n",
        "**Case-1: From child class constructor and instance method, we can access parent class instance method, static method and class method by using super().**\n",
        "* From child class class method we cannot access parent class constructor and instance methods directly by using super(). But we can access parent class class and static methods.\n",
        "> Reason: Class methods are no way related to object. Without object also we can call class methods. But constructor and instance methods are always associated with object.\n",
        "* From child class static method we cannot use super() to call parent class members. But indirectly we can call parent class static and class methods"
      ],
      "metadata": {
        "id": "Yvz2MvNHgMq0"
      }
    },
    {
      "cell_type": "code",
      "source": [
        "class P:\n",
        "    def __init__(self):\n",
        "        print('Parent Constructor')\n",
        "    def m1(self):\n",
        "        print('Parent instance method')\n",
        "    @classmethod\n",
        "    def m2(cls):\n",
        "        print('Parent class method')\n",
        "    @staticmethod\n",
        "    def m3():\n",
        "        print('Parent static method')\n",
        "\n",
        "class C(P):\n",
        "    def __init__(self):\n",
        "        print(\"From Child class constructor\")\n",
        "        super().__init__()\n",
        "        super().m1()\n",
        "        super().m2()\n",
        "        super().m3()\n",
        "\n",
        "    def m1(self):\n",
        "        print(\"\\nFrom Child class instance method\")\n",
        "        super().__init__()\n",
        "        super().m1()\n",
        "        super().m2()\n",
        "        super().m3()\n",
        "\n",
        "    @classmethod\n",
        "    def m2(cls):\n",
        "        print(\"\\nFrom Child class class method\")\n",
        "        # super().__init__() - TypeError: P.__init__() missing 1 required positional argument: 'self'\n",
        "        # super().m1() - TypeError: P.m1() missing 1 required positional argument: 'self'\n",
        "        super().m2()\n",
        "        super().m3()\n",
        "\n",
        "    @staticmethod\n",
        "    def m3():\n",
        "        print(\"\\nFrom Child class static method\")\n",
        "        # super().__init__()\n",
        "        # super().m1()\n",
        "        # super().m2()\n",
        "        # super().m3()\n",
        "\n",
        "c=C()\n",
        "c.m1()\n",
        "c.m2()\n",
        "c.m3()"
      ],
      "metadata": {
        "colab": {
          "base_uri": "https://localhost:8080/"
        },
        "id": "DYJ0TdTEgPRQ",
        "outputId": "a807a56d-9bff-4c8f-bb64-0f53ef09ab7a"
      },
      "execution_count": 198,
      "outputs": [
        {
          "output_type": "stream",
          "name": "stdout",
          "text": [
            "From Child class constructor\n",
            "Parent Constructor\n",
            "Parent instance method\n",
            "Parent class method\n",
            "Parent static method\n",
            "\n",
            "From Child class instance method\n",
            "Parent Constructor\n",
            "Parent instance method\n",
            "Parent class method\n",
            "Parent static method\n",
            "\n",
            "From Child class class method\n",
            "Parent class method\n",
            "Parent static method\n",
            "\n",
            "From Child class static method\n"
          ]
        }
      ]
    },
    {
      "cell_type": "markdown",
      "source": [
        "#### From Class Method of Child Class, how to call Parent Class Instance Methods and Constructors:"
      ],
      "metadata": {
        "id": "gRjhLZFjgPy1"
      }
    },
    {
      "cell_type": "code",
      "source": [
        "class A:\n",
        "    def __init__(self):\n",
        "        print('Parent constructor')\n",
        "\n",
        "    def m1(self):\n",
        "        print('Parent instance method')\n",
        "\n",
        "class B(A):\n",
        "    @classmethod\n",
        "    def m2(cls):\n",
        "        super(B,cls).__init__(cls)\n",
        "        super(B,cls).m1(cls)\n",
        "\n",
        "B.m2()"
      ],
      "metadata": {
        "colab": {
          "base_uri": "https://localhost:8080/"
        },
        "id": "1PpubOWWgTP1",
        "outputId": "1c450a26-a714-4b11-e074-08728c756c41"
      },
      "execution_count": 199,
      "outputs": [
        {
          "output_type": "stream",
          "name": "stdout",
          "text": [
            "Parent constructor\n",
            "Parent instance method\n"
          ]
        }
      ]
    },
    {
      "cell_type": "markdown",
      "source": [
        "#### How to Call Parent Class Static Method from Child Class Static Method by using super():"
      ],
      "metadata": {
        "id": "P0Fv1fFw0N8z"
      }
    },
    {
      "cell_type": "code",
      "source": [
        "class A:\n",
        "    @classmethod\n",
        "    def m1(cls):\n",
        "        print('Parent class class method')\n",
        "    @staticmethod\n",
        "    def m2():\n",
        "        print('Parent class static method')\n",
        "\n",
        "class B(A):\n",
        "    @staticmethod\n",
        "    def m3():\n",
        "        super(B,B).m1()\n",
        "        super(B,B).m2()\n",
        "\n",
        "B.m3()"
      ],
      "metadata": {
        "colab": {
          "base_uri": "https://localhost:8080/"
        },
        "id": "rcgn0IGKgTST",
        "outputId": "a6a66e63-2b31-4d96-d756-dad211ca30a7"
      },
      "execution_count": 200,
      "outputs": [
        {
          "output_type": "stream",
          "name": "stdout",
          "text": [
            "Parent class class method\n",
            "Parent class static method\n"
          ]
        }
      ]
    },
    {
      "cell_type": "markdown",
      "source": [
        "## Polymorphism\n",
        "* Poly means many and Morphs means forms. Polymorphism means 'Many Forms'.\n",
        "* Example-1: Yourself is best example of polymorphism.In front of Your parents You will have one type of behaviour and with friends another type of behaviour.Same person but different behaviours at different places,which is nothing but polymorphism.\n",
        "* Example-2: + operator acts as concatenation and arithmetic addition\n",
        "* Example-3: * operator acts as multiplication and repetition operator\n",
        "* Example-4: The Same method with different implementations in Parent class and child classes.(overriding)\n",
        "\n",
        "**Related to Polymorphism the following 4 topics are important**\n",
        "1. Overloading\n",
        "> 1. Operator Overloading\n",
        "> 2. Method Overloading\n",
        "> 3. Constructor Overloading\n",
        "2. Overriding\n",
        "> 1. Method Overriding\n",
        "> 2. Constructor Overriding\n",
        "3. Pythonic Behavior\n",
        "> 1. Duck Typing Philosophy of Python\n",
        "> 2. Easier to ask Forgiveness than Permission(EAFP)\n",
        "> 3. Monkey Patching"
      ],
      "metadata": {
        "id": "0cBoU0BRrBqU"
      }
    },
    {
      "cell_type": "markdown",
      "source": [
        "### Overloading\n",
        "* **We can use same operator or methods for different purposes.**\n",
        "* Example-1: + operator can be used for Arithmetic addition and String concatenation\n",
        "```\n",
        "print(10+20)#30\n",
        "print('durga'+'soft')#durgasoft\n",
        "```\n",
        "* Example-2: * operator can be used for multiplication and string repetition purposes.\n",
        "```\n",
        "print(10*20)#200\n",
        "print('durga'*3)#durgadurgadurga\n",
        "```\n",
        "* Example-3: We can use deposit() method to deposit cash or cheque or dd\n",
        "```\n",
        "deposit(cash)\n",
        "deposit(cheque)\n",
        "deposit(dd)\n",
        "```"
      ],
      "metadata": {
        "id": "77r1Fqahtayh"
      }
    },
    {
      "cell_type": "markdown",
      "source": [
        "#### Operator Overloading\n",
        "* We can use the same operator for multiple purposes, which is nothing but operator\n",
        "overloading.\n",
        "* Python supports operator overloading."
      ],
      "metadata": {
        "id": "NyOjf31SufCv"
      }
    },
    {
      "cell_type": "code",
      "source": [
        "class book:\n",
        "    def __init__(self, pages):\n",
        "        self.pages = pages\n",
        "\n",
        "b1 = book(100)\n",
        "b2 = book(200)\n",
        "# b1 + b2 - TypeError: unsupported operand type(s) for +: 'book' and 'book'"
      ],
      "metadata": {
        "id": "IzC2wiyTr6Ol"
      },
      "execution_count": 201,
      "outputs": []
    },
    {
      "cell_type": "markdown",
      "source": [
        "* We can overload + operator to work with Book objects also. i.e Python supports\n",
        "Operator Overloading.\n",
        "* For every operator Magic Methods are available. To overload any operator we have to\n",
        "override that Method in our class.\n",
        "* Internally + operator is implemented by using __add__() method.This method is called\n",
        "magic method for + operator. We have to override this method in our class."
      ],
      "metadata": {
        "id": "upnOe-VMviga"
      }
    },
    {
      "cell_type": "code",
      "source": [
        "class book:\n",
        "    def __init__(self, pages):\n",
        "        self.pages = pages\n",
        "    def __add__(self, other):\n",
        "        total_pages = self.pages + other.pages\n",
        "        return total_pages\n",
        "\n",
        "b1 = book(100)\n",
        "b2 = book(200)\n",
        "print(b1 + b2)\n",
        "b3 = book(500)\n",
        "print(b1 + b3)\n",
        "b4 = book(-300)\n",
        "print(b3 + b4)\n",
        "# print(b1 + b2 + b3) - TypeError: unsupported operand type(s) for +: 'int' and 'book'"
      ],
      "metadata": {
        "colab": {
          "base_uri": "https://localhost:8080/"
        },
        "id": "VVgIZRZJvmwe",
        "outputId": "40ad24fa-ad1c-4f20-f1ce-6159b54eb364"
      },
      "execution_count": 202,
      "outputs": [
        {
          "output_type": "stream",
          "name": "stdout",
          "text": [
            "300\n",
            "600\n",
            "200\n"
          ]
        }
      ]
    },
    {
      "cell_type": "markdown",
      "source": [
        "### Magic methods\n",
        "The following is the list of operators and corresponding magic methods.\n",
        "1. /+ -> object.'\\__add__(self,other)\n",
        "2. /- -> object.__sub__(self,other)\n",
        "3. /* -> object.__mul__(self,other)\n",
        "4. / -> object.__div__(self,other)\n",
        "5. // -> object.__floordiv__(self,other)\n",
        "6. % -> object.__mod__(self,other)\n",
        "7. ** -> object.__pow__(self,other)\n",
        "8. += -> object.__iadd__(self,other)\n",
        "9. -= -> object.__isub__(self,other)\n",
        "10. *= -> object.__imul__(self,other)\n",
        "11. /= -> object.__idiv__(self,other)\n",
        "12. //= -> object.__ifloordiv__(self,other)\n",
        "13. %= -> object.__imod__(self,other)\n",
        "14. **= -> object.__ipow__(self,other)\n",
        "15. < -> object.__lt__(self,other)\n",
        "16. <= -> object.__le__(self,other)\n",
        "17. /> -> object.__gt__(self,other)\n",
        "18. />= -> object.__ge__(self,other)\n",
        "19. == -> object.__eq__(self,other)\n",
        "20. != -> object.__ne__(self,other)"
      ],
      "metadata": {
        "id": "BoFLCM0LLFY7"
      }
    },
    {
      "cell_type": "markdown",
      "source": [
        "#### Overloading > and <= Operators for Student Class Objects"
      ],
      "metadata": {
        "id": "UbBkdmpoMuVX"
      }
    },
    {
      "cell_type": "code",
      "source": [
        "class student:\n",
        "    def __init__(self, name, marks):\n",
        "        self.name = name\n",
        "        self.marks = marks\n",
        "\n",
        "s1 = student('Durga', 100)\n",
        "s2 = student('Ravi', 200)\n",
        "# print(s1>s2) - TypeError: '>' not supported between instances of 'student' and 'student'"
      ],
      "metadata": {
        "id": "GBdLY0FlMR_i"
      },
      "execution_count": 232,
      "outputs": []
    },
    {
      "cell_type": "code",
      "source": [
        "class student:\n",
        "    def __init__(self, name, marks):\n",
        "        self.name = name\n",
        "        self.marks = marks\n",
        "    def __gt__(self, other):\n",
        "        return self.marks > other.marks\n",
        "\n",
        "s1 = student('Durga', 100)\n",
        "s2 = student('Ravi', 200)\n",
        "print(s1>s2)\n",
        "print(s1<s2) # Whenever we implement 'gt' automatically its complimentary 'lt' will be taken care\n",
        "# print(s1>=s2) - TypeError: '>=' not supported between instances of 'student' and 'student'"
      ],
      "metadata": {
        "colab": {
          "base_uri": "https://localhost:8080/"
        },
        "id": "Fa-ZurnQQlkc",
        "outputId": "5387264a-0184-4a05-db9c-b75f9b6a27f5"
      },
      "execution_count": 233,
      "outputs": [
        {
          "output_type": "stream",
          "name": "stdout",
          "text": [
            "False\n",
            "True\n"
          ]
        }
      ]
    },
    {
      "cell_type": "code",
      "source": [
        "class student:\n",
        "    def __init__(self, name, marks):\n",
        "        self.name = name\n",
        "        self.marks = marks\n",
        "    def __gt__(self, other):\n",
        "        return self.marks > other.marks\n",
        "    def __le__(self, other):\n",
        "        return self.marks <= other.marks\n",
        "\n",
        "s1 = student('Durga', 100)\n",
        "s2 = student('Ravi', 200)\n",
        "\n",
        "print(s1>s2)\n",
        "print(s1<s2)\n",
        "\n",
        "print(s1<=s2)\n",
        "print(s1>=s2)"
      ],
      "metadata": {
        "colab": {
          "base_uri": "https://localhost:8080/"
        },
        "id": "L9u1UMStRVDP",
        "outputId": "86b57d5c-eb12-4e76-85b9-33dfbb4f3283"
      },
      "execution_count": 234,
      "outputs": [
        {
          "output_type": "stream",
          "name": "stdout",
          "text": [
            "False\n",
            "True\n",
            "True\n",
            "False\n"
          ]
        }
      ]
    },
    {
      "cell_type": "markdown",
      "source": [
        "#### Overload Multiplication Operator to Work on Employee Objects"
      ],
      "metadata": {
        "id": "XN1RsOc9RuTs"
      }
    },
    {
      "cell_type": "code",
      "source": [
        "class employee:\n",
        "    def __init__(self, name, salaryPerDay):\n",
        "        self.name = name\n",
        "        self.salaryPerDay = salaryPerDay\n",
        "\n",
        "class timesheet:\n",
        "    def __init__(self, name, workingDays):\n",
        "        self.name = name\n",
        "        self.workingDays = workingDays\n",
        "\n",
        "e = employee('Durga', 5000)\n",
        "t = timesheet('Durga', 25)\n",
        "# print(\"This month salary\", e*t) - TypeError: unsupported operand type(s) for *: 'employee' and 'timesheet'"
      ],
      "metadata": {
        "id": "dVW9HZscRvv3"
      },
      "execution_count": 235,
      "outputs": []
    },
    {
      "cell_type": "code",
      "source": [
        "class employee:\n",
        "    def __init__(self, name, salaryPerDay):\n",
        "        self.name = name\n",
        "        self.salaryPerDay = salaryPerDay\n",
        "    # PVM calls magic method from first object involved in it\n",
        "    def __mul__(self, other):\n",
        "        return self.salaryPerDay*other.workingDays\n",
        "\n",
        "class timesheet:\n",
        "    def __init__(self, name, workingDays):\n",
        "        self.name = name\n",
        "        self.workingDays = workingDays\n",
        "\n",
        "e = employee('Durga', 5000)\n",
        "t = timesheet('Durga', 25)\n",
        "print(\"This month salary\", e*t)\n",
        "# print(\"This month salary\", t*e) - TypeError: unsupported operand type(s) for *: 'timesheet' and 'employee'"
      ],
      "metadata": {
        "colab": {
          "base_uri": "https://localhost:8080/"
        },
        "id": "9DxHQT21YDQo",
        "outputId": "e41ac67a-b0d9-47cb-8f8a-cdc1679dae94"
      },
      "execution_count": 236,
      "outputs": [
        {
          "output_type": "stream",
          "name": "stdout",
          "text": [
            "This month salary 125000\n"
          ]
        }
      ]
    },
    {
      "cell_type": "code",
      "source": [
        "class employee:\n",
        "    def __init__(self, name, salaryPerDay):\n",
        "        self.name = name\n",
        "        self.salaryPerDay = salaryPerDay\n",
        "    # PVM calls magic method from first object involved in it\n",
        "    def __mul__(self, other):\n",
        "        return self.salaryPerDay*other.workingDays\n",
        "\n",
        "class timesheet:\n",
        "    def __init__(self, name, workingDays):\n",
        "        self.name = name\n",
        "        self.workingDays = workingDays\n",
        "    # PVM calls magic method from first object involved in it\n",
        "    def __mul__(self, other):\n",
        "        return self.workingDays*other.salaryPerDay\n",
        "\n",
        "e = employee('Durga', 5000)\n",
        "t = timesheet('Durga', 25)\n",
        "print(\"This month salary\", e*t)\n",
        "print(\"This month salary\", t*e)"
      ],
      "metadata": {
        "colab": {
          "base_uri": "https://localhost:8080/"
        },
        "id": "iI-z8vBqYm2w",
        "outputId": "386acb4a-5f4d-4db6-d825-215be26414c1"
      },
      "execution_count": 237,
      "outputs": [
        {
          "output_type": "stream",
          "name": "stdout",
          "text": [
            "This month salary 125000\n",
            "This month salary 125000\n"
          ]
        }
      ]
    },
    {
      "cell_type": "markdown",
      "source": [
        "#### Importance of __str__ method\n",
        "* Whenever we are trying to print any object reference, internally __str__() method will be called.\n",
        "* The default implementation of this method returns the string in the following format <__main__.employee object at 0x780e73c75f60>\n",
        "* To provide meaningful string representation for our object, we have to override __str__() method in our class."
      ],
      "metadata": {
        "id": "inEfeAl1Y_9x"
      }
    },
    {
      "cell_type": "code",
      "source": [
        "class student:\n",
        "    def __init__(self, name, rollno, marks):\n",
        "        self.name = name\n",
        "        self.rollno = rollno\n",
        "        self.marks = marks\n",
        "\n",
        "s1 = student('Durga', 101, 95)\n",
        "s2 = student('Ravi', 102, 98)\n",
        "print(s1)\n",
        "print(s2)"
      ],
      "metadata": {
        "colab": {
          "base_uri": "https://localhost:8080/"
        },
        "id": "UN4gbOHreXIt",
        "outputId": "7a2e3388-9676-444a-af97-52f2bc985024"
      },
      "execution_count": 238,
      "outputs": [
        {
          "output_type": "stream",
          "name": "stdout",
          "text": [
            "<__main__.student object at 0x7b0cc004ad10>\n",
            "<__main__.student object at 0x7b0cc004b250>\n"
          ]
        }
      ]
    },
    {
      "cell_type": "code",
      "source": [
        "class student:\n",
        "    def __init__(self, name, rollno, marks):\n",
        "        self.name = name\n",
        "        self.rollno = rollno\n",
        "        self.marks = marks\n",
        "    def __str__(self):\n",
        "        return f'Name: {self.name}, Roll No.: {self.rollno} and Marks: {self.marks}'\n",
        "\n",
        "s1 = student('Durga', 101, 95)\n",
        "s2 = student('Ravi', 102, 98)\n",
        "print(s1)\n",
        "print(s2)"
      ],
      "metadata": {
        "colab": {
          "base_uri": "https://localhost:8080/"
        },
        "id": "rEj1Gviqe-Ra",
        "outputId": "d94208df-d6fa-400f-c951-b1c7d6188950"
      },
      "execution_count": 239,
      "outputs": [
        {
          "output_type": "stream",
          "name": "stdout",
          "text": [
            "Name: Durga, Roll No.: 101 and Marks: 95\n",
            "Name: Ravi, Roll No.: 102 and Marks: 98\n"
          ]
        }
      ]
    },
    {
      "cell_type": "markdown",
      "source": [
        "#### Overloading of + operator for Nesting Requirements"
      ],
      "metadata": {
        "id": "PucEXoTyfaz6"
      }
    },
    {
      "cell_type": "code",
      "source": [
        "class book:\n",
        "    def __init__(self, pages):\n",
        "        self.pages = pages\n",
        "    def __add__(self, other):\n",
        "        return self.pages + other.pages\n",
        "\n",
        "b1 = book(100)\n",
        "b2 = book(200)\n",
        "b3 = book(300)\n",
        "print(b1+b2)\n",
        "# print(b1+b2+b3) - TypeError: unsupported operand type(s) for +: 'int' and 'book'"
      ],
      "metadata": {
        "colab": {
          "base_uri": "https://localhost:8080/"
        },
        "id": "L0_2XjuHftxz",
        "outputId": "9e372424-7360-463c-baf9-73e1792f204d"
      },
      "execution_count": 240,
      "outputs": [
        {
          "output_type": "stream",
          "name": "stdout",
          "text": [
            "300\n"
          ]
        }
      ]
    },
    {
      "cell_type": "code",
      "source": [
        "class book:\n",
        "    def __init__(self, pages):\n",
        "        self.pages = pages\n",
        "    def __add__(self, other, another):\n",
        "        return self.pages + other.pages + another.pages\n",
        "\n",
        "b1 = book(100)\n",
        "b2 = book(200)\n",
        "b3 = book(300)\n",
        "# print(b1+b2+b3) - TypeError: book.__add__() missing 1 required positional argument: 'another'"
      ],
      "metadata": {
        "id": "YLX_dTyHjFWU"
      },
      "execution_count": 241,
      "outputs": []
    },
    {
      "cell_type": "markdown",
      "source": [
        "**add() always pass only two arguments not all the three. At any time only two arguments are operated with add() magic method**\n",
        "**The problem here is adding of int and book object. Instead if we return book object from add method, it will address the problem**"
      ],
      "metadata": {
        "id": "DoQnOq3Jju8S"
      }
    },
    {
      "cell_type": "code",
      "source": [
        "class book:\n",
        "    def __init__(self, pages):\n",
        "        self.pages = pages\n",
        "    def __add__(self, other):\n",
        "        return book(self.pages + other.pages)\n",
        "\n",
        "b1 = book(100)\n",
        "b2 = book(200)\n",
        "b3 = book(300)\n",
        "print(b1+b2+b3) # It returns default __str__() method, for meaningful representation override it."
      ],
      "metadata": {
        "colab": {
          "base_uri": "https://localhost:8080/"
        },
        "id": "jzfyPU7mkGvW",
        "outputId": "c381db7b-f573-46c3-d9c8-aa6ef75f8a42"
      },
      "execution_count": 242,
      "outputs": [
        {
          "output_type": "stream",
          "name": "stdout",
          "text": [
            "<__main__.book object at 0x7b0cc0071510>\n"
          ]
        }
      ]
    },
    {
      "cell_type": "code",
      "source": [
        "class book:\n",
        "    def __init__(self, pages):\n",
        "        self.pages = pages\n",
        "    def __add__(self, other):\n",
        "        return book(self.pages + other.pages)\n",
        "    def __str__(self):\n",
        "        return f'Total number of pages {self.pages}'\n",
        "\n",
        "b1 = book(100)\n",
        "b2 = book(200)\n",
        "b3 = book(300)\n",
        "b3 = book(400)\n",
        "print(b1+b2)\n",
        "print(b1+b2+b3)\n",
        "print(b1+b2+b3+b4)"
      ],
      "metadata": {
        "colab": {
          "base_uri": "https://localhost:8080/"
        },
        "id": "WNZ0kdg5l9QQ",
        "outputId": "1f1336cc-1ea2-4f58-e4ca-20cdd8f0e0f9"
      },
      "execution_count": 243,
      "outputs": [
        {
          "output_type": "stream",
          "name": "stdout",
          "text": [
            "Total number of pages 300\n",
            "Total number of pages 700\n",
            "Total number of pages 400\n"
          ]
        }
      ]
    },
    {
      "cell_type": "code",
      "source": [
        "# Update multiplication operator\n",
        "class book:\n",
        "    def __init__(self, pages):\n",
        "        self.pages = pages\n",
        "    def __add__(self, other):\n",
        "        return book(self.pages + other.pages)\n",
        "    def __mul__(self, other):\n",
        "        return book(self.pages*other.pages)\n",
        "    def __str__(self):\n",
        "        return f'Total number of pages {self.pages}'\n",
        "\n",
        "b1 = book(100)\n",
        "b2 = book(200)\n",
        "b3 = book(300)\n",
        "b3 = book(400)\n",
        "print(b1+b2)\n",
        "print(b1+b2+b3)\n",
        "print(b1+b2+b3+b4)\n",
        "# Follows PEDMAS\n",
        "print(b1*b2)\n",
        "print(b1+b2*b3)\n",
        "print(b1+b2*b3+b4)"
      ],
      "metadata": {
        "colab": {
          "base_uri": "https://localhost:8080/"
        },
        "id": "2IlcX62GmmWh",
        "outputId": "2ed8c685-aff6-49cb-809e-e42b045cb90e"
      },
      "execution_count": 244,
      "outputs": [
        {
          "output_type": "stream",
          "name": "stdout",
          "text": [
            "Total number of pages 300\n",
            "Total number of pages 700\n",
            "Total number of pages 400\n",
            "Total number of pages 20000\n",
            "Total number of pages 80100\n",
            "Total number of pages 79800\n"
          ]
        }
      ]
    },
    {
      "cell_type": "markdown",
      "source": [
        "### Method Overloading\n",
        "* If two methods having same name but different type of arguments then those methods are said to be overloaded methods.\n",
        "* Examples:\n",
        "```\n",
        "m1(int a)\n",
        "m1(double d)\n",
        "```\n",
        "* But in Python Method overloading is not possible.\n",
        "* If we are trying to declare multiple methods with same name and different number of arguments then **Python will always consider only last method**."
      ],
      "metadata": {
        "id": "QNuK-YJ_y2D_"
      }
    },
    {
      "cell_type": "code",
      "source": [
        "class test:\n",
        "    def m1(self):\n",
        "        print('No argument method')\n",
        "    def m1(self, x):\n",
        "        print('One argument method')\n",
        "    def m1(self, x, y):\n",
        "        print('Two argument method')\n",
        "\n",
        "t = test()\n",
        "# t.m1() # TypeError: test.m1() missing 2 required positional arguments: 'x' and 'y'\n",
        "# t.m1(10) # TypeError: test.m1() missing 1 required positional argument: 'y'\n",
        "t.m1(10, 20)"
      ],
      "metadata": {
        "colab": {
          "base_uri": "https://localhost:8080/"
        },
        "id": "aNdHTESIzXqC",
        "outputId": "c39c449e-470e-4efe-fe9f-50371b01a64a"
      },
      "execution_count": 245,
      "outputs": [
        {
          "output_type": "stream",
          "name": "stdout",
          "text": [
            "Two argument method\n"
          ]
        }
      ]
    },
    {
      "cell_type": "markdown",
      "source": [
        "**In the above program python will consider only last method.**"
      ],
      "metadata": {
        "id": "SHyJ-bXHPgW3"
      }
    },
    {
      "cell_type": "markdown",
      "source": [
        "### Why Python don't support method overloading? OR Why method overloading not required in python?\n",
        "* Python is a dynamically typed language, methods with different datatype arguments are not possible.\n",
        "* Type explicit datatype declaration, supports method declaration.\n",
        "* But in python, we cannot declare type explicitly. Based on provided value type will be considered automatically(Dynamically typed). As type concept is not applicable, method overloading concept is not applicable in python.\n",
        "* In python one method can assumes different datatypes for an argument, without method overloading."
      ],
      "metadata": {
        "id": "IBNWaNnyPk-Q"
      }
    },
    {
      "cell_type": "code",
      "source": [
        "# Implement a method which assumes different datatypes, without method overloading\n",
        "class test:\n",
        "    def m1(self, x):\n",
        "        print(f\"{x.__class__.__name__} - argument method\")\n",
        "\n",
        "t = test()\n",
        "t.m1(10)\n",
        "t.m1(10.5)\n",
        "t.m1('Durga')\n",
        "t.m1(True)"
      ],
      "metadata": {
        "colab": {
          "base_uri": "https://localhost:8080/"
        },
        "id": "5y-jpgCiO4rE",
        "outputId": "7710cf9c-e82e-44a7-9ebd-38d716d26495"
      },
      "execution_count": 246,
      "outputs": [
        {
          "output_type": "stream",
          "name": "stdout",
          "text": [
            "int - argument method\n",
            "float - argument method\n",
            "str - argument method\n",
            "bool - argument method\n"
          ]
        }
      ]
    },
    {
      "cell_type": "markdown",
      "source": [
        "#### How to define a method with variable number of arguments?"
      ],
      "metadata": {
        "id": "MlHMMELXhmoX"
      }
    },
    {
      "cell_type": "markdown",
      "source": [
        "#### How we can handle Overloaded Method Requirements in Python?\n",
        "* Most of the times, if method with variable number of arguments required then we can\n",
        "handle with default arguments or with variable number of argument methods."
      ],
      "metadata": {
        "id": "5Xm7B3s7kfmV"
      }
    },
    {
      "cell_type": "code",
      "source": [
        "class test:\n",
        "    def m1(self, a = None, b = None, c = None):\n",
        "        if a is not None and b is not None and c is not None:\n",
        "            print(\"Three argument method\")\n",
        "        elif a is not None and b is not None:\n",
        "            print(\"Two argument method\")\n",
        "        elif a is not None:\n",
        "            print(\"One argument method\")\n",
        "        else:\n",
        "            print(\"No argument method\")\n",
        "\n",
        "t = test()\n",
        "t.m1(10)\n",
        "t.m1(10,20)\n",
        "t.m1(10,20,30)"
      ],
      "metadata": {
        "colab": {
          "base_uri": "https://localhost:8080/"
        },
        "id": "OIRxEW3iia0w",
        "outputId": "18f66ede-098b-49e0-9129-225621039f0c"
      },
      "execution_count": 247,
      "outputs": [
        {
          "output_type": "stream",
          "name": "stdout",
          "text": [
            "One argument method\n",
            "Two argument method\n",
            "Three argument method\n"
          ]
        }
      ]
    },
    {
      "cell_type": "markdown",
      "source": [
        "**Then there is no need for any method overloading**"
      ],
      "metadata": {
        "id": "UxCplsewjnW5"
      }
    },
    {
      "cell_type": "code",
      "source": [
        " class test:\n",
        "    def m1(self, a = None, b = None, c = None):\n",
        "        if a is not None and b is not None and c is not None:\n",
        "            print(\"Three argument method\")\n",
        "        elif a is not None and b is not None:\n",
        "            print(\"Two argument method\")\n",
        "        elif a is not None:\n",
        "            print(\"One argument method\")\n",
        "        else:\n",
        "            print(\"No argument method\")\n",
        "\n",
        "t = test()\n",
        "t.m1(10)\n",
        "t.m1(10,20)\n",
        "t.m1(10,20,30)\n",
        "# t.m1(10,20,30,40) - TypeError: test.m1() takes from 1 to 4 positional arguments but 5 were given"
      ],
      "metadata": {
        "colab": {
          "base_uri": "https://localhost:8080/"
        },
        "id": "TUFsGdD5jdy6",
        "outputId": "2c3de752-6939-438b-b920-795e543fd472"
      },
      "execution_count": 248,
      "outputs": [
        {
          "output_type": "stream",
          "name": "stdout",
          "text": [
            "One argument method\n",
            "Two argument method\n",
            "Three argument method\n"
          ]
        }
      ]
    },
    {
      "cell_type": "code",
      "source": [
        "# Any number of arguments - Variable number of arguments\n",
        "\n",
        "class test:\n",
        "    def m1(self, *args):\n",
        "        print(\"Variable length argument method\")\n",
        "\n",
        "t = test()\n",
        "t.m1(10)\n",
        "t.m1(10,20)\n",
        "t.m1(10,20,30)\n",
        "t.m1(10,20,30,40)\n",
        "t.m1(10,20,30,40,50,60,70,80,90,100)"
      ],
      "metadata": {
        "colab": {
          "base_uri": "https://localhost:8080/"
        },
        "id": "QBjGiNcpj01t",
        "outputId": "c0b96ad8-f1e6-4b4b-892b-81be895fcf23"
      },
      "execution_count": 249,
      "outputs": [
        {
          "output_type": "stream",
          "name": "stdout",
          "text": [
            "Variable length argument method\n",
            "Variable length argument method\n",
            "Variable length argument method\n",
            "Variable length argument method\n",
            "Variable length argument method\n"
          ]
        }
      ]
    },
    {
      "cell_type": "code",
      "source": [
        "class test:\n",
        "    def sum(self, *args): # Internally *args converted into tuple\n",
        "        total = 0\n",
        "        for x in args: # args tuple\n",
        "            total += x\n",
        "        print(f\"The sum is {total}\")\n",
        "\n",
        "t = test()\n",
        "t.sum(10)\n",
        "t.sum(10, 20)\n",
        "t.sum(10, 30, 40, 67, 78, 43)\n",
        "t.sum(1, 5, 8, 9, 3, 4)"
      ],
      "metadata": {
        "colab": {
          "base_uri": "https://localhost:8080/"
        },
        "id": "QXrhZ-yCkuB1",
        "outputId": "e0294d92-1f83-453d-bb16-b8ff605968b6"
      },
      "execution_count": 250,
      "outputs": [
        {
          "output_type": "stream",
          "name": "stdout",
          "text": [
            "The sum is 10\n",
            "The sum is 30\n",
            "The sum is 268\n",
            "The sum is 30\n"
          ]
        }
      ]
    },
    {
      "cell_type": "markdown",
      "source": [
        "**Strictly speaking, in python method overloading concept is not required**"
      ],
      "metadata": {
        "id": "O2uZRFZlllQl"
      }
    },
    {
      "cell_type": "markdown",
      "source": [
        "### Constructor Overloading\n",
        "* Constructor overloading is not possible in Python\n",
        "* If we define multiple constructors then the last constructor will be considered."
      ],
      "metadata": {
        "id": "HHyqZYrHnFSi"
      }
    },
    {
      "cell_type": "code",
      "source": [
        "class Test:\n",
        "    def __init__(self):\n",
        "        print('No-Arg Constructor')\n",
        "    def __init__(self,a):\n",
        "        print('One-Arg constructor')\n",
        "    def __init__(self,a,b):\n",
        "        print('Two-Arg constructor')\n",
        "\n",
        "# t1=Test() - TypeError: Test.__init__() missing 2 required positional arguments: 'a' and 'b'\n",
        "# t1=Test(10) - TypeError: Test.__init__() missing 1 required positional argument: 'b'\n",
        "t1=Test(10,20)"
      ],
      "metadata": {
        "colab": {
          "base_uri": "https://localhost:8080/"
        },
        "id": "nWWlJFV9quVz",
        "outputId": "3952183f-86f0-4e4b-f12e-30ae4eafef48"
      },
      "execution_count": 251,
      "outputs": [
        {
          "output_type": "stream",
          "name": "stdout",
          "text": [
            "Two-Arg constructor\n"
          ]
        }
      ]
    },
    {
      "cell_type": "markdown",
      "source": [
        "* In the above program only Two-Arg Constructor is available.\n",
        "* But based on our requirement we can declare constructor with default arguments and\n",
        "variable number of arguments."
      ],
      "metadata": {
        "id": "ew982tHmrvFk"
      }
    },
    {
      "cell_type": "markdown",
      "source": [
        "#### How to define a constructor with variable number of arguments?\n",
        "* Constructor with Default Arguments\n",
        "* Constructor with Variable Number of Arguments"
      ],
      "metadata": {
        "id": "ie_NobtWrxyg"
      }
    },
    {
      "cell_type": "markdown",
      "source": [
        "##### Constructor with Default Arguments"
      ],
      "metadata": {
        "id": "hGAdgR5rsCw0"
      }
    },
    {
      "cell_type": "code",
      "source": [
        "class Test:\n",
        "    def __init__(self,a=None,b=None,c=None):\n",
        "        print('Constructor with 0|1|2|3 number of arguments')\n",
        "\n",
        "t1=Test()\n",
        "t2=Test(10)\n",
        "t3=Test(10,20)\n",
        "t4=Test(10,20,30)"
      ],
      "metadata": {
        "colab": {
          "base_uri": "https://localhost:8080/"
        },
        "id": "_kE4D8HqrOb7",
        "outputId": "42590f3d-fe32-416d-854b-d8d4bb51b7fe"
      },
      "execution_count": 252,
      "outputs": [
        {
          "output_type": "stream",
          "name": "stdout",
          "text": [
            "Constructor with 0|1|2|3 number of arguments\n",
            "Constructor with 0|1|2|3 number of arguments\n",
            "Constructor with 0|1|2|3 number of arguments\n",
            "Constructor with 0|1|2|3 number of arguments\n"
          ]
        }
      ]
    },
    {
      "cell_type": "markdown",
      "source": [
        "##### Constructor with Variable Number of Arguments"
      ],
      "metadata": {
        "id": "ULVkHR_dsSfq"
      }
    },
    {
      "cell_type": "code",
      "source": [
        "class Test:\n",
        "    def __init__(self,*args):\n",
        "        print('Constructor with variable number of arguments')\n",
        "\n",
        "t1=Test()\n",
        "t2=Test(10)\n",
        "t3=Test(10,20)\n",
        "t4=Test(10,20,30)\n",
        "t5=Test(10,20,30,40,50,60)"
      ],
      "metadata": {
        "colab": {
          "base_uri": "https://localhost:8080/"
        },
        "id": "RXxe4gBQsU6x",
        "outputId": "5e61246c-a833-45ce-b980-c1f707f04c2c"
      },
      "execution_count": 253,
      "outputs": [
        {
          "output_type": "stream",
          "name": "stdout",
          "text": [
            "Constructor with variable number of arguments\n",
            "Constructor with variable number of arguments\n",
            "Constructor with variable number of arguments\n",
            "Constructor with variable number of arguments\n",
            "Constructor with variable number of arguments\n"
          ]
        }
      ]
    },
    {
      "cell_type": "markdown",
      "source": [
        "### Overriding\n",
        "* Whatever members available in the parent class are by default available to the child class through inheritance. If the child class not satisfied with parent class implementation then child class is allowed to redefine that method in the child class\n",
        "based on its requirement. This concept is called overriding.\n",
        "* Overriding concept applicable for both methods and constructors."
      ],
      "metadata": {
        "id": "1Es8W_7ozDCT"
      }
    },
    {
      "cell_type": "markdown",
      "source": [
        "#### Method Overriding\n"
      ],
      "metadata": {
        "id": "j7WAHEBKzWBu"
      }
    },
    {
      "cell_type": "code",
      "source": [
        "class P:\n",
        "    def property(self):\n",
        "        print('Gold+Land+Cash+Power')\n",
        "    def marry(self):\n",
        "        print('Appalamma')\n",
        "\n",
        "class C(P):\n",
        "    def marry(self):\n",
        "        print('Katrina Kaif')\n",
        "c=C()\n",
        "c.property()\n",
        "c.marry()"
      ],
      "metadata": {
        "colab": {
          "base_uri": "https://localhost:8080/"
        },
        "id": "CmSocphgzYxQ",
        "outputId": "f97be1f0-6cac-4c68-9791-5b6fea4530fc"
      },
      "execution_count": 254,
      "outputs": [
        {
          "output_type": "stream",
          "name": "stdout",
          "text": [
            "Gold+Land+Cash+Power\n",
            "Katrina Kaif\n"
          ]
        }
      ]
    },
    {
      "cell_type": "markdown",
      "source": [
        "**From Overriding method of child class,we can call parent class method also by using\n",
        "super() method.**"
      ],
      "metadata": {
        "id": "GvB43Mep1o0b"
      }
    },
    {
      "cell_type": "code",
      "source": [
        "class P:\n",
        "    def property(self):\n",
        "        print('Gold+Land+Cash+Power')\n",
        "    def marry(self):\n",
        "        print('Appalamma')\n",
        "\n",
        "class C(P):\n",
        "    def marry(self):\n",
        "        super().marry()\n",
        "        print('Katrina Kaif')\n",
        "c=C()\n",
        "c.property()\n",
        "c.marry()"
      ],
      "metadata": {
        "colab": {
          "base_uri": "https://localhost:8080/"
        },
        "id": "VUEWbSiwzTay",
        "outputId": "ef074f2e-1f5b-40d9-8133-d30e76325dfe"
      },
      "execution_count": 255,
      "outputs": [
        {
          "output_type": "stream",
          "name": "stdout",
          "text": [
            "Gold+Land+Cash+Power\n",
            "Appalamma\n",
            "Katrina Kaif\n"
          ]
        }
      ]
    },
    {
      "cell_type": "markdown",
      "source": [
        "#### Constructor Overriding"
      ],
      "metadata": {
        "id": "ZzjlIgEl4uYN"
      }
    },
    {
      "cell_type": "code",
      "source": [
        "class P:\n",
        "    def __init__(self):\n",
        "        print('Parent Constructor')\n",
        "\n",
        "class C(P):\n",
        "    pass\n",
        "\n",
        "c=C()"
      ],
      "metadata": {
        "colab": {
          "base_uri": "https://localhost:8080/"
        },
        "id": "ly4_954m4vx9",
        "outputId": "2cc34d0b-d0ae-4537-f274-1d550c6bab8d"
      },
      "execution_count": 256,
      "outputs": [
        {
          "output_type": "stream",
          "name": "stdout",
          "text": [
            "Parent Constructor\n"
          ]
        }
      ]
    },
    {
      "cell_type": "code",
      "source": [
        "class P:\n",
        "    def __init__(self):\n",
        "        print('Parent Constructor')\n",
        "\n",
        "class C(P):\n",
        "    def __init__(self):\n",
        "        print('Child Constructor')\n",
        "\n",
        "c=C()"
      ],
      "metadata": {
        "colab": {
          "base_uri": "https://localhost:8080/"
        },
        "id": "eXHIIVY-47Pj",
        "outputId": "cb3127fe-2df3-42c1-fae3-553bb63b2b8b"
      },
      "execution_count": 257,
      "outputs": [
        {
          "output_type": "stream",
          "name": "stdout",
          "text": [
            "Child Constructor\n"
          ]
        }
      ]
    },
    {
      "cell_type": "code",
      "source": [
        "class P:\n",
        "    def __init__(self):\n",
        "        print('Parent Constructor')\n",
        "\n",
        "class C(P):\n",
        "    def __init__(self):\n",
        "        super().__init__()\n",
        "        print('Child Constructor')\n",
        "\n",
        "c=C()"
      ],
      "metadata": {
        "colab": {
          "base_uri": "https://localhost:8080/"
        },
        "id": "Qgoo0od_5SbN",
        "outputId": "8a1e7c1c-1081-4e81-cf16-8393b84ef2a3"
      },
      "execution_count": 258,
      "outputs": [
        {
          "output_type": "stream",
          "name": "stdout",
          "text": [
            "Parent Constructor\n",
            "Child Constructor\n"
          ]
        }
      ]
    },
    {
      "cell_type": "markdown",
      "source": [
        "* In the above example,if child class does not contain constructor then parent class constructor will be executed.\n",
        "* From child class constuctor we can call parent class constructor by using super() method."
      ],
      "metadata": {
        "id": "JnP76MEB5IXB"
      }
    },
    {
      "cell_type": "code",
      "source": [
        "class Person:\n",
        "    def __init__(self,name,age):\n",
        "        self.name=name\n",
        "        self.age=age\n",
        "\n",
        "class Employee(Person):\n",
        "    def __init__(self,name,age,eno,esal):\n",
        "        super().__init__(name,age)\n",
        "        self.eno=eno\n",
        "        self.esal=esal\n",
        "    def display(self):\n",
        "        print('Employee Name:',self.name)\n",
        "        print('Employee Age:',self.age)\n",
        "        print('Employee Number:',self.eno)\n",
        "        print('Employee Salary:',self.esal)\n",
        "\n",
        "e1=Employee('Durga',48,872425,26000)\n",
        "e1.display()\n",
        "e2=Employee('Sunny',39,872426,36000)\n",
        "e2.display()"
      ],
      "metadata": {
        "colab": {
          "base_uri": "https://localhost:8080/"
        },
        "id": "c0Ehjx_z5u5T",
        "outputId": "7a669da8-1b62-444a-94dd-e5907db8e5e0"
      },
      "execution_count": 259,
      "outputs": [
        {
          "output_type": "stream",
          "name": "stdout",
          "text": [
            "Employee Name: Durga\n",
            "Employee Age: 48\n",
            "Employee Number: 872425\n",
            "Employee Salary: 26000\n",
            "Employee Name: Sunny\n",
            "Employee Age: 39\n",
            "Employee Number: 872426\n",
            "Employee Salary: 36000\n"
          ]
        }
      ]
    },
    {
      "cell_type": "markdown",
      "source": [
        "### Pythonic Behavior\n",
        "The advantages are\n",
        "* Readability of the code will be improved\n",
        "* Cleaner and easy to understand"
      ],
      "metadata": {
        "id": "6AkqI0Ckz2yz"
      }
    },
    {
      "cell_type": "markdown",
      "source": [
        "#### Duck Typing\n",
        "* If an object walks like a duck and talks like a duck, then it is considered as a Duck i.e., Python giving importance to the behaviour than original type.\n",
        "*A programming style which does not look at an object’s type to determine if it has the right interface; instead, the method or attribute is simply called or used (“If it looks like a duck and quacks like a duck, it must be a duck.”) By emphasizing interfaces rather than specific types, well-designed code improves its flexibility by allowing polymorphic substitution.\n",
        "```\n",
        "def f1(obj):\n",
        "obj.talk()\n",
        "```\n",
        "* At runtime if 'it walks like a duck and talks like a duck,it must be duck'. Python follows this\n",
        "principle. This is called Duck Typing Philosophy of Python.\n",
        "* The idea behind this principle is that the code itself does not care about whether an object is a duck, but instead it does only care about whether it quacks."
      ],
      "metadata": {
        "id": "7CNSgVWn2eQq"
      }
    },
    {
      "cell_type": "markdown",
      "source": [
        "Let’s consider the **+** Python operator; If we use it with two integers, then the result will be sum of the two numbers."
      ],
      "metadata": {
        "id": "ToykCQIxF4_4"
      }
    },
    {
      "cell_type": "code",
      "source": [
        "a = 10 + 15\n",
        "a"
      ],
      "metadata": {
        "colab": {
          "base_uri": "https://localhost:8080/"
        },
        "id": "4BU1i-_yGBFZ",
        "outputId": "71fdfad0-6257-451e-abad-2d3487c87cae"
      },
      "execution_count": 228,
      "outputs": [
        {
          "output_type": "execute_result",
          "data": {
            "text/plain": [
              "25"
            ]
          },
          "metadata": {},
          "execution_count": 228
        }
      ]
    },
    {
      "cell_type": "markdown",
      "source": [
        "Now let’s consider the same operator with string object types. The result will be the concatenation of the two objects being added together."
      ],
      "metadata": {
        "id": "w83Omqz3GD23"
      }
    },
    {
      "cell_type": "code",
      "source": [
        "a = 'A' + 'B'\n",
        "a"
      ],
      "metadata": {
        "colab": {
          "base_uri": "https://localhost:8080/",
          "height": 35
        },
        "id": "OCA8ZkoSGGXT",
        "outputId": "49ffe74a-f461-42b6-a827-bf66613f2028"
      },
      "execution_count": 229,
      "outputs": [
        {
          "output_type": "execute_result",
          "data": {
            "text/plain": [
              "'AB'"
            ],
            "application/vnd.google.colaboratory.intrinsic+json": {
              "type": "string"
            }
          },
          "metadata": {},
          "execution_count": 229
        }
      ]
    },
    {
      "cell_type": "markdown",
      "source": [
        "* This polymorphic behaviour is a core idea behind Python which is also a dynamically typed language. This means that it performs type checking at run-time as opposed to statically typed languages (such as Java) that perform it during compile-time.\n",
        "* Additionally, in statically typed languages we must also declare the data type of the variable prior to its reference in the source code."
      ],
      "metadata": {
        "id": "ExxOESS6GKXA"
      }
    },
    {
      "cell_type": "markdown",
      "source": [
        "**Duck Typing refers to the principle of not constraining or binding the code to specific data types.**"
      ],
      "metadata": {
        "id": "fUP2gTzYGUeo"
      }
    },
    {
      "cell_type": "code",
      "source": [
        "class Duck:\n",
        "    def talk(self):\n",
        "        print('Quack.. Quack..')\n",
        "\n",
        "class Dog:\n",
        "    def talk(self):\n",
        "        print('Bow Bow..')\n",
        "\n",
        "class Cat:\n",
        "    def talk(self):\n",
        "        print('Moew Moew ..')\n",
        "\n",
        "class Goat:\n",
        "    def talk(self):\n",
        "        print('Myaah Myaah ..')\n",
        "\n",
        "d = Duck()\n",
        "do = Dog()\n",
        "c = Cat()\n",
        "g = Goat()\n",
        "\n",
        "# Non Pythonic code - Importance to type of the object - Not readable\n",
        "def invoke_talk(object):\n",
        "    # If it is duck type then call the talk, otherwise no.\n",
        "    if isinstance(object, Duck):\n",
        "        object.talk()\n",
        "    else:\n",
        "        print(\"To quack the object should be Duck type\")\n",
        "\n",
        "invoke_talk(d)\n",
        "invoke_talk(do)\n",
        "invoke_talk(c)\n",
        "invoke_talk(g)\n",
        "\n",
        "# Pythonic code - Importance to behavior of the object - Readable\n",
        "def invoke_quack(object):\n",
        "    # Python don't give importance to (type), is it really duck or not.\n",
        "    object.talk()\n",
        "\n",
        "invoke_talk(d)\n",
        "invoke_talk(do)\n",
        "invoke_talk(c)\n",
        "invoke_talk(g)\n"
      ],
      "metadata": {
        "colab": {
          "base_uri": "https://localhost:8080/"
        },
        "id": "KKPTHVm43nWZ",
        "outputId": "6eb4876f-608e-4351-800b-bfb48a1c8606"
      },
      "execution_count": 230,
      "outputs": [
        {
          "output_type": "stream",
          "name": "stdout",
          "text": [
            "Quack.. Quack..\n",
            "To quack the object should be Duck type\n",
            "To quack the object should be Duck type\n",
            "To quack the object should be Duck type\n",
            "Quack.. Quack..\n",
            "To quack the object should be Duck type\n",
            "To quack the object should be Duck type\n",
            "To quack the object should be Duck type\n"
          ]
        }
      ]
    },
    {
      "cell_type": "markdown",
      "source": [
        "#### Easier to Ask Forgiveness Than Permission(EAFP)\n",
        "* **It’s easier to ask forgiveness than it is to get permission**\n",
        "* It suggests that right away, you should do what you expect to work. If it doesn’t work and an exception happens, then just catch the exception and handle it appropriately.\n",
        "* Easier to ask for forgiveness than permission. This common Python coding style assumes the existence of valid keys or attributes and catches exceptions if the assumption proves false. This clean and fast style is characterized by the presence of many try and except statements. The technique contrasts with the Look before you leap(LBYL) style common to many other languages such as C.\n",
        "* In Python, the EAFP coding style is pretty popular and common. It’s sometimes recommended over the LBYL style.\n",
        "\n",
        "* This popularity has at least two motivating factors:\n",
        "\n",
        "> * Exception handling is fast and efficient in Python.\n",
        "> * The necessary checks for potential problems are typically part of the language itself.\n",
        "\n",
        "* As the official definition says, the EAFP coding style is characterized by using try … except statements to catch and handle errors and exceptional situations that may occur during the execution of your code.\n"
      ],
      "metadata": {
        "id": "bOuSx8MgIJrB"
      }
    },
    {
      "cell_type": "code",
      "source": [
        "class Duck:\n",
        "    def talk(self):\n",
        "        print('Quack.. Quack..')\n",
        "\n",
        "class Dog:\n",
        "    def talk(self):\n",
        "        print('Bow Bow..')\n",
        "\n",
        "class Cat:\n",
        "    def talk(self):\n",
        "        print('Moew Moew ..')\n",
        "\n",
        "class Goat:\n",
        "    def talk(self):\n",
        "        print('Myaah Myaah ..')\n",
        "\n",
        "d = Duck()\n",
        "do = Dog()\n",
        "c = Cat()\n",
        "g = Goat()\n",
        "\n",
        "def invoke_talk(object):\n",
        "    # LBYL (Non-Pythonic)\n",
        "    if hasattr (object, 'talk'):\n",
        "        if callable (object.talk) :\n",
        "            object.talk()\n",
        "\n",
        "invoke_talk(d)\n",
        "# invoke_talk(e)\n",
        "\n",
        "def invoke_talk(object):\n",
        "    # EAFP (Pythonic)\n",
        "    try:\n",
        "        object.talk()\n",
        "        object.fly()\n",
        "    except AttributeError as e:\n",
        "        print(e)\n",
        "\n",
        "invoke_talk(d)"
      ],
      "metadata": {
        "colab": {
          "base_uri": "https://localhost:8080/"
        },
        "id": "BsAyrfvE5rct",
        "outputId": "8bd153fa-f2fc-48a5-b345-1eaa4bc8f355"
      },
      "execution_count": 231,
      "outputs": [
        {
          "output_type": "stream",
          "name": "stdout",
          "text": [
            "Quack.. Quack..\n",
            "Quack.. Quack..\n",
            "'Duck' object has no attribute 'fly'\n"
          ]
        }
      ]
    },
    {
      "cell_type": "markdown",
      "source": [
        "## Abstraction\n",
        "* Literal meaning - something which is not complete - doesn't provide complete information.\n"
      ],
      "metadata": {
        "id": "m8ao4r69o4B1"
      }
    },
    {
      "cell_type": "markdown",
      "source": [
        "### Abstract Method\n",
        "* Sometimes we don't know about implementation, still we can declare a method. Such types of methods are called abstract methods.i.e abstract method has only declaration but not implementation(empty implementation).\n",
        "* In python we can declare abstract method by using @abstractmethod decorator as follows.\n",
        "```\n",
        "@abstractmethod\n",
        "def m1(self): pass\n",
        "```\n",
        "* @abstractmethod decorator present in abc module. Hence compulsory we should import abc module,otherwise we will get error.\n",
        "* abc -> abstract base class module"
      ],
      "metadata": {
        "id": "kRPu6f0orA5Y"
      }
    },
    {
      "cell_type": "code",
      "source": [
        "from abc import abstractmethod\n",
        "class Test:\n",
        "    @abstractmethod\n",
        "    def m1(self):\n",
        "        pass"
      ],
      "metadata": {
        "id": "HdFJ7JAF1trM"
      },
      "execution_count": 203,
      "outputs": []
    },
    {
      "cell_type": "code",
      "source": [
        "# Because we don't know the type of vehicle, we cannot ascertain number of wheels.\n",
        "\n",
        "from abc import abstractmethod\n",
        "@abstractmethod\n",
        "class vehicle:\n",
        "    def getNoOfWheels(self):\n",
        "        pass"
      ],
      "metadata": {
        "id": "iJ4WEgmOtV6l"
      },
      "execution_count": 204,
      "outputs": []
    },
    {
      "cell_type": "code",
      "source": [
        "from abc import *\n",
        "class Fruit:\n",
        "    @abstractmethod\n",
        "    def taste(self):\n",
        "        pass"
      ],
      "metadata": {
        "id": "7_NZMst-5Sf_"
      },
      "execution_count": 205,
      "outputs": []
    },
    {
      "cell_type": "markdown",
      "source": [
        "**Who is responsible to provide the implementation for parent class abstract method?**\n",
        "* Child classes are responsible to provide implementation for parent class abstract methods."
      ],
      "metadata": {
        "id": "CVG9aQQCt78d"
      }
    },
    {
      "cell_type": "markdown",
      "source": [
        "### Abstract class:\n",
        "* Some times implementation of a class is not complete, such type of partially implementation classes are called abstract classes.\n",
        "* Every abstract class in Python should be derived from ABC class(Abstract Base Class), which is present in abc module."
      ],
      "metadata": {
        "id": "-CVgvE7h5Xo7"
      }
    },
    {
      "cell_type": "code",
      "source": [
        "from abc import ABC, abstractmethod\n",
        "class Test:\n",
        "    pass\n",
        "\n",
        "t = Test()"
      ],
      "metadata": {
        "id": "5f9FgHgAuI3Q"
      },
      "execution_count": 206,
      "outputs": []
    },
    {
      "cell_type": "markdown",
      "source": [
        "In the above code we can create object for Test class because it is concrete class(Not derived from ABC and not contains @abstractmethod) and it does not conatin any abstract method."
      ],
      "metadata": {
        "id": "-WulG5Fx_hIN"
      }
    },
    {
      "cell_type": "code",
      "source": [
        "from abc import *\n",
        "class Test(ABC):\n",
        "    pass\n",
        "\n",
        "t=Test()"
      ],
      "metadata": {
        "id": "IyEyDDo7BGqG"
      },
      "execution_count": 207,
      "outputs": []
    },
    {
      "cell_type": "markdown",
      "source": [
        "In the above code we can create object, even it is derived from ABC class, because **it does not contain any abstract method**."
      ],
      "metadata": {
        "id": "iFWPaXXpBPDi"
      }
    },
    {
      "cell_type": "code",
      "source": [
        "from abc import *\n",
        "class Test:\n",
        "    @abstractmethod\n",
        "    def m1(self):\n",
        "        pass\n",
        "\n",
        "t=Test()"
      ],
      "metadata": {
        "id": "hH_rpN1YDwZJ"
      },
      "execution_count": 208,
      "outputs": []
    },
    {
      "cell_type": "markdown",
      "source": [
        "We can create object even class contains abstract method because we are not extending ABC class."
      ],
      "metadata": {
        "id": "gEpr4CDKDwqT"
      }
    },
    {
      "cell_type": "code",
      "source": [
        "from abc import *\n",
        "class Test:\n",
        "    @abstractmethod\n",
        "    def m1(self):\n",
        "        print('Hello')\n",
        "\n",
        "t=Test()\n",
        "t.m1()"
      ],
      "metadata": {
        "colab": {
          "base_uri": "https://localhost:8080/"
        },
        "id": "dxtq6XmFEEbo",
        "outputId": "b1b22d63-d002-4e1e-df1c-95acccf0d81a"
      },
      "execution_count": 209,
      "outputs": [
        {
          "output_type": "stream",
          "name": "stdout",
          "text": [
            "Hello\n"
          ]
        }
      ]
    },
    {
      "cell_type": "code",
      "source": [
        "from abc import *\n",
        "class Test(ABC):\n",
        "    @abstractmethod\n",
        "    def m1(self):\n",
        "        pass\n",
        "\n",
        "# t=Test() - TypeError: Can't instantiate abstract class Test with abstract method m1"
      ],
      "metadata": {
        "id": "d28q_V94BQsC"
      },
      "execution_count": 210,
      "outputs": []
    },
    {
      "cell_type": "markdown",
      "source": [
        "TypeError: Can't instantiate abstract class Test with abstract methods m1"
      ],
      "metadata": {
        "id": "_uJgY7GtDeeu"
      }
    },
    {
      "cell_type": "code",
      "source": [
        "from abc import *\n",
        "class Test(ABC):\n",
        "    @abstractmethod\n",
        "    def m1(self):\n",
        "        pass\n",
        "\n",
        "class subtest(Test):\n",
        "    pass\n",
        "\n",
        "# s = subtest() - TypeError: Can't instantiate abstract class subtest with abstract method m1"
      ],
      "metadata": {
        "id": "PYFCjxu2H-qp"
      },
      "execution_count": 211,
      "outputs": []
    },
    {
      "cell_type": "code",
      "source": [
        "from abc import *\n",
        "class Vehicle(ABC):\n",
        "    @abstractmethod\n",
        "    def noofwheels(self):\n",
        "        pass\n",
        "class Bus(Vehicle):\n",
        "    pass\n",
        "\n",
        "# b = Bus() - TypeError: Can't instantiate abstract class Bus with abstract method noofwheels"
      ],
      "metadata": {
        "id": "Yh_gYgdiId0S"
      },
      "execution_count": 212,
      "outputs": []
    },
    {
      "cell_type": "markdown",
      "source": [
        "If we are extending abstract class and does not override its abstract method then child class is also abstract and instantiation is not possible."
      ],
      "metadata": {
        "id": "tNwmIFWrJTEB"
      }
    },
    {
      "cell_type": "markdown",
      "source": [
        "**What is the advantage of declaring abstract methods in the parent class?**\n",
        "* By declaring abstract methods in parent class we can provide guidelines to the child classes, such that which methods are compulsory to implement."
      ],
      "metadata": {
        "id": "-ol3_gCI_sPT"
      }
    },
    {
      "cell_type": "code",
      "source": [
        "from abc import ABC, abstractmethod\n",
        "class vehicle(ABC):\n",
        "    @abstractmethod\n",
        "    def getNoOfWheels(self):\n",
        "        pass\n",
        "\n",
        "class bus(vehicle):\n",
        "    pass\n",
        "\n",
        "# b = bus() - TypeError: Can't instantiate abstract class bus with abstract method getNoOfWheels"
      ],
      "metadata": {
        "id": "dBNmriJ-ALcV"
      },
      "execution_count": 213,
      "outputs": []
    },
    {
      "cell_type": "code",
      "source": [
        "from abc import ABC, abstractmethod\n",
        "\n",
        "class vehicle(ABC):\n",
        "    @abstractmethod\n",
        "    def getNoOfWheels(self):\n",
        "        pass\n",
        "\n",
        "class bus(vehicle):\n",
        "    def getNoOfWheels(self):\n",
        "        return 6\n",
        "\n",
        "class auto(vehicle):\n",
        "    def getNoOfWheels(self):\n",
        "        return 3\n",
        "\n",
        "b = bus()\n",
        "a = auto()\n",
        "b.getNoOfWheels(), a.getNoOfWheels()"
      ],
      "metadata": {
        "colab": {
          "base_uri": "https://localhost:8080/"
        },
        "id": "ri6JVEdm6iBI",
        "outputId": "f8ef3141-434b-47a0-9c9e-0f42306d16c6"
      },
      "execution_count": 214,
      "outputs": [
        {
          "output_type": "execute_result",
          "data": {
            "text/plain": [
              "(6, 3)"
            ]
          },
          "metadata": {},
          "execution_count": 214
        }
      ]
    },
    {
      "cell_type": "code",
      "source": [
        "from abc import ABC, abstractmethod\n",
        "class test(ABC):\n",
        "    @abstractmethod\n",
        "    def m1(self):\n",
        "        pass\n",
        "    @abstractmethod\n",
        "    def m2(self):\n",
        "        pass\n",
        "\n",
        "class subtest(test):\n",
        "    def m1(self):\n",
        "        print(\"m1 method\")\n",
        "\n",
        "# s = subtest() - TypeError: Can't instantiate abstract class subtest with abstract method m2"
      ],
      "metadata": {
        "id": "MSLfxVp4Jh6G"
      },
      "execution_count": 215,
      "outputs": []
    },
    {
      "cell_type": "code",
      "source": [
        "from abc import ABC, abstractmethod\n",
        "class test(ABC):\n",
        "    @abstractmethod\n",
        "    def m1(self):\n",
        "        pass\n",
        "    @abstractmethod\n",
        "    def m2(self):\n",
        "        pass\n",
        "\n",
        "class subtest(test):\n",
        "    def m1(self):\n",
        "        print(\"m1 method\")\n",
        "    def m2(self):\n",
        "        print(\"m2 method\")\n",
        "\n",
        "s = subtest()\n",
        "s.m1()\n",
        "s.m2()"
      ],
      "metadata": {
        "colab": {
          "base_uri": "https://localhost:8080/"
        },
        "id": "IB9ETb3Ua6au",
        "outputId": "9839b95d-0d9a-4740-b41f-94ccbd52cfc1"
      },
      "execution_count": 216,
      "outputs": [
        {
          "output_type": "stream",
          "name": "stdout",
          "text": [
            "m1 method\n",
            "m2 method\n"
          ]
        }
      ]
    },
    {
      "cell_type": "markdown",
      "source": [
        "Note: Abstract class can contain both abstract and non-abstract methods also."
      ],
      "metadata": {
        "id": "Gq4GZ-K6JffW"
      }
    },
    {
      "cell_type": "code",
      "source": [
        "from abc import ABC, abstractmethod\n",
        "class test(ABC):\n",
        "    @abstractmethod\n",
        "    def m1(self):\n",
        "        pass\n",
        "    def m2(self):\n",
        "        pass\n",
        "\n",
        "class subtest(test):\n",
        "    def m1(self):\n",
        "        print(\"m1 method\")\n",
        "\n",
        "s = subtest()\n",
        "s.m1()\n",
        "s.m2()"
      ],
      "metadata": {
        "colab": {
          "base_uri": "https://localhost:8080/"
        },
        "id": "IQQ-TukTbKjw",
        "outputId": "ad98247c-11f8-4407-fbcf-29a9b2138b54"
      },
      "execution_count": 217,
      "outputs": [
        {
          "output_type": "stream",
          "name": "stdout",
          "text": [
            "m1 method\n"
          ]
        }
      ]
    },
    {
      "cell_type": "markdown",
      "source": [
        "#### Conclusions\n",
        "* If a class contains atleast one abstract method and if we are extending ABC class then instantiation is not possible. **\"For abstract class with abstract method instantiation is not possible\"**\n",
        "* Parent class abstract methods should be implemented in the child classes. Otherwise we\n",
        "cannot instantiate child class.If we are not creating child class object then we won't get\n",
        "any error.\n",
        "*  If we are creating child class for abstract class then for every abstract method of parent class compulsory we should provide implementation in the child class, otherwise child class is also abstract and we cannot create object for child class."
      ],
      "metadata": {
        "id": "eF5T17JjEijL"
      }
    },
    {
      "cell_type": "markdown",
      "source": [
        "### Interfaces In Python\n",
        "* An abstract class can contain both abstract and non abstract methods.\n",
        "* If an abstract class contains only abstract methods such type of abstract class is considered as interface.(100% pure abstract class is nothing nut inference).\n",
        "* In python officially interface concept is not available, but with the help of abstract methods we can fulfil the interface requirements.\n",
        "* Interface simply acts as Service Requirenent Specification(SRS)."
      ],
      "metadata": {
        "id": "tgcZc_HDb09N"
      }
    },
    {
      "cell_type": "code",
      "source": [
        "from abc import ABC, abstractmethod\n",
        "class collegeAutomation(ABC):\n",
        "    @abstractmethod\n",
        "    def m1(self):\n",
        "        pass\n",
        "    @abstractmethod\n",
        "    def m2(self):\n",
        "        pass\n",
        "    @abstractmethod\n",
        "    def m3(self):\n",
        "        pass\n",
        "\n",
        "class Impl(collegeAutomation):\n",
        "    def m1(self):\n",
        "        print(\"m1 method\")\n",
        "    def m2(self):\n",
        "        print(\"m2 method\")\n",
        "    def m3(self):\n",
        "        print(\"m3 method\")\n",
        "\n",
        "i = Impl()\n",
        "i.m1()\n",
        "i.m2()\n",
        "i.m3()"
      ],
      "metadata": {
        "colab": {
          "base_uri": "https://localhost:8080/"
        },
        "id": "WcEHm2L5lYmZ",
        "outputId": "13bf62bc-1cb1-4bba-efa9-733b6a13a051"
      },
      "execution_count": 218,
      "outputs": [
        {
          "output_type": "stream",
          "name": "stdout",
          "text": [
            "m1 method\n",
            "m2 method\n",
            "m3 method\n"
          ]
        }
      ]
    },
    {
      "cell_type": "markdown",
      "source": [
        "Concreate class vs Abstract Class vs Inteface:\n",
        "* **Plan vs Partially completed vs Ready to use**\n",
        "1. If we dont know anything about implementation just we have requirement specification then we should go for interface.(Service Requirenent Specification(SRS))\n",
        "2. If we are talking about implementation but not completely then we should go for abstract class. (partially implemented class).\n",
        "3. If we are talking about implementation completely and ready to provide service then we should go for concrete class.(Fully implemented class)"
      ],
      "metadata": {
        "id": "s9YET2gIozkZ"
      }
    },
    {
      "cell_type": "markdown",
      "source": [
        "### Public, Protected and Private Attributes\n",
        "* **By default every attribute is public**. We can access from anywhere either within the class or from outside of the class.\n",
        "> Example: name = 'durga'\n",
        "* **Protected attributes** can be accessed within the class anywhere but from outside of the class only in child classes. We can specify an attribute as protected by prefexing with _symbol.\n",
        "* Syntax: _variablename = value\n",
        "> Example: _name='durga'\n",
        "* But is is just convention and in reality does not exists protected attributes.\n",
        "* **Private attributes** can be accessed only within the class.i.e from outside of the class we cannot access. We can declare a variable as private explicitly by prefexing with  two underscore symbols.\n",
        "> syntax: __variablename=value"
      ],
      "metadata": {
        "id": "kxKoOlkR8-TJ"
      }
    },
    {
      "cell_type": "code",
      "source": [
        "# Private members\n",
        "class test:\n",
        "    def __init__(self):\n",
        "        self.x = 10\n",
        "    def m1(self):\n",
        "        print(\"This is a public method\")\n",
        "    def m2(self):\n",
        "        print(self.x)\n",
        "        self.m1()\n",
        "\n",
        "t = test()\n",
        "print(t.x)\n",
        "t.m1()\n",
        "t.m2()"
      ],
      "metadata": {
        "colab": {
          "base_uri": "https://localhost:8080/"
        },
        "id": "R7O-aQ6_-QEM",
        "outputId": "e9fa1871-7431-43a0-af3a-8fcacedc28ea"
      },
      "execution_count": 219,
      "outputs": [
        {
          "output_type": "stream",
          "name": "stdout",
          "text": [
            "10\n",
            "This is a public method\n",
            "10\n",
            "This is a public method\n"
          ]
        }
      ]
    },
    {
      "cell_type": "code",
      "source": [
        "# Private members\n",
        "class test:\n",
        "    def __init__(self):\n",
        "        self.__x = 10 # Private variable\n",
        "    def __m1(self): # Private method\n",
        "        print(\"This is a private method\")\n",
        "    def m2(self):\n",
        "        print(self.__x)\n",
        "        self.__m1()\n",
        "\n",
        "t = test()\n",
        "t.m2()\n",
        "# print(t.__x) - AttributeError: 'test' object has no attribute '__x'\n",
        "# t.__m1() - AttributeError: 'test' object has no attribute '__m1'"
      ],
      "metadata": {
        "colab": {
          "base_uri": "https://localhost:8080/"
        },
        "id": "QC7F8pOG_WN1",
        "outputId": "3b535627-46c4-4d09-996f-23d3adfec71e"
      },
      "execution_count": 220,
      "outputs": [
        {
          "output_type": "stream",
          "name": "stdout",
          "text": [
            "10\n",
            "This is a private method\n"
          ]
        }
      ]
    },
    {
      "cell_type": "markdown",
      "source": [
        "#### How to Access Private Variables from Outside of the Class?\n",
        "* We cannot access private variables directly from outside of the class.\n",
        "* Name mangling will be happend for the private variables. Hence every private variable name will be changed to new name.\n",
        "* But we can access indirectly by using name mangling as follows\n"
      ],
      "metadata": {
        "id": "NLu9IboxAiuz"
      }
    },
    {
      "cell_type": "code",
      "source": [
        "# __variable_name/methodname = _classname__variablename/methodname\n",
        "# print it as objectReference._classname__variablename/methodname\n",
        "# Python internally chnages __x to _test__x and __m1() to _test__m1()\n",
        "print(t._test__x)\n",
        "t._test__m1()"
      ],
      "metadata": {
        "colab": {
          "base_uri": "https://localhost:8080/"
        },
        "id": "Aq1FjJ1GA-K-",
        "outputId": "14526364-863d-4e6d-dee1-cf2c6fb9253b"
      },
      "execution_count": 221,
      "outputs": [
        {
          "output_type": "stream",
          "name": "stdout",
          "text": [
            "10\n",
            "This is a private method\n"
          ]
        }
      ]
    },
    {
      "cell_type": "code",
      "source": [
        "# Protected variable\n",
        "class test:\n",
        "    def __init__(self):\n",
        "        self._x = 10 # Protected variable\n",
        "    def m1(self):\n",
        "        print(self._x)\n",
        "        print(\"This is a protected method\")\n",
        "\n",
        "class subtest(test):\n",
        "    def m2(self):\n",
        "        print(self._x)\n",
        "\n",
        "\n",
        "t = subtest()\n",
        "t.m1()\n",
        "t.m2()\n",
        "t._x # Just a naming convention but internally in python language level it is not implemented"
      ],
      "metadata": {
        "colab": {
          "base_uri": "https://localhost:8080/"
        },
        "id": "J78J3QCJCYJR",
        "outputId": "e9531a01-b489-4899-987e-aa0ec715bebe"
      },
      "execution_count": 222,
      "outputs": [
        {
          "output_type": "stream",
          "name": "stdout",
          "text": [
            "10\n",
            "This is a protected method\n",
            "10\n"
          ]
        },
        {
          "output_type": "execute_result",
          "data": {
            "text/plain": [
              "10"
            ]
          },
          "metadata": {},
          "execution_count": 222
        }
      ]
    },
    {
      "cell_type": "code",
      "source": [
        "class Test:\n",
        "    x=10\n",
        "    _y=20\n",
        "    __z=30\n",
        "    def m1(self):\n",
        "        print(Test.x)\n",
        "        print(Test._y)\n",
        "        print(Test.__z)\n",
        "\n",
        "t=Test()\n",
        "t.m1()\n",
        "print(Test.x)\n",
        "print(Test._y)\n",
        "# print(Test.__z)"
      ],
      "metadata": {
        "colab": {
          "base_uri": "https://localhost:8080/"
        },
        "id": "Z6ubXFlmozDz",
        "outputId": "6a810b42-4cb9-4910-ea6b-ed21f31caa89"
      },
      "execution_count": 223,
      "outputs": [
        {
          "output_type": "stream",
          "name": "stdout",
          "text": [
            "10\n",
            "20\n",
            "30\n",
            "10\n",
            "20\n"
          ]
        }
      ]
    },
    {
      "cell_type": "markdown",
      "source": [
        "### Data Hiding\n",
        "* Our internal data should not go out directly i.e., outside person should not access our internal data directly\n",
        "* By declaring data member as private modifier we can implement data hiding"
      ],
      "metadata": {
        "id": "lRtCPmisEzHe"
      }
    },
    {
      "cell_type": "code",
      "source": [
        "class account:\n",
        "    def __init__(self, int_bal):\n",
        "        self.bal = int_bal\n",
        "\n",
        "a = account(10000)\n",
        "print(a.bal) # No data hiding"
      ],
      "metadata": {
        "colab": {
          "base_uri": "https://localhost:8080/"
        },
        "id": "8DJfOMTnH2n4",
        "outputId": "41282b8d-9998-4b1d-8744-42433aa34e7d"
      },
      "execution_count": 224,
      "outputs": [
        {
          "output_type": "stream",
          "name": "stdout",
          "text": [
            "10000\n"
          ]
        }
      ]
    },
    {
      "cell_type": "code",
      "source": [
        "# Declare balance variable as private\n",
        "class account:\n",
        "    def __init__(self, int_bal):\n",
        "        self.__bal = int_bal\n",
        "\n",
        "a = account(10000)\n",
        "# print(a.__bal) - AttributeError: 'account' object has no attribute '__bal'"
      ],
      "metadata": {
        "id": "PtEjF8gIILi2"
      },
      "execution_count": 225,
      "outputs": []
    },
    {
      "cell_type": "code",
      "source": [
        "# Declare balance variable as private\n",
        "class account:\n",
        "    def __init__(self, int_bal):\n",
        "        self.__bal = int_bal\n",
        "    def getBal(self):\n",
        "        # Add validation and authentication\n",
        "        return self.__bal\n",
        "\n",
        "a = account(10000)\n",
        "a.getBal()"
      ],
      "metadata": {
        "colab": {
          "base_uri": "https://localhost:8080/"
        },
        "id": "BbfNdi4pIrHl",
        "outputId": "91676f6c-0663-431b-a38b-34ba750e375d"
      },
      "execution_count": 226,
      "outputs": [
        {
          "output_type": "execute_result",
          "data": {
            "text/plain": [
              "10000"
            ]
          },
          "metadata": {},
          "execution_count": 226
        }
      ]
    },
    {
      "cell_type": "markdown",
      "source": [
        "#### Abstraction\n",
        "* Hiding internal implementation and just highlight the set of services is the concept of abstraction\n",
        "> Example: Through bank ATM GUI screen, bank people are highlighting the set of services what they are offering without highlighting internal implementation. This is nothing but abstraction."
      ],
      "metadata": {
        "id": "oxgWJdWDVA2C"
      }
    },
    {
      "cell_type": "markdown",
      "source": [
        "#### How to implement abstraction?\n",
        "* By using GUI screens, APIs we can implement abstraction\n",
        "* Advantages\n",
        "> 1. Security\n",
        "> 2. Enhancement will become very easy\n",
        "> 3. Maintainability and Modularity of the application imporved"
      ],
      "metadata": {
        "id": "SW3_rSlKV1RQ"
      }
    },
    {
      "cell_type": "markdown",
      "source": [
        "### Encapsulation\n",
        "* **The process of binding/grouping/encapsulating data and corresponding behavior(methods) into a single unit is nothing but encapsulation.**\n",
        "* Evry python class is an example of encapsulation\n",
        "```\n",
        "Programming Capsule\n",
        "class student:\n",
        "    Data: Name, RollNo, Marks, Age\n",
        "    Behavior: read(), write(),walk()\n",
        "```\n",
        "* If any component follows data hiding and abstraction, such component is said to be encapsulated component.\n",
        "> Encapsulation = Data hiding + Abstraction\n"
      ],
      "metadata": {
        "id": "GDEV9SDIWXvy"
      }
    },
    {
      "cell_type": "code",
      "source": [
        "class account:\n",
        "    def __init__(self, int_bal):\n",
        "        self.__int_bal = bal\n",
        "    def getBal(self):\n",
        "        # Validation/Authentication\n",
        "        return self.__bal\n",
        "    def deposit(self, amount):\n",
        "        # Validation/Authentication\n",
        "        self.__bal = self.__bal + amount\n",
        "        return self.__bal\n",
        "    def withdraw(self, amount):\n",
        "        # Validation/Authentication\n",
        "        self.__bal = self.__bal - amount\n",
        "        return self.__bal"
      ],
      "metadata": {
        "id": "VeMlf1QuXWj3"
      },
      "execution_count": 227,
      "outputs": []
    },
    {
      "cell_type": "markdown",
      "source": [
        "**Hiding data behind methods is the central concept of encapsulation**\n",
        "* Advantages\n",
        "> 1. Security\n",
        "> 2. Enhancement will become very easy\n",
        "> 3. Maintainability and Modularity of the application imporved\n",
        "\n",
        "* The main advantages of encapsulation is security.\n",
        "* The main limitation of encapsulation is it increases length of the code and slows down execution. We should compromise with performance\n",
        "> * If we want security we should compromise with performance\n",
        "> * If we want performance we should compromise with security\n"
      ],
      "metadata": {
        "id": "aUt7Urjgjfdh"
      }
    },
    {
      "cell_type": "markdown",
      "source": [
        "## The Three Pillars of OOPs\n",
        "1. Inheritance\n",
        "> Code reusability and extendability\n",
        "2. Polymorphism\n",
        "> Flexibility\n",
        "3. Encapsulation\n",
        "> Security"
      ],
      "metadata": {
        "id": "wvgRtshRmpOS"
      }
    }
  ]
}